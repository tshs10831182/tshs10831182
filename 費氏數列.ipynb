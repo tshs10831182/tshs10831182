{
  "nbformat": 4,
  "nbformat_minor": 0,
  "metadata": {
    "colab": {
      "name": "費氏數列.ipynb",
      "provenance": [],
      "authorship_tag": "ABX9TyMo/i2SyvEYdt0uX9Johx8U",
      "include_colab_link": true
    },
    "kernelspec": {
      "name": "python3",
      "display_name": "Python 3"
    }
  },
  "cells": [
    {
      "cell_type": "markdown",
      "metadata": {
        "id": "view-in-github",
        "colab_type": "text"
      },
      "source": [
        "<a href=\"https://colab.research.google.com/github/tshs10831182/tshs10831182repo/blob/master/%E8%B2%BB%E6%B0%8F%E6%95%B8%E5%88%97.ipynb\" target=\"_parent\"><img src=\"https://colab.research.google.com/assets/colab-badge.svg\" alt=\"Open In Colab\"/></a>"
      ]
    },
    {
      "cell_type": "code",
      "metadata": {
        "id": "IYhqx0JE5CAZ"
      },
      "source": [
        "def number(n):\n",
        "    if n==0:\n",
        "        return 0;\n",
        "    elif n==1:\n",
        "        return 1;\n",
        "    return number(n-1) + number(n-2)\n"
      ],
      "execution_count": 44,
      "outputs": []
    },
    {
      "cell_type": "code",
      "metadata": {
        "id": "7EiM3m66QDcm",
        "outputId": "3c4d79c2-1606-4b20-b703-254edf69444c",
        "colab": {
          "base_uri": "https://localhost:8080/",
          "height": 34
        }
      },
      "source": [
        "number(10)"
      ],
      "execution_count": 45,
      "outputs": [
        {
          "output_type": "execute_result",
          "data": {
            "text/plain": [
              "55"
            ]
          },
          "metadata": {
            "tags": []
          },
          "execution_count": 45
        }
      ]
    },
    {
      "cell_type": "code",
      "metadata": {
        "id": "QWc7YEbDPVjw"
      },
      "source": [
        ""
      ],
      "execution_count": null,
      "outputs": []
    }
  ]
}