{
  "nbformat": 4,
  "nbformat_minor": 0,
  "metadata": {
    "colab": {
      "name": "費氏數列.ipynb",
      "provenance": [],
      "authorship_tag": "ABX9TyP+FmLymXx6dz3Fwi8PmZ67",
      "include_colab_link": true
    },
    "kernelspec": {
      "name": "python3",
      "display_name": "Python 3"
    }
  },
  "cells": [
    {
      "cell_type": "markdown",
      "metadata": {
        "id": "view-in-github",
        "colab_type": "text"
      },
      "source": [
        "<a href=\"https://colab.research.google.com/github/tshs10831182/tshs10831182repo/blob/master/%E8%B2%BB%E6%B0%8F%E6%95%B8%E5%88%97.ipynb\" target=\"_parent\"><img src=\"https://colab.research.google.com/assets/colab-badge.svg\" alt=\"Open In Colab\"/></a>"
      ]
    },
    {
      "cell_type": "code",
      "metadata": {
        "id": "IYhqx0JE5CAZ"
      },
      "source": [
        "def number(n):\n",
        "    if n==0:\n",
        "        return 0;\n",
        "    elif n==1:\n",
        "        return 1;\n",
        "    return number(n-1) + number(n-2)"
      ],
      "execution_count": 91,
      "outputs": []
    },
    {
      "cell_type": "code",
      "metadata": {
        "id": "7EiM3m66QDcm",
        "outputId": "d8b77bb8-81e7-411e-ae7e-a167a77a4aa6",
        "colab": {
          "base_uri": "https://localhost:8080/",
          "height": 217
        }
      },
      "source": [
        "print(number(0))\n",
        "print(number(1))\n",
        "print(number(2))\n",
        "print(number(3))\n",
        "print(number(4))\n",
        "print(number(5))\n",
        "print(number(6))\n",
        "print(number(7))\n",
        "print(number(8))\n",
        "print(number(9))\n",
        "print(number(10))"
      ],
      "execution_count": 106,
      "outputs": [
        {
          "output_type": "stream",
          "text": [
            "0\n",
            "1\n",
            "1\n",
            "2\n",
            "3\n",
            "5\n",
            "8\n",
            "13\n",
            "21\n",
            "34\n",
            "55\n"
          ],
          "name": "stdout"
        }
      ]
    },
    {
      "cell_type": "code",
      "metadata": {
        "id": "QWc7YEbDPVjw"
      },
      "source": [
        ""
      ],
      "execution_count": null,
      "outputs": []
    }
  ]
}