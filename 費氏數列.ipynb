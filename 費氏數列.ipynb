{
  "nbformat": 4,
  "nbformat_minor": 0,
  "metadata": {
    "colab": {
      "name": "費氏數列.ipynb",
      "provenance": [],
      "authorship_tag": "ABX9TyMUD7+WEt2yx78qosuitUyl",
      "include_colab_link": true
    },
    "kernelspec": {
      "name": "python3",
      "display_name": "Python 3"
    }
  },
  "cells": [
    {
      "cell_type": "markdown",
      "metadata": {
        "id": "view-in-github",
        "colab_type": "text"
      },
      "source": [
        "<a href=\"https://colab.research.google.com/github/tshs10831182/tshs10831182repo/blob/master/%E8%B2%BB%E6%B0%8F%E6%95%B8%E5%88%97.ipynb\" target=\"_parent\"><img src=\"https://colab.research.google.com/assets/colab-badge.svg\" alt=\"Open In Colab\"/></a>"
      ]
    },
    {
      "cell_type": "code",
      "metadata": {
        "id": "IYhqx0JE5CAZ"
      },
      "source": [
        "def number(n):\n",
        "    if n==0:\n",
        "        return 0;\n",
        "    elif n==1:\n",
        "        return 1;\n",
        "    return number(n-1) + number(n-2)"
      ],
      "execution_count": 91,
      "outputs": []
    },
    {
      "cell_type": "code",
      "metadata": {
        "id": "7EiM3m66QDcm"
      },
      "source": [
        "print(number(0))\n",
        "print(number(1))\n",
        "print(number(2))\n",
        "print(number(3))\n",
        "print(number(4))\n",
        "print(number(5))\n",
        "print(number(6))\n",
        "print(number(7))\n",
        "print(number(8))\n",
        "print(number(9))\n",
        "print(number(10))"
      ],
      "execution_count": null,
      "outputs": []
    },
    {
      "cell_type": "code",
      "metadata": {
        "id": "QWc7YEbDPVjw",
        "outputId": "fb3323e8-da86-4e55-9eac-29282ff1115a",
        "colab": {
          "base_uri": "https://localhost:8080/",
          "height": 35
        }
      },
      "source": [
        "print(number(12),\"隻\")"
      ],
      "execution_count": 108,
      "outputs": [
        {
          "output_type": "stream",
          "text": [
            "144 隻\n"
          ],
          "name": "stdout"
        }
      ]
    }
  ]
}