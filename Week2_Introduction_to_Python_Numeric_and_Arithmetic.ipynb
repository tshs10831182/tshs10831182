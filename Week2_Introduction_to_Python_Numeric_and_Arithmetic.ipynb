{
  "nbformat": 4,
  "nbformat_minor": 0,
  "metadata": {
    "kernelspec": {
      "display_name": "Python 3",
      "language": "python",
      "name": "python3"
    },
    "language_info": {
      "codemirror_mode": {
        "name": "ipython",
        "version": 3
      },
      "file_extension": ".py",
      "mimetype": "text/x-python",
      "name": "python",
      "nbconvert_exporter": "python",
      "pygments_lexer": "ipython3",
      "version": "3.7.4"
    },
    "colab": {
      "name": "Week2 Introduction to Python Numeric and Arithmetic.ipynb",
      "provenance": [],
      "include_colab_link": true
    }
  },
  "cells": [
    {
      "cell_type": "markdown",
      "metadata": {
        "id": "view-in-github",
        "colab_type": "text"
      },
      "source": [
        "<a href=\"https://colab.research.google.com/github/tshs10831182/tshs10831182repo/blob/master/Week2_Introduction_to_Python_Numeric_and_Arithmetic.ipynb\" target=\"_parent\"><img src=\"https://colab.research.google.com/assets/colab-badge.svg\" alt=\"Open In Colab\"/></a>"
      ]
    },
    {
      "cell_type": "markdown",
      "metadata": {
        "id": "u1-2MwYsJOeh",
        "colab_type": "text"
      },
      "source": [
        "![](http://www.tshs.tp.edu.tw/images/bg/logo.jpg) \n",
        "\n",
        "## 多元選修課程：Python與人工智慧程式設計\n",
        "\n",
        "# 【第二週】使用Python來當計算機 - 變數與數學運算範例程式"
      ]
    },
    {
      "cell_type": "markdown",
      "metadata": {
        "id": "FkXOW9MOJOei",
        "colab_type": "text"
      },
      "source": [
        "## 【任務2-3】什麼是變數\n",
        "\n",
        "變數名稱的主要規則：\n",
        "- 由英文字母、底線( _ )、或是萬國碼(unicode)字元開頭\n",
        "- 只能包含英文字母、底線( _ )、或是萬國碼(unicode)字元\n",
        "- 英文字母大小寫是有區分的\n",
        "\n",
        "下面這些都是合法的變數名稱。"
      ]
    },
    {
      "cell_type": "code",
      "metadata": {
        "id": "RwXUqIpgJOej",
        "colab_type": "code",
        "colab": {}
      },
      "source": [
        "a = 1"
      ],
      "execution_count": null,
      "outputs": []
    },
    {
      "cell_type": "code",
      "metadata": {
        "id": "hRdUXBJfJ3pa",
        "colab_type": "code",
        "colab": {
          "base_uri": "https://localhost:8080/",
          "height": 34
        },
        "outputId": "d8c3c7b7-a12a-4fdc-dee2-7f9fed290e92"
      },
      "source": [
        "a"
      ],
      "execution_count": null,
      "outputs": [
        {
          "output_type": "execute_result",
          "data": {
            "text/plain": [
              "1"
            ]
          },
          "metadata": {
            "tags": []
          },
          "execution_count": 6
        }
      ]
    },
    {
      "cell_type": "code",
      "metadata": {
        "id": "oi1j6z9qJOem",
        "colab_type": "code",
        "colab": {}
      },
      "source": [
        "_foo = 2"
      ],
      "execution_count": null,
      "outputs": []
    },
    {
      "cell_type": "code",
      "metadata": {
        "id": "V9E9ERp7J-7h",
        "colab_type": "code",
        "colab": {
          "base_uri": "https://localhost:8080/",
          "height": 34
        },
        "outputId": "4ea69692-1c4b-4811-d4a1-2ebd712f2068"
      },
      "source": [
        "_foo"
      ],
      "execution_count": null,
      "outputs": [
        {
          "output_type": "execute_result",
          "data": {
            "text/plain": [
              "2"
            ]
          },
          "metadata": {
            "tags": []
          },
          "execution_count": 8
        }
      ]
    },
    {
      "cell_type": "code",
      "metadata": {
        "id": "qLIaBHyxJOep",
        "colab_type": "code",
        "colab": {}
      },
      "source": [
        "ψ = \"Psi\""
      ],
      "execution_count": null,
      "outputs": []
    },
    {
      "cell_type": "code",
      "metadata": {
        "id": "MnL79PO2JOes",
        "colab_type": "code",
        "colab": {}
      },
      "source": [
        "사이코지만괜찮아 = 3"
      ],
      "execution_count": null,
      "outputs": []
    },
    {
      "cell_type": "markdown",
      "metadata": {
        "id": "fpX_U7MjJOev",
        "colab_type": "text"
      },
      "source": [
        "運算子(operator)在程式語言的運算扮演很重要的角色，運算子可分為指定運算子、算術運算子、邏輯運算子。在本週「使用Python來當計算機」的內容中，我們會用到的是**指定運算子**和**算術運算子**。\n",
        "\n",
        "## 【任務2-4】認識指定運算子(assignment operator)：`=`\n",
        "\n",
        "在我們將數值或者其他的資料型別值給予變數時，我們使用指定運算子。"
      ]
    },
    {
      "cell_type": "code",
      "metadata": {
        "id": "MFvb1YsDJOew",
        "colab_type": "code",
        "colab": {}
      },
      "source": [
        "# 指定變數的值為3\n",
        "x = 3"
      ],
      "execution_count": null,
      "outputs": []
    },
    {
      "cell_type": "code",
      "metadata": {
        "id": "jXRxwrC6JOey",
        "colab_type": "code",
        "colab": {}
      },
      "source": [
        "# 可以多重指定，每個變數值都是10\n",
        "x = y = z = 10"
      ],
      "execution_count": null,
      "outputs": []
    },
    {
      "cell_type": "code",
      "metadata": {
        "id": "4BLD9W5BJOe1",
        "colab_type": "code",
        "colab": {},
        "outputId": "7f6bc6eb-06b8-47da-9a95-d24a2e369dc1"
      },
      "source": [
        "x"
      ],
      "execution_count": null,
      "outputs": [
        {
          "output_type": "execute_result",
          "data": {
            "text/plain": [
              "10"
            ]
          },
          "metadata": {
            "tags": []
          },
          "execution_count": 7
        }
      ]
    },
    {
      "cell_type": "code",
      "metadata": {
        "id": "6z18jZwDJOe4",
        "colab_type": "code",
        "colab": {},
        "outputId": "04f80e5c-9d80-4f78-8742-f30c777b1c10"
      },
      "source": [
        "y"
      ],
      "execution_count": null,
      "outputs": [
        {
          "output_type": "execute_result",
          "data": {
            "text/plain": [
              "10"
            ]
          },
          "metadata": {
            "tags": []
          },
          "execution_count": 8
        }
      ]
    },
    {
      "cell_type": "code",
      "metadata": {
        "id": "gCLQSeSGJOe7",
        "colab_type": "code",
        "colab": {},
        "outputId": "c01b545a-6e6f-4969-8a72-169aa8b05ab8"
      },
      "source": [
        "z"
      ],
      "execution_count": null,
      "outputs": [
        {
          "output_type": "execute_result",
          "data": {
            "text/plain": [
              "10"
            ]
          },
          "metadata": {
            "tags": []
          },
          "execution_count": 9
        }
      ]
    },
    {
      "cell_type": "code",
      "metadata": {
        "id": "z7XZ6NjEJOe9",
        "colab_type": "code",
        "colab": {}
      },
      "source": [
        "# 多個變數指定不同的值\n",
        "a, b = 10, 20"
      ],
      "execution_count": null,
      "outputs": []
    },
    {
      "cell_type": "code",
      "metadata": {
        "id": "dPjbx_FHJOfA",
        "colab_type": "code",
        "colab": {},
        "outputId": "54a2ab3a-31cf-4efc-9c3e-d991eca95249"
      },
      "source": [
        "print('x的值是:', a)\n",
        "print('y的值是:', b)"
      ],
      "execution_count": null,
      "outputs": [
        {
          "output_type": "stream",
          "text": [
            "x的值是: 10\n",
            "y的值是: 20\n"
          ],
          "name": "stdout"
        }
      ]
    },
    {
      "cell_type": "markdown",
      "metadata": {
        "id": "lj7A0_FXJOfD",
        "colab_type": "text"
      },
      "source": [
        "## 【任務2-5】認識Python的數值型別 (Numeric Types)\n",
        "\n",
        "Python 內建三種數值型別：\n",
        "- int 整數\n",
        "- float 浮點數\n",
        "- complex 複數"
      ]
    },
    {
      "cell_type": "code",
      "metadata": {
        "id": "RotbyQ0tJOfD",
        "colab_type": "code",
        "colab": {}
      },
      "source": [
        "x = 1        # int\n",
        "y = 2.8      # float\n",
        "z = 1+2.3j   # complex, 虛部數字後面加個 'j'"
      ],
      "execution_count": null,
      "outputs": []
    },
    {
      "cell_type": "code",
      "metadata": {
        "id": "PWFbtOcZJOfG",
        "colab_type": "code",
        "colab": {},
        "outputId": "5f8c1976-1c45-4241-95c0-342d7a225065"
      },
      "source": [
        "print(type(x))\n",
        "print(type(y))\n",
        "print(type(z))"
      ],
      "execution_count": null,
      "outputs": [
        {
          "output_type": "stream",
          "text": [
            "<class 'int'>\n",
            "<class 'float'>\n",
            "<class 'complex'>\n"
          ],
          "name": "stdout"
        }
      ]
    },
    {
      "cell_type": "markdown",
      "metadata": {
        "id": "IaoKZa_NJOfI",
        "colab_type": "text"
      },
      "source": [
        "### 科學記號 (Scientific Notation)\n",
        "\n",
        "科學記號最早是阿基米德提出，在科學記號中，一個數被寫成一個**實數**與一個10的n次方的積。\n",
        "\n",
        "$ a \\times 10^n $\n",
        "\n",
        "通常 $ 1 \\le |a| < 10$，如果 $a$ 大於10或是小於1的話，可以透過調整 $n$ 的值來達成。\n",
        "\n",
        "例如：123456可以用科學記號寫為 $1.23456 \\times 10^5$\n",
        "\n",
        "在Python中，底數可以用大寫E或是小寫e表示。"
      ]
    },
    {
      "cell_type": "code",
      "metadata": {
        "id": "FXkPjk52JOfI",
        "colab_type": "code",
        "colab": {
          "base_uri": "https://localhost:8080/",
          "height": 68
        },
        "outputId": "3f1c5c7c-ab6f-430e-97df-07be5aa2b0a6"
      },
      "source": [
        "x = 35e3\n",
        "y = 12E+13\n",
        "z = -87.7e100\n",
        "\n",
        "print(x)\n",
        "print(y)\n",
        "print(z) "
      ],
      "execution_count": null,
      "outputs": [
        {
          "output_type": "stream",
          "text": [
            "35000.0\n",
            "120000000000000.0\n",
            "-8.77e+101\n"
          ],
          "name": "stdout"
        }
      ]
    },
    {
      "cell_type": "markdown",
      "metadata": {
        "id": "E18cesNUJOfL",
        "colab_type": "text"
      },
      "source": [
        "如果我們希望定義顯示科學記號的數字格式，可以用 `print()` 函式的格式化輸出，下面範例示範的是用科學記號輸出並帶2位小數。"
      ]
    },
    {
      "cell_type": "code",
      "metadata": {
        "id": "Ik7rn89vJOfM",
        "colab_type": "code",
        "colab": {
          "base_uri": "https://localhost:8080/",
          "height": 34
        },
        "outputId": "0f56fa32-c4e1-42c6-aa1f-6a5c9d400558"
      },
      "source": [
        "print('{:,.2e}'.format(x))"
      ],
      "execution_count": null,
      "outputs": [
        {
          "output_type": "stream",
          "text": [
            "3.50e+04\n"
          ],
          "name": "stdout"
        }
      ]
    },
    {
      "cell_type": "markdown",
      "metadata": {
        "id": "OTN-xBHzJOfO",
        "colab_type": "text"
      },
      "source": [
        "## 【任務2-6】使用Python來當計算機：算術運算子有哪一些\n",
        "\n",
        "### 四則運算運算子\n",
        "\n",
        "|運算子|意義|舉例|\n",
        "|---|---|---|\n",
        "|+|加法|a+b|\n",
        "|-|減法|a-b|\n",
        "|*|乘法|a*b|\n",
        "|/|除法|a/b|\n",
        "\n",
        "範例："
      ]
    },
    {
      "cell_type": "code",
      "metadata": {
        "id": "m2f74KOhJOfO",
        "colab_type": "code",
        "colab": {},
        "outputId": "bbbec495-a3bf-4541-ab0b-30dab1802228"
      },
      "source": [
        "9+4"
      ],
      "execution_count": null,
      "outputs": [
        {
          "output_type": "execute_result",
          "data": {
            "text/plain": [
              "13"
            ]
          },
          "metadata": {
            "tags": []
          },
          "execution_count": 16
        }
      ]
    },
    {
      "cell_type": "code",
      "metadata": {
        "id": "AfkxOtzgJOfR",
        "colab_type": "code",
        "colab": {},
        "outputId": "01b9a625-7aa6-49e3-aa79-b73fbd64d4af"
      },
      "source": [
        "a = 5\n",
        "b = 3\n",
        "\n",
        "a / b"
      ],
      "execution_count": null,
      "outputs": [
        {
          "output_type": "execute_result",
          "data": {
            "text/plain": [
              "1.6666666666666667"
            ]
          },
          "metadata": {
            "tags": []
          },
          "execution_count": 17
        }
      ]
    },
    {
      "cell_type": "markdown",
      "metadata": {
        "id": "sgcjjG6PJOfT",
        "colab_type": "text"
      },
      "source": [
        "除法若分母為0的話，則會產生錯誤。"
      ]
    },
    {
      "cell_type": "code",
      "metadata": {
        "id": "lGPc0DZvJOfU",
        "colab_type": "code",
        "colab": {},
        "outputId": "2fac0657-003a-4e86-aade-6c824bf64cc6"
      },
      "source": [
        "3/0"
      ],
      "execution_count": null,
      "outputs": [
        {
          "output_type": "error",
          "ename": "ZeroDivisionError",
          "evalue": "division by zero",
          "traceback": [
            "\u001b[0;31m---------------------------------------------------------------------------\u001b[0m",
            "\u001b[0;31mZeroDivisionError\u001b[0m                         Traceback (most recent call last)",
            "\u001b[0;32m<ipython-input-18-f6cc6d14333b>\u001b[0m in \u001b[0;36m<module>\u001b[0;34m\u001b[0m\n\u001b[0;32m----> 1\u001b[0;31m \u001b[0;36m3\u001b[0m\u001b[0;34m/\u001b[0m\u001b[0;36m0\u001b[0m\u001b[0;34m\u001b[0m\u001b[0;34m\u001b[0m\u001b[0m\n\u001b[0m",
            "\u001b[0;31mZeroDivisionError\u001b[0m: division by zero"
          ]
        }
      ]
    },
    {
      "cell_type": "markdown",
      "metadata": {
        "id": "PTFmFED3JOfW",
        "colab_type": "text"
      },
      "source": [
        "### 餘數、整除、指數\n",
        "\n",
        "|運算子|意義|舉例|\n",
        "|---|---|---|\n",
        "|%|餘數|a%b|\n",
        "|//|整除|a//b|\n",
        "|**|指數|a\\*\\*3 或是 a\\*\\*b|\n",
        "\n",
        "範例：5除以3的餘數及整除數。"
      ]
    },
    {
      "cell_type": "code",
      "metadata": {
        "id": "7NpRuuDPJOfW",
        "colab_type": "code",
        "colab": {}
      },
      "source": [
        "a = 5\n",
        "b = 3"
      ],
      "execution_count": null,
      "outputs": []
    },
    {
      "cell_type": "code",
      "metadata": {
        "id": "3A6aBOBJJOfY",
        "colab_type": "code",
        "colab": {},
        "outputId": "0bc6009d-b1bb-42cb-d5e4-940453e91641"
      },
      "source": [
        "a % b"
      ],
      "execution_count": null,
      "outputs": [
        {
          "output_type": "execute_result",
          "data": {
            "text/plain": [
              "2"
            ]
          },
          "metadata": {
            "tags": []
          },
          "execution_count": 20
        }
      ]
    },
    {
      "cell_type": "code",
      "metadata": {
        "id": "Nb1T0HPYJOfa",
        "colab_type": "code",
        "colab": {},
        "outputId": "781a6296-d432-4c73-95cb-47b2c2cef157"
      },
      "source": [
        "a // b"
      ],
      "execution_count": null,
      "outputs": [
        {
          "output_type": "execute_result",
          "data": {
            "text/plain": [
              "1"
            ]
          },
          "metadata": {
            "tags": []
          },
          "execution_count": 21
        }
      ]
    },
    {
      "cell_type": "markdown",
      "metadata": {
        "id": "DcyKyfrOJOfd",
        "colab_type": "text"
      },
      "source": [
        "範例：$5^2=25$"
      ]
    },
    {
      "cell_type": "code",
      "metadata": {
        "id": "8Q4Dli31JOfd",
        "colab_type": "code",
        "colab": {},
        "outputId": "df5d7b8a-e862-4576-ca84-756ac1f9b78a"
      },
      "source": [
        "a**2"
      ],
      "execution_count": null,
      "outputs": [
        {
          "output_type": "execute_result",
          "data": {
            "text/plain": [
              "25"
            ]
          },
          "metadata": {
            "tags": []
          },
          "execution_count": 22
        }
      ]
    },
    {
      "cell_type": "markdown",
      "metadata": {
        "id": "30r9zj2LJOff",
        "colab_type": "text"
      },
      "source": [
        "### 【挑戰】指數的計算：計算每立方公分汙染物的顆數\n",
        "\n",
        "控制汙染已經成為全球共同面對的課題，科學家用電腦分析歷年的細懸浮微粒中汙染物質的資料，針對某個城市建立了一個汙染物質數量的模型：已知 1980 年時細懸浮微粒中汙染物質為 14000 (顆／立方公分)，1980 年後經過 t 年每立方公分汙染物的顆數為 P，其中\n",
        "\n",
        "$\\Large P＝1000t^{\\frac{5}{4}} ＋14000$\n",
        "\n",
        "利用這個模型來計算 6 年後每立方公分汙染物的顆數為多少？\n",
        "\n",
        "請使用Python來計算出P值。\n",
        "\n",
        "_[題目來源] 南一高中數學_"
      ]
    },
    {
      "cell_type": "code",
      "metadata": {
        "id": "wW4YV-kuJOfg",
        "colab_type": "code",
        "colab": {}
      },
      "source": [
        "# 請在下一行開始輸入你的程式碼\n"
      ],
      "execution_count": null,
      "outputs": []
    },
    {
      "cell_type": "markdown",
      "metadata": {
        "id": "_-Y2gxgKJOfi",
        "colab_type": "text"
      },
      "source": [
        "那我們可以同時取得整除數及餘數嗎？答案是可以的。\n",
        "\n",
        "```python\n",
        "divmod(x, y)\n",
        "```\n",
        "\n",
        "請同學自己試試看，呼叫內建函式 `divmod()` 會有什麼結果。"
      ]
    },
    {
      "cell_type": "code",
      "metadata": {
        "id": "Kj2I6mChJOfj",
        "colab_type": "code",
        "colab": {}
      },
      "source": [
        "# 請在下一行開始輸入你的程式碼\n"
      ],
      "execution_count": null,
      "outputs": []
    },
    {
      "cell_type": "markdown",
      "metadata": {
        "id": "H2vrffpbJOfl",
        "colab_type": "text"
      },
      "source": [
        "### 指派運算子\n",
        "\n",
        "|運算子|舉例|說明|\n",
        "|---|---|---|\n",
        "|+=|a+=b|a=a+b|\n",
        "|-=|a-=b|a=a-b|\n",
        "|*=|a*=b|a=a*b|\n",
        "|/=|a/=b|a=a/b|\n",
        "|%=|a%=b|a=a%b|\n",
        "|//=|a//=b|a=a//b|\n",
        "|**=|a**=b|a=a**b|\n",
        "\n",
        "範例：\n",
        "\n",
        "$a \\: += \\: b$ 的意思就是\n",
        "\n",
        "$a=a+b$"
      ]
    },
    {
      "cell_type": "code",
      "metadata": {
        "id": "0Tr9jtHxJOfl",
        "colab_type": "code",
        "colab": {},
        "outputId": "4f1b0f9e-6ca1-49e7-ae98-669071d67302"
      },
      "source": [
        "a = 1\n",
        "b = 2\n",
        "\n",
        "a += b\n",
        "a"
      ],
      "execution_count": null,
      "outputs": [
        {
          "output_type": "execute_result",
          "data": {
            "text/plain": [
              "3"
            ]
          },
          "metadata": {
            "tags": []
          },
          "execution_count": 25
        }
      ]
    },
    {
      "cell_type": "markdown",
      "metadata": {
        "id": "WwnYfRDXJOfn",
        "colab_type": "text"
      },
      "source": [
        "### 正負號\n",
        "\n",
        "|正負號|意義|\n",
        "|---|---|\n",
        "|+|正負號不變|\n",
        "|-|正負號取反|\n",
        "\n",
        "範例："
      ]
    },
    {
      "cell_type": "code",
      "metadata": {
        "id": "FyDmh3SUJOfo",
        "colab_type": "code",
        "colab": {},
        "outputId": "8518aa9e-daf4-4fe6-9ae7-a7af7c86f05a"
      },
      "source": [
        "a = -2\n",
        "-a"
      ],
      "execution_count": null,
      "outputs": [
        {
          "output_type": "execute_result",
          "data": {
            "text/plain": [
              "2"
            ]
          },
          "metadata": {
            "tags": []
          },
          "execution_count": 26
        }
      ]
    },
    {
      "cell_type": "code",
      "metadata": {
        "id": "oERmCeovJOfq",
        "colab_type": "code",
        "colab": {},
        "outputId": "f7c8eed9-63c0-4bb0-c642-759918cbfe57"
      },
      "source": [
        "+a"
      ],
      "execution_count": null,
      "outputs": [
        {
          "output_type": "execute_result",
          "data": {
            "text/plain": [
              "-2"
            ]
          },
          "metadata": {
            "tags": []
          },
          "execution_count": 27
        }
      ]
    },
    {
      "cell_type": "markdown",
      "metadata": {
        "id": "lpMtthAjJOfs",
        "colab_type": "text"
      },
      "source": [
        "## 【任務2-7】使用Python來當計算機：內建的math模組"
      ]
    },
    {
      "cell_type": "code",
      "metadata": {
        "id": "RDRox3W-JOft",
        "colab_type": "code",
        "colab": {}
      },
      "source": [
        "import math"
      ],
      "execution_count": null,
      "outputs": []
    },
    {
      "cell_type": "markdown",
      "metadata": {
        "id": "0t8YvfLOJOfz",
        "colab_type": "text"
      },
      "source": [
        "### 常用的數學常數：$\\pi$ 與 $e$"
      ]
    },
    {
      "cell_type": "code",
      "metadata": {
        "id": "d84Ji0FUJOfz",
        "colab_type": "code",
        "colab": {},
        "outputId": "971f6bf8-488c-436f-d7bd-ccf492a6c4e1"
      },
      "source": [
        "math.pi"
      ],
      "execution_count": null,
      "outputs": [
        {
          "output_type": "execute_result",
          "data": {
            "text/plain": [
              "3.141592653589793"
            ]
          },
          "metadata": {
            "tags": []
          },
          "execution_count": 29
        }
      ]
    },
    {
      "cell_type": "code",
      "metadata": {
        "id": "X1n4x1MTJOf1",
        "colab_type": "code",
        "colab": {},
        "outputId": "e140591e-763a-4c6e-8e56-f1884c252ab9"
      },
      "source": [
        "radius = 3\n",
        "\n",
        "area = 3 ** 2 * math.pi\n",
        "C = radius * 2 * math.pi\n",
        "\n",
        "print(\"半徑長為3的圓面積為:\", area)\n",
        "print(\"半徑長為3的圓周長為:\", C)"
      ],
      "execution_count": null,
      "outputs": [
        {
          "output_type": "stream",
          "text": [
            "半徑長為3的圓面積為: 28.274333882308138\n",
            "半徑長為3的圓周長為: 18.84955592153876\n"
          ],
          "name": "stdout"
        }
      ]
    },
    {
      "cell_type": "markdown",
      "metadata": {
        "id": "WS7KCBg7JOf3",
        "colab_type": "text"
      },
      "source": [
        "自然常數 $e$，作為數學常數，是自然對數函數的底數。有時被稱為歐拉數（Euler's number）。"
      ]
    },
    {
      "cell_type": "code",
      "metadata": {
        "id": "Zx0Fu8DBJOf3",
        "colab_type": "code",
        "colab": {},
        "outputId": "4680ebd1-2bb0-4f28-a1b2-19db4cd98f2c"
      },
      "source": [
        "math.e"
      ],
      "execution_count": null,
      "outputs": [
        {
          "output_type": "execute_result",
          "data": {
            "text/plain": [
              "2.718281828459045"
            ]
          },
          "metadata": {
            "tags": []
          },
          "execution_count": 31
        }
      ]
    },
    {
      "cell_type": "markdown",
      "metadata": {
        "id": "DCVziTMrJOf5",
        "colab_type": "text"
      },
      "source": [
        "### 求最大公因數：`math.gcd()` 函式\n",
        "\n",
        "`math` 模組提供最大公因數的函式 `gcd()`，用法如下："
      ]
    },
    {
      "cell_type": "code",
      "metadata": {
        "id": "6fH1RcsPJOf5",
        "colab_type": "code",
        "colab": {},
        "outputId": "933ba390-5734-4176-a91b-cee0c8a11941"
      },
      "source": [
        "math.gcd(18, 12)"
      ],
      "execution_count": null,
      "outputs": [
        {
          "output_type": "execute_result",
          "data": {
            "text/plain": [
              "6"
            ]
          },
          "metadata": {
            "tags": []
          },
          "execution_count": 32
        }
      ]
    },
    {
      "cell_type": "markdown",
      "metadata": {
        "id": "y48FFkP1JOf7",
        "colab_type": "text"
      },
      "source": [
        "### 平方根：`math.sqrt()` 函式\n",
        "\n",
        "`math` 模組提供平方根的函式 `sqrt()`，用法如下："
      ]
    },
    {
      "cell_type": "code",
      "metadata": {
        "id": "JRqsOoqOJOf8",
        "colab_type": "code",
        "colab": {},
        "outputId": "7fca4b95-9451-43e8-c8f9-8630355e0c2c"
      },
      "source": [
        "math.sqrt(9)"
      ],
      "execution_count": null,
      "outputs": [
        {
          "output_type": "execute_result",
          "data": {
            "text/plain": [
              "3.0"
            ]
          },
          "metadata": {
            "tags": []
          },
          "execution_count": 33
        }
      ]
    },
    {
      "cell_type": "markdown",
      "metadata": {
        "id": "KpRc85kpJOf-",
        "colab_type": "text"
      },
      "source": [
        "### 【挑戰】用Python及海龍公式(Heron's formula)計算三角形面積\n",
        "\n",
        "海龍公式是亞歷山大港的海龍發現的，並可在其於公元60年的著作《Metrica》中找到其證明，但也有一說該公式的發現時期很有可能先於海龍的著作。\n",
        "\n",
        "海龍公式利用三角形的三條邊長來求取三角形面積。假設三角形的三個邊長各為$a, b, c$。\n",
        "\n",
        "三角形的半周長(semiperimeter)\n",
        "\n",
        "$s = \\Large\\frac{a+b+c}{2}$\n",
        "\n",
        "三角形的面積\n",
        "\n",
        "$A=\\sqrt{s(s-a)(s-b)(s-c)}$\n",
        "\n",
        "請利用海龍公式及Python，計算出邊長為4, 13, 15的三角形面積。\n",
        "\n",
        "_[資料來源] 維基百科_"
      ]
    },
    {
      "cell_type": "code",
      "metadata": {
        "id": "1XbzpQy9JOf-",
        "colab_type": "code",
        "colab": {}
      },
      "source": [
        "# 請在下一行開始輸入你的程式碼\n"
      ],
      "execution_count": null,
      "outputs": []
    },
    {
      "cell_type": "markdown",
      "metadata": {
        "id": "rtrI1VSGJOgA",
        "colab_type": "text"
      },
      "source": [
        "### 對數 (Logarithm)\n",
        "\n",
        "`math` 模組提供不同底數的對數函式，常用的有\n",
        "\n",
        "```python\n",
        "math.log(x[, base])\n",
        "math.log2(x)\n",
        "math.log10(x)\n",
        "```\n",
        "\n",
        "base值是不同的對數底數。\n",
        "\n",
        "對數在高中數學課本中使用的是10為底數的對數，而在電腦科學或是AI中我們則是多用到以自然常數 $e$ 為底數。"
      ]
    },
    {
      "cell_type": "markdown",
      "metadata": {
        "id": "KnPNwGmfJOgA",
        "colab_type": "text"
      },
      "source": [
        "高中數學：\n",
        "\n",
        "$1000 = 10^3$\n",
        "\n",
        "$\\log 1000 = 3$\n",
        "\n",
        "用Python來撰寫上面的對數的範例如下："
      ]
    },
    {
      "cell_type": "code",
      "metadata": {
        "id": "vqT5mT2HJOgB",
        "colab_type": "code",
        "colab": {},
        "outputId": "f306f5ee-d647-4481-a3e2-9da35f622f5e"
      },
      "source": [
        "math.log10(1000)"
      ],
      "execution_count": null,
      "outputs": [
        {
          "output_type": "execute_result",
          "data": {
            "text/plain": [
              "3.0"
            ]
          },
          "metadata": {
            "tags": []
          },
          "execution_count": 35
        }
      ]
    },
    {
      "cell_type": "markdown",
      "metadata": {
        "id": "-U-9wRucJOgC",
        "colab_type": "text"
      },
      "source": [
        "### 【挑戰】對數的計算：臺北市市民步行速度\n",
        "\n",
        "有個社會學的研究發現：生活在總人口為 p (千人) 的城市中的人，其步行速度 v (公尺／秒)，可以近似於以下的關係式：\n",
        "\n",
        "$v＝0.26 \\times \\log p＋0.02$\n",
        "\n",
        "請根據這個關係式回答以下問題：\n",
        "臺北市的人口約 267 萬人，試問臺北市市民步行速度約是多少公尺／秒？(顯示位數到小數點後第二位) \n",
        "\n",
        "請使用Python來計算出v值。\n",
        "\n",
        "提示：\n",
        "- 要顯示位數到小數點後第二位，使用 `print()` 的格式化輸出，範例語法如下，表示輸出的格式為2位小數的浮點數。\n",
        "\n",
        "```python\n",
        "print('{:,.2f}'.format(x))\n",
        "```\n",
        "\n",
        "_[題目來源] 南一高中數學_"
      ]
    },
    {
      "cell_type": "code",
      "metadata": {
        "id": "L1CAAEmmJOgD",
        "colab_type": "code",
        "colab": {}
      },
      "source": [
        "# 請在下一行開始輸入你的程式碼\n"
      ],
      "execution_count": null,
      "outputs": []
    },
    {
      "cell_type": "markdown",
      "metadata": {
        "id": "DkETVLqeJOgF",
        "colab_type": "text"
      },
      "source": [
        "![](https://www.sympy.org/static/images/logo.png)\n",
        "\n",
        "SymPy是一個免費的符號計算的庫(Library),它完全由Python寫成。\n",
        "\n",
        "SymPy支持符號計算、高精度計算、模式匹配、繪圖、解方程、微積分、組合數學、離散數學、幾何學、概率與統計、物理學等方面的功能。\n",
        "\n",
        "## 【任務2-8】使用Python解方程式：體驗Sympy套件\n",
        "\n",
        "在今天的課程中，我們將學習用 `Sympy` 來解一元二次方程式及二元一次聯立方程式。"
      ]
    },
    {
      "cell_type": "code",
      "metadata": {
        "id": "kyibnsSyJOgG",
        "colab_type": "code",
        "colab": {}
      },
      "source": [
        "from sympy import symbols, solve"
      ],
      "execution_count": null,
      "outputs": []
    },
    {
      "cell_type": "markdown",
      "metadata": {
        "id": "oRuJ3s2pJOgI",
        "colab_type": "text"
      },
      "source": [
        "### 解一元二次方程式\n",
        "\n",
        "求解下列公式：\n",
        "\n",
        "$x^2-10x+36=11$\n",
        "\n",
        "步驟：\n",
        "1. 用Sympy解之前，需先設定公式，將 $x^2-10x+36-11$ 設為待解的公式。\n",
        "2. 接下來呼叫 `solve()` 函式，告訴Sympy要解的公式和變數x。"
      ]
    },
    {
      "cell_type": "code",
      "metadata": {
        "id": "4DREORIbJOgI",
        "colab_type": "code",
        "colab": {},
        "outputId": "006c937e-af74-4de9-a174-55e64f4970e5"
      },
      "source": [
        "x = symbols('x')\n",
        "eq = x ** 2 - 10 * x + 36 - 11\n",
        "solve(eq, x)"
      ],
      "execution_count": null,
      "outputs": [
        {
          "output_type": "execute_result",
          "data": {
            "text/plain": [
              "[5]"
            ]
          },
          "metadata": {
            "tags": []
          },
          "execution_count": 38
        }
      ]
    },
    {
      "cell_type": "markdown",
      "metadata": {
        "id": "EY5FrxpGJOgK",
        "colab_type": "text"
      },
      "source": [
        "### 解二元一次聯立方程式\n",
        "\n",
        "用Python來解二元一次聯立方程式有幾種不同的方法，下面的例子是用Python的套件 `Sympy` 功能來解。\n",
        "\n",
        "$3x + 2y = 6$ <br />\n",
        "$9x + y = 3$\n",
        "\n",
        "參考上面的步驟，傳入公式及待解的x, y到 `solve()` 函式。"
      ]
    },
    {
      "cell_type": "code",
      "metadata": {
        "id": "5VGzp0kAJOgL",
        "colab_type": "code",
        "colab": {},
        "outputId": "c42fa3e1-f79e-46d2-e805-bf8fbbaec815"
      },
      "source": [
        "x = symbols('x')\n",
        "y = symbols('y')\n",
        "\n",
        "eq1 = 3 * x + 2 * y - 6\n",
        "eq2 = 9 * x + y - 3\n",
        "solve((eq1, eq2))"
      ],
      "execution_count": null,
      "outputs": [
        {
          "output_type": "execute_result",
          "data": {
            "text/plain": [
              "{x: 0, y: 3}"
            ]
          },
          "metadata": {
            "tags": []
          },
          "execution_count": 39
        }
      ]
    },
    {
      "cell_type": "markdown",
      "metadata": {
        "id": "NZP5htkXJOgO",
        "colab_type": "text"
      },
      "source": [
        "### `Sympy` 的繪圖功能\n",
        "\n",
        "`Sympy` 也可以把方程式拿來繪圖，舉例來說，如果我們要繪製\n",
        "\n",
        "$y = 2x+5$\n",
        "\n",
        "先載入 `Sympy` 的繪圖模組\n",
        "\n",
        "```python\n",
        "from sympy.plotting import plot\n",
        "```\n",
        "\n",
        "再呼叫 `Sympy` 的 `plot()` 函式，就可以畫出來囉。"
      ]
    },
    {
      "cell_type": "code",
      "metadata": {
        "id": "T8eVzJosJOgO",
        "colab_type": "code",
        "colab": {},
        "outputId": "f5e4a0e8-1d41-4ca6-cf62-c4b9ffbdf9f0"
      },
      "source": [
        "%matplotlib inline\n",
        "\n",
        "# 載入繪圖模組\n",
        "from sympy.plotting import plot\n",
        "\n",
        "x = symbols('x')\n",
        "\n",
        "# 呼叫繪圖 plot() 函式\n",
        "plot(2*x+5)"
      ],
      "execution_count": null,
      "outputs": [
        {
          "output_type": "display_data",
          "data": {
            "image/png": "[encoded data removed]",
            "text/plain": [
              "<Figure size 432x288 with 1 Axes>"
            ]
          },
          "metadata": {
            "tags": [],
            "needs_background": "light"
          }
        },
        {
          "output_type": "execute_result",
          "data": {
            "text/plain": [
              "<sympy.plotting.plot.Plot at 0x119c575d0>"
            ]
          },
          "metadata": {
            "tags": []
          },
          "execution_count": 40
        }
      ]
    },
    {
      "cell_type": "markdown",
      "metadata": {
        "id": "zz2Faju2JOgS",
        "colab_type": "text"
      },
      "source": [
        "### 【挑戰】已知數線上兩點位置和各點距離總和，計算出第三點的位置\n",
        "\n",
        "請使用Python程式解一元一次方程式的方式，計算出$x$的值\n",
        "\n",
        "![](https://drive.google.com/uc?export=view&id=1pZBDPIETX3mvnpNr-ACzhP1gxeZIg3bZ)\n",
        "\n",
        "將三個點放在數線上，而且三個點都沿著數線移動，在某個時刻三個點的位置分別在 A (－3)，B (2)，C (x)，且三個點彼此的距離和為 14!\n",
        "\n",
        "試問 x 的值是多少？\n",
        "\n",
        "提示：\n",
        "- 使用 `Sympy` 套件，這題的公式中僅需要一個 symbol。\n",
        "- $\\overline{AB}+\\overline{AC}+\\overline{BC}=14$\n",
        "\n",
        "_[題目來源] 南一高中數學_"
      ]
    },
    {
      "cell_type": "code",
      "metadata": {
        "id": "bFdWU1aZJOgS",
        "colab_type": "code",
        "colab": {}
      },
      "source": [
        "# 請在下一行開始輸入你的程式碼\n"
      ],
      "execution_count": null,
      "outputs": []
    },
    {
      "cell_type": "code",
      "metadata": {
        "id": "Fo_bcAndJOgU",
        "colab_type": "code",
        "colab": {}
      },
      "source": [
        ""
      ],
      "execution_count": null,
      "outputs": []
    }
  ]
}