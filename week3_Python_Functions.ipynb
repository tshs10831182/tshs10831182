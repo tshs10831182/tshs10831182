{
  "nbformat": 4,
  "nbformat_minor": 0,
  "metadata": {
    "kernelspec": {
      "display_name": "Python 3",
      "language": "python",
      "name": "python3"
    },
    "language_info": {
      "codemirror_mode": {
        "name": "ipython",
        "version": 3
      },
      "file_extension": ".py",
      "mimetype": "text/x-python",
      "name": "python",
      "nbconvert_exporter": "python",
      "pygments_lexer": "ipython3",
      "version": "3.7.4"
    },
    "colab": {
      "name": "week3 Python Functions.ipynb",
      "provenance": [],
      "include_colab_link": true
    }
  },
  "cells": [
    {
      "cell_type": "markdown",
      "metadata": {
        "id": "view-in-github",
        "colab_type": "text"
      },
      "source": [
        "<a href=\"https://colab.research.google.com/github/tshs10831182/tshs10831182repo/blob/master/week3_Python_Functions.ipynb\" target=\"_parent\"><img src=\"https://colab.research.google.com/assets/colab-badge.svg\" alt=\"Open In Colab\"/></a>"
      ]
    },
    {
      "cell_type": "markdown",
      "metadata": {
        "id": "oqNZ-mKr--AN",
        "colab_type": "text"
      },
      "source": [
        "![](http://www.tshs.tp.edu.tw/images/bg/logo.jpg) \n",
        "\n",
        "## 多元選修課程：Python與人工智慧程式設計\n",
        "\n",
        "# 【第三週】Python函式 (Function)"
      ]
    },
    {
      "cell_type": "markdown",
      "metadata": {
        "id": "F5PcU5XD--AN",
        "colab_type": "text"
      },
      "source": [
        "### 【任務3-1】認識Python程式碼的斷行與縮排(indentation)\n",
        "\n",
        "#### 斷行\n",
        "\n",
        "在Python中如果一個敍述(statement)太長時，可以用反斜線 `\\` 斷行，或是將敍述分為多行但是用括號包起來。"
      ]
    },
    {
      "cell_type": "code",
      "metadata": {
        "id": "rQZLnOKx--AO",
        "colab_type": "code",
        "colab": {
          "base_uri": "https://localhost:8080/",
          "height": 34
        },
        "outputId": "03825909-5bd4-4afa-cc87-5023c5742d42"
      },
      "source": [
        "1 + 2 + 3 \\\n",
        "+ 4 + 5 + \\\n",
        "6 + 7 + 8 +9 +10"
      ],
      "execution_count": null,
      "outputs": [
        {
          "output_type": "execute_result",
          "data": {
            "text/plain": [
              "55"
            ]
          },
          "metadata": {
            "tags": []
          },
          "execution_count": 1
        }
      ]
    },
    {
      "cell_type": "code",
      "metadata": {
        "id": "T-E9NV8m--AU",
        "colab_type": "code",
        "colab": {
          "base_uri": "https://localhost:8080/",
          "height": 34
        },
        "outputId": "64f3ceb4-7f67-4efa-bab0-f2a99cfe5d52"
      },
      "source": [
        "(\n",
        "1 + 2 + 3 \n",
        "  + 4 + 5 + \n",
        "6 + 7 + 8 +9 +10\n",
        ")"
      ],
      "execution_count": null,
      "outputs": [
        {
          "output_type": "execute_result",
          "data": {
            "text/plain": [
              "55"
            ]
          },
          "metadata": {
            "tags": []
          },
          "execution_count": 2
        }
      ]
    },
    {
      "cell_type": "markdown",
      "metadata": {
        "id": "_6FcSlxC--AX",
        "colab_type": "text"
      },
      "source": [
        "但是如果沒有用反斜線或是括號的話，則會產生錯誤。"
      ]
    },
    {
      "cell_type": "code",
      "metadata": {
        "id": "WSl8Y-wa--AX",
        "colab_type": "code",
        "colab": {
          "base_uri": "https://localhost:8080/",
          "height": 131
        },
        "outputId": "41fe1bff-d9ad-455f-9fb9-0ffd4dacf29d"
      },
      "source": [
        "1 + 2 + 3 \n",
        "+ 4 + 5 + \n",
        "6 + 7 + 8 +9 +10"
      ],
      "execution_count": null,
      "outputs": [
        {
          "output_type": "error",
          "ename": "SyntaxError",
          "evalue": "ignored",
          "traceback": [
            "\u001b[0;36m  File \u001b[0;32m\"<ipython-input-3-34fe58b4b089>\"\u001b[0;36m, line \u001b[0;32m2\u001b[0m\n\u001b[0;31m    + 4 + 5 +\u001b[0m\n\u001b[0m              ^\u001b[0m\n\u001b[0;31mSyntaxError\u001b[0m\u001b[0;31m:\u001b[0m invalid syntax\n"
          ]
        }
      ]
    },
    {
      "cell_type": "markdown",
      "metadata": {
        "id": "sSxUn6j6--Aa",
        "colab_type": "text"
      },
      "source": [
        "#### 縮排(indentation)\n",
        "\n",
        "縮排是Python用來把同一個區塊或是同一個階層的程式碼，用縮排來區分 (而不是像有些程式語言是用大括號)。\n",
        "\n",
        "縮排原則上是以4個空白為準，未強制規定是多少個，但要遵守一個重要規則：\n",
        "\n",
        "> <font color=\"red\">**同一個區塊裡面的縮排要一致**</font>，例如同一個階層縮排是4個空白就都一樣，不能有些用4個有些用6個\n",
        "\n",
        "還好，現在的Python開發工具(例如colab、Jupyter Notebook...)都會自動建議縮排，通常也可以用tab鍵來縮排。\n",
        "\n",
        "用縮排雖然是一個方便的結構化程式碼的方式，但是要特別留意縮排的如果用得不適當，可能會造成程式的bug，增加除錯(debug)的困難。在接下來課程中Python縮排會應用在更多不同的命令和語法中，同學們需多練習熟悉。"
      ]
    },
    {
      "cell_type": "code",
      "metadata": {
        "id": "iW7mM_B---Ab",
        "colab_type": "code",
        "colab": {
          "base_uri": "https://localhost:8080/",
          "height": 51
        },
        "outputId": "79b74998-e3a3-4783-f643-2e62c752085a"
      },
      "source": [
        "def foo():\n",
        "    # 函式內的敍述都縮排\n",
        "    print(\"hello\")\n",
        "    print(\"world\")\n",
        "    \n",
        "foo()"
      ],
      "execution_count": null,
      "outputs": [
        {
          "output_type": "stream",
          "text": [
            "hello\n",
            "world\n"
          ],
          "name": "stdout"
        }
      ]
    },
    {
      "cell_type": "code",
      "metadata": {
        "id": "jJUl7HZdryX_",
        "colab_type": "code",
        "colab": {
          "base_uri": "https://localhost:8080/",
          "height": 34
        },
        "outputId": "ef85ede6-57e4-4f05-ee28-7c0dd3fbf22d"
      },
      "source": [
        "def gg():\n",
        "  print(\"hihi\")\n",
        "\n",
        "gg()"
      ],
      "execution_count": null,
      "outputs": [
        {
          "output_type": "stream",
          "text": [
            "hihi\n"
          ],
          "name": "stdout"
        }
      ]
    },
    {
      "cell_type": "code",
      "metadata": {
        "id": "IGAGk8Kb--Ad",
        "colab_type": "code",
        "colab": {
          "base_uri": "https://localhost:8080/",
          "height": 131
        },
        "outputId": "30e7c3cd-1898-4be4-d0c4-a51c898c798d"
      },
      "source": [
        "def foo():\n",
        "    # 縮排不一致則會產生錯誤\n",
        "    print(\"hello\")\n",
        "      print(\"world\")\n",
        "    \n",
        "foo()"
      ],
      "execution_count": null,
      "outputs": [
        {
          "output_type": "error",
          "ename": "IndentationError",
          "evalue": "ignored",
          "traceback": [
            "\u001b[0;36m  File \u001b[0;32m\"<ipython-input-5-bdaec0c3f83a>\"\u001b[0;36m, line \u001b[0;32m4\u001b[0m\n\u001b[0;31m    print(\"world\")\u001b[0m\n\u001b[0m    ^\u001b[0m\n\u001b[0;31mIndentationError\u001b[0m\u001b[0;31m:\u001b[0m unexpected indent\n"
          ]
        }
      ]
    },
    {
      "cell_type": "markdown",
      "metadata": {
        "id": "Hvzy9O3N--Ah",
        "colab_type": "text"
      },
      "source": [
        "### 【快問快答時間】縮排問題：請問執行下列程式碼後，輸出的結果為何？"
      ]
    },
    {
      "cell_type": "code",
      "metadata": {
        "id": "NlcBGXUs--Ah",
        "colab_type": "code",
        "colab": {}
      },
      "source": [
        "a = 33\n",
        " print(\"a is\")"
      ],
      "execution_count": null,
      "outputs": []
    },
    {
      "cell_type": "markdown",
      "metadata": {
        "id": "ToNgQ7t6--Ak",
        "colab_type": "text"
      },
      "source": [
        "### 【任務3-2】定義Python函式\n",
        "\n",
        "函式的定義使用保留字 `def`。\n",
        "\n",
        "```python\n",
        "def 函式名稱([參數名稱1, 參數名稱2=預設值, ...]):\n",
        "    程式碼區塊\n",
        "    程式碼區塊\n",
        "    程式碼區塊\n",
        "    \n",
        "    return 回傳值\n",
        "```\n",
        "\n",
        "下面範例是沒有參數的函式。"
      ]
    },
    {
      "cell_type": "code",
      "metadata": {
        "id": "wN6Beu-P--Al",
        "colab_type": "code",
        "colab": {},
        "outputId": "2554f508-c68c-43fe-8397-f1f819e1bf91"
      },
      "source": [
        "def hello():\n",
        "    print(\"Python是最受歡迎的程式語言之一\")\n",
        "    \n",
        "hello()"
      ],
      "execution_count": null,
      "outputs": [
        {
          "output_type": "stream",
          "text": [
            "Python是最受歡迎的程式語言之一\n"
          ],
          "name": "stdout"
        }
      ]
    },
    {
      "cell_type": "markdown",
      "metadata": {
        "id": "sppL3bEb--Ao",
        "colab_type": "text"
      },
      "source": [
        "### 【任務3-3】函式的參數設計：一個、多個、或是不限定數目的參數設計"
      ]
    },
    {
      "cell_type": "markdown",
      "metadata": {
        "id": "-eC6NrWK--Ao",
        "colab_type": "text"
      },
      "source": [
        "傳遞一個參數"
      ]
    },
    {
      "cell_type": "code",
      "metadata": {
        "id": "0A0AtEwG--Ap",
        "colab_type": "code",
        "colab": {
          "base_uri": "https://localhost:8080/",
          "height": 51
        },
        "outputId": "54b4c1eb-13fa-4e61-cd0e-ca67340f9cd3"
      },
      "source": [
        "def greetings(name):\n",
        "    print(\"Hello,\", name)\n",
        "    \n",
        "greetings('James')\n",
        "greetings(\"Harden\")"
      ],
      "execution_count": null,
      "outputs": [
        {
          "output_type": "stream",
          "text": [
            "Hello, James\n",
            "Hello, Harden\n"
          ],
          "name": "stdout"
        }
      ]
    },
    {
      "cell_type": "markdown",
      "metadata": {
        "id": "_UnIsmvx--Ar",
        "colab_type": "text"
      },
      "source": [
        "傳遞兩個參數\n",
        "\n",
        "第二個參數有預設值，如果呼叫時沒有傳入第二個參數的話會取預設值。\n",
        "\n",
        "有預設值的參數也可以被視為選擇性(optional)參數。"
      ]
    },
    {
      "cell_type": "code",
      "metadata": {
        "id": "eaul9OMQ--As",
        "colab_type": "code",
        "colab": {},
        "outputId": "27f49f75-094b-431b-a314-c71806eb2a0f"
      },
      "source": [
        "def greetings(name, timeofday='morning'):\n",
        "    print(\"Good {}, {}\".format(timeofday, name))\n",
        "    \n",
        "greetings('James')\n",
        "greetings('James', 'afternoon')"
      ],
      "execution_count": null,
      "outputs": [
        {
          "output_type": "stream",
          "text": [
            "Good morning, James\n",
            "Good afternoon, James\n"
          ],
          "name": "stdout"
        }
      ]
    },
    {
      "cell_type": "markdown",
      "metadata": {
        "id": "1n9emGbT--Av",
        "colab_type": "text"
      },
      "source": [
        "傳遞參數時，可帶或不帶參數名稱\n",
        "* 若未傳遞參數名稱，傳入值的順序就是各對應參數的值。\n",
        "* 傳遞參數時帶參數名稱，Python能正確對應參數值，好處是不一定需要按照順序鍵入各參數值。這種參數的傳遞方式也稱為「關鍵字參數」。"
      ]
    },
    {
      "cell_type": "code",
      "metadata": {
        "id": "Ep4RmCoC--Av",
        "colab_type": "code",
        "colab": {},
        "outputId": "dc3e681c-3e35-4d63-b02d-3ecbda70af17"
      },
      "source": [
        "# 未傳遞參數名稱\n",
        "def call(a, b, c, d, e):\n",
        "    print(a, b, c, d, e)\n",
        "\n",
        "call(1, 2, 3, 4, 5)"
      ],
      "execution_count": null,
      "outputs": [
        {
          "output_type": "stream",
          "text": [
            "1 2 3 4 5\n"
          ],
          "name": "stdout"
        }
      ]
    },
    {
      "cell_type": "code",
      "metadata": {
        "id": "WczatD3N--Ay",
        "colab_type": "code",
        "colab": {},
        "outputId": "dd763cf5-4026-4286-b167-3c34950fc49b"
      },
      "source": [
        "# 傳遞參數時帶參數名稱\n",
        "def call(a, b, c, d, e):\n",
        "    print(a, b, c, d, e)\n",
        "\n",
        "call(e=5, d=4, c=3, b=2, a=1)"
      ],
      "execution_count": null,
      "outputs": [
        {
          "output_type": "stream",
          "text": [
            "1 2 3 4 5\n"
          ],
          "name": "stdout"
        }
      ]
    },
    {
      "cell_type": "markdown",
      "metadata": {
        "id": "yz978RYm--A1",
        "colab_type": "text"
      },
      "source": [
        "不限定數目(0到多個)參數的語法有兩種:\n",
        "1. 任意數量參數，用 `*` 開頭\n",
        "2. 任意數量的關鍵字參數，用 `**` 開頭"
      ]
    },
    {
      "cell_type": "code",
      "metadata": {
        "id": "_Jfwrxit--A1",
        "colab_type": "code",
        "colab": {},
        "outputId": "b5ce7c5a-dfb4-46fa-de2b-5c4b64a5196e"
      },
      "source": [
        "# 任意數量參數範例\n",
        "def classes(*classname):\n",
        "    print(classname)\n",
        "    \n",
        "classes('高一甲','高一乙','高一丙')\n",
        "classes('高一忠','高一孝','高一仁','高一愛','高一信','高一義')"
      ],
      "execution_count": null,
      "outputs": [
        {
          "output_type": "stream",
          "text": [
            "('高一甲', '高一乙', '高一丙')\n",
            "('高一忠', '高一孝', '高一仁', '高一愛', '高一信', '高一義')\n"
          ],
          "name": "stdout"
        }
      ]
    },
    {
      "cell_type": "markdown",
      "metadata": {
        "id": "CYYynjB---A4",
        "colab_type": "text"
      },
      "source": [
        "不限定數目參數可以跟一般參數同時使用，但要特別注意的是任意數量的參數及關鍵字參數，都需要放在參數的最右邊。"
      ]
    },
    {
      "cell_type": "code",
      "metadata": {
        "id": "3HGKbSrx--A4",
        "colab_type": "code",
        "colab": {},
        "outputId": "fceb18c2-211f-47ba-fd36-6144d466b482"
      },
      "source": [
        "# 任意數量的關鍵字參數\n",
        "def player_info(name, position, **args):\n",
        "    print(name)\n",
        "    print(position)\n",
        "    print(args)\n",
        "    \n",
        "player_info('LeBron James', 'F', team='Lakers', number=23)\n",
        "print()\n",
        "player_info('James Harden', 'G', team='Rockets', number=13, height=1.96, weight=100)"
      ],
      "execution_count": null,
      "outputs": [
        {
          "output_type": "stream",
          "text": [
            "LeBron James\n",
            "F\n",
            "{'team': 'Lakers', 'number': 23}\n",
            "\n",
            "James Harden\n",
            "G\n",
            "{'team': 'Rockets', 'number': 13, 'height': 1.96, 'weight': 100}\n"
          ],
          "name": "stdout"
        }
      ]
    },
    {
      "cell_type": "markdown",
      "metadata": {
        "id": "DHqx-0BN--A7",
        "colab_type": "text"
      },
      "source": [
        "### 【任務3-4】如何處理函式回傳值\n",
        "\n",
        "呼叫函式進行操作後，函式可以有回傳值或是沒有回傳值。有回傳值的話可以有1到多個回傳值，視函式而定。\n",
        "\n",
        "傳回回傳值用 `return` 語法。"
      ]
    },
    {
      "cell_type": "code",
      "metadata": {
        "id": "NL1DTYdP--A8",
        "colab_type": "code",
        "colab": {
          "base_uri": "https://localhost:8080/",
          "height": 34
        },
        "outputId": "fca5015e-68bb-4396-fe0a-92feb0fd162a"
      },
      "source": [
        "def cal(a, b, c):\n",
        "    add = a + b + c\n",
        "    mul = a * b * c\n",
        "    \n",
        "    return add, mul\n",
        "\n",
        "a, m = cal(10, 20, 30)\n",
        "print(a, m)"
      ],
      "execution_count": null,
      "outputs": [
        {
          "output_type": "stream",
          "text": [
            "60 6000\n"
          ],
          "name": "stdout"
        }
      ]
    },
    {
      "cell_type": "markdown",
      "metadata": {
        "id": "diQXd9Q0--A-",
        "colab_type": "text"
      },
      "source": [
        "若沒有用 `return` 保留字回傳的話，Python會自動將回傳值處理成為 `None`。"
      ]
    },
    {
      "cell_type": "code",
      "metadata": {
        "id": "uD8MNn-r--A_",
        "colab_type": "code",
        "colab": {
          "base_uri": "https://localhost:8080/",
          "height": 51
        },
        "outputId": "86a23c88-d8ab-4c14-adcd-77b7df3a12e6"
      },
      "source": [
        "def hello():\n",
        "    print(\"Python是最受歡迎的程式語言之一\")\n",
        "    \n",
        "type(hello())"
      ],
      "execution_count": null,
      "outputs": [
        {
          "output_type": "stream",
          "text": [
            "Python是最受歡迎的程式語言之一\n"
          ],
          "name": "stdout"
        },
        {
          "output_type": "execute_result",
          "data": {
            "text/plain": [
              "NoneType"
            ]
          },
          "metadata": {
            "tags": []
          },
          "execution_count": 7
        }
      ]
    },
    {
      "cell_type": "markdown",
      "metadata": {
        "id": "T4XwevnR--BC",
        "colab_type": "text"
      },
      "source": [
        "### 【挑戰】身高體重指數 (Body Mass Index; BMI) 計算機\n",
        "\n",
        "身高體重指數 (Body Mass Index; BMI) 是我們常用來衡量健康的指標之一，例如肥胖是否為某一種疾病的致病原因。請用 Python 函式撰寫 BMI 計算公式，並呼叫函式計算 BMI 值。\n",
        "\n",
        "BMI 計算公式：\n",
        "\n",
        "$$BMI=\\frac{體重}{身高^2}$$\n",
        "\n",
        "其中體重的單位為公斤，身高的單位為公尺。\n",
        "\n",
        "試問：詹皇的身高是 206 公分，體重為 113 公斤，詹皇的 BMI 值為多少？"
      ]
    },
    {
      "cell_type": "code",
      "metadata": {
        "id": "1cusrFBk--BD",
        "colab_type": "code",
        "colab": {}
      },
      "source": [
        "# 請在下一行開始輸入你的程式碼\n"
      ],
      "execution_count": null,
      "outputs": []
    },
    {
      "cell_type": "markdown",
      "metadata": {
        "id": "GhWZ1J2q--BG",
        "colab_type": "text"
      },
      "source": [
        "### 【挑戰】把自己的程式改寫成函式\n",
        "\n",
        "控制汙染已經成為全球共同面對的課題，科學家用電腦分析歷年的細懸浮微粒中汙染物質的資料，針對某個城市建立了一個汙染物質數量的模型：已知 1980 年時細懸浮微粒中汙染物質為 14000 (顆／立方公分)，1980 年後經過 t 年每立方公分汙染物的顆數為 P，其中\n",
        "\n",
        "$\\Large P＝1000t^{1.25} ＋14000$\n",
        "\n",
        "利用這個模型來計算2000年、2010年、2020年時每立方公分汙染物的顆數各為多少？\n",
        "\n",
        "需求：\n",
        "1. 請把自己在上週「計算每立方公分汙染物的顆數」的程式改寫為Python函式\n",
        "2. 請在函式的定義中，將 `t` 設計為函式的參數\n",
        "3. 呼叫此函式，計算2000年、2010年、2020年時每立方公分汙染物的顆數各為多少\n",
        "4. 將計算出來的顆粒數做為回傳值\n",
        "5. 在螢幕上印出2000年、2010年、2020年時每立方公分汙染物的顆數\n",
        "\n",
        "_[註] 題目來源：南一高中數學_"
      ]
    },
    {
      "cell_type": "code",
      "metadata": {
        "id": "YRh-s8b2--BG",
        "colab_type": "code",
        "colab": {}
      },
      "source": [
        "# 請在下一行開始輸入你的程式碼\n"
      ],
      "execution_count": null,
      "outputs": []
    },
    {
      "cell_type": "markdown",
      "metadata": {
        "id": "tmyRuEU9--BI",
        "colab_type": "text"
      },
      "source": [
        "### 【挑戰】把自己的程式改寫成函式\n",
        "\n",
        "用Python及海龍公式(Heron's formula)計算三角形面積\n",
        "\n",
        "海龍公式是亞歷山大港的海龍發現的，並可在其於公元60年的著作《Metrica》中找到其證明，但也有一說該公式的發現時期很有可能先於海龍的著作。\n",
        "\n",
        "海龍公式利用三角形的三條邊長來求取三角形面積。假設三角形的三個邊長各為$a, b, c$。\n",
        "\n",
        "三角形的半周長(semiperimeter)\n",
        "\n",
        "$s = \\Large\\frac{a+b+c}{2}$\n",
        "\n",
        "三角形的面積\n",
        "\n",
        "$A=\\sqrt{s(s-a)(s-b)(s-c)}$\n",
        "\n",
        "請利用海龍公式及Python，計算出邊長為4, 13, 15的三角形面積。\n",
        "\n",
        "_[資料來源] 維基百科_"
      ]
    },
    {
      "cell_type": "code",
      "metadata": {
        "id": "NRa8WdxS--BJ",
        "colab_type": "code",
        "colab": {}
      },
      "source": [
        "# 請在下一行開始輸入你的程式碼\n"
      ],
      "execution_count": null,
      "outputs": []
    },
    {
      "cell_type": "markdown",
      "metadata": {
        "id": "UZvJYDGx--BL",
        "colab_type": "text"
      },
      "source": [
        "### 【任務3-5】認識區域變數與全域變數"
      ]
    },
    {
      "cell_type": "code",
      "metadata": {
        "id": "73Rp-8Kz--BL",
        "colab_type": "code",
        "colab": {}
      },
      "source": [
        "x = 100 # 這是全域變數\n",
        "\n",
        "def foo():\n",
        "    y = 200 # 這是區域變數"
      ],
      "execution_count": null,
      "outputs": []
    },
    {
      "cell_type": "markdown",
      "metadata": {
        "id": "eeAYlkIP--BO",
        "colab_type": "text"
      },
      "source": [
        "在函式內要使用全域變數的話，需要透過 `global` 保留字。下面的例子將 \"全域變數\" 字串印出兩次。\n",
        "\n",
        "【註】將乘法用在字串上的用法，會在第四週內容介紹。"
      ]
    },
    {
      "cell_type": "code",
      "metadata": {
        "id": "qnSGJJf5--BO",
        "colab_type": "code",
        "colab": {
          "base_uri": "https://localhost:8080/",
          "height": 51
        },
        "outputId": "e3203a88-b952-445e-a921-02e5ea8c9887"
      },
      "source": [
        "x = \"全域變數 \"\n",
        "\n",
        "def foo():\n",
        "    global x\n",
        "    y = \"區域變數\"\n",
        "    x = x * 2\n",
        "    print(x)\n",
        "    print(y)\n",
        "\n",
        "foo()"
      ],
      "execution_count": null,
      "outputs": [
        {
          "output_type": "stream",
          "text": [
            "全域變數 全域變數 \n",
            "區域變數\n"
          ],
          "name": "stdout"
        }
      ]
    },
    {
      "cell_type": "markdown",
      "metadata": {
        "id": "NmVOSVBf--BR",
        "colab_type": "text"
      },
      "source": [
        "### 【快問快答時間】範圍(Scope)問題：請問執行下列程式碼後，輸出的結果為何？\n",
        "\n",
        "```python\n",
        "x = 100\n",
        "\n",
        "def foo():\n",
        "    x = 200\n",
        "    \n",
        "foo()\n",
        "print(x)\n",
        "```"
      ]
    },
    {
      "cell_type": "markdown",
      "metadata": {
        "id": "_zR64oDi--BR",
        "colab_type": "text"
      },
      "source": [
        "### 【快問快答時間】範圍(Scope)問題：請問執行下列程式碼後，輸出的結果為何？\n",
        "\n",
        "```python\n",
        "x = 100\n",
        "\n",
        "def foo():\n",
        "    x = 200\n",
        "    print(x)\n",
        "    \n",
        "print(x)\n",
        "```"
      ]
    },
    {
      "cell_type": "markdown",
      "metadata": {
        "id": "v5274JfZ--BS",
        "colab_type": "text"
      },
      "source": [
        "### 【任務3-6】實作函式的遞迴"
      ]
    },
    {
      "cell_type": "markdown",
      "metadata": {
        "id": "SCM8MKn3--BT",
        "colab_type": "text"
      },
      "source": [
        "一個函式呼叫自己這個動作叫遞迴(recursion)，每次呼叫自己時都使範圍愈來愈小，直到終止的條件結束遞迴。\n",
        "\n",
        "我們用「階乘」來示範函式的遞迴。\n",
        "\n",
        "#### 階乘的歷史(資料來源：維基百科)\n",
        "\n",
        "早在12世紀，印度學者就已有使用階乘的概念來計算置換數的紀錄。1677年時，法比安·斯特德曼使用Change ringing來解釋階乘的概念。在描述遞迴方法之後，斯特德將階乘描述為：「現在這些方法的本質是這樣的：一個數字的變化數包含了所有比他小的數字（包括本身）的所有變化數……因為一個數字的完全變化數是將較小數字的變化數視為一個整體，並透過將所有數字的完整變化聯合起來。」而符號n!是由法國數學家Christian Kramp在1808年使用。\n",
        "\n",
        "例如：\n",
        "\n",
        "$5!=5 \\times 4 \\times 3 \\times 2 \\times 1=120$\n",
        "\n",
        "【註】邏輯判斷的語法，會在第四週內容介紹。"
      ]
    },
    {
      "cell_type": "code",
      "metadata": {
        "id": "bQt-H2oc--BT",
        "colab_type": "code",
        "colab": {},
        "outputId": "dc893c38-fae0-4fb8-e6de-e0a89a636ed5"
      },
      "source": [
        "def factorial(n):\n",
        "    if n == 1:\n",
        "        return n\n",
        "    else:\n",
        "        return n * factorial(n-1)\n",
        "    \n",
        "factorial(5)"
      ],
      "execution_count": null,
      "outputs": [
        {
          "output_type": "execute_result",
          "data": {
            "text/plain": [
              "120"
            ]
          },
          "metadata": {
            "tags": []
          },
          "execution_count": 20
        }
      ]
    },
    {
      "cell_type": "markdown",
      "metadata": {
        "id": "yWrmuvA8--BX",
        "colab_type": "text"
      },
      "source": [
        "### 【任務3-7】建立函式文件字串(Docstring)\n",
        "\n",
        "Docstring當中的文字描述用來做為函式的說明文字。與註解不同的地方在於，Docstring內容可以使用下列的方式來顯示文件內容，對於要查看函式要怎麼使用很方便，不需要再回去查看函式原始碼中的註解。\n",
        "- print(函式名稱.__doc__)\n",
        "- help() 函式\n",
        "- ? \n",
        "\n",
        "Docstring可分為單行文件及多行文件，單行文件可用成對的三個單引號 `'` 包含，而多行文件用成對的三個雙引號 `\"` 包含。"
      ]
    },
    {
      "cell_type": "code",
      "metadata": {
        "id": "k_3SNzzJ--BY",
        "colab_type": "code",
        "colab": {}
      },
      "source": [
        "def cal_pollutants(year):\n",
        "    \"\"\"\n",
        "    輸入年份，計算該年每立方公分汙染物的顆數\n",
        "    \n",
        "    參數：\n",
        "    - year: 西元年\n",
        "    \n",
        "    return:\n",
        "    - 該年每立方公分汙染物的顆數(取小數點兩位)\n",
        "    \"\"\"\n",
        "    t = year - 1980\n",
        "    P = 1000 * (t ** 1.25) + 14000\n",
        "    \n",
        "    return round(P, 2)"
      ],
      "execution_count": null,
      "outputs": []
    },
    {
      "cell_type": "code",
      "metadata": {
        "id": "q8yAZGBq--Ba",
        "colab_type": "code",
        "colab": {},
        "outputId": "c686c4f8-f08c-415d-8029-db0e4fc6993f"
      },
      "source": [
        "help(cal_pollutants)"
      ],
      "execution_count": null,
      "outputs": [
        {
          "output_type": "stream",
          "text": [
            "Help on function cal_pollutants in module __main__:\n",
            "\n",
            "cal_pollutants(year)\n",
            "    輸入年份，計算該年每立方公分汙染物的顆數\n",
            "    \n",
            "    參數：\n",
            "    - year: 西元年\n",
            "    \n",
            "    return:\n",
            "    - 該年每立方公分汙染物的顆數(取小數點兩位)\n",
            "\n"
          ],
          "name": "stdout"
        }
      ]
    },
    {
      "cell_type": "code",
      "metadata": {
        "id": "H88opqxo--Bc",
        "colab_type": "code",
        "colab": {},
        "outputId": "9d166823-5405-4756-98bc-8cab37d275fc"
      },
      "source": [
        "?cal_pollutants"
      ],
      "execution_count": null,
      "outputs": [
        {
          "output_type": "display_data",
          "data": {
            "text/plain": [
              "\u001b[0;31mSignature:\u001b[0m \u001b[0mcal_pollutants\u001b[0m\u001b[0;34m(\u001b[0m\u001b[0myear\u001b[0m\u001b[0;34m)\u001b[0m\u001b[0;34m\u001b[0m\u001b[0;34m\u001b[0m\u001b[0m\n",
              "\u001b[0;31mDocstring:\u001b[0m\n",
              "輸入年份，計算該年每立方公分汙染物的顆數\n",
              "\n",
              "參數：\n",
              "- year: 西元年\n",
              "\n",
              "return:\n",
              "- 該年每立方公分汙染物的顆數(取小數點兩位)\n",
              "\u001b[0;31mFile:\u001b[0m      ~/Dropbox/AI4kids/courses/東山高中109學年度/教材/code/week3/<ipython-input-21-6897c88d9050>\n",
              "\u001b[0;31mType:\u001b[0m      function\n"
            ]
          },
          "metadata": {
            "tags": []
          }
        }
      ]
    },
    {
      "cell_type": "code",
      "metadata": {
        "id": "XiyfS47N--Bf",
        "colab_type": "code",
        "colab": {},
        "outputId": "49b31ced-66bb-40c1-8af5-ca4c3fcc446e"
      },
      "source": [
        "print(cal_pollutants.__doc__)"
      ],
      "execution_count": null,
      "outputs": [
        {
          "output_type": "stream",
          "text": [
            "\n",
            "    輸入年份，計算該年每立方公分汙染物的顆數\n",
            "    \n",
            "    參數：\n",
            "    - year: 西元年\n",
            "    \n",
            "    return:\n",
            "    - 該年每立方公分汙染物的顆數(取小數點兩位)\n",
            "    \n"
          ],
          "name": "stdout"
        }
      ]
    },
    {
      "cell_type": "code",
      "metadata": {
        "id": "u5Mv_zIO--Bh",
        "colab_type": "code",
        "colab": {},
        "outputId": "d7d0dbbf-a9e4-487c-cb75-d582f6afa7cf"
      },
      "source": [
        "import math\n",
        "\n",
        "help(math.pow)"
      ],
      "execution_count": null,
      "outputs": [
        {
          "output_type": "stream",
          "text": [
            "Help on built-in function pow in module math:\n",
            "\n",
            "pow(x, y, /)\n",
            "    Return x**y (x to the power of y).\n",
            "\n"
          ],
          "name": "stdout"
        }
      ]
    },
    {
      "cell_type": "markdown",
      "metadata": {
        "id": "_kCUFTRW--Bj",
        "colab_type": "text"
      },
      "source": [
        "### 【任務3-8】重新認識模組(Module)、函式(Function)與 `import`\n",
        "\n",
        "步驟請參見本週投影片。"
      ]
    },
    {
      "cell_type": "code",
      "metadata": {
        "id": "VXyYqUNG--Bk",
        "colab_type": "code",
        "colab": {}
      },
      "source": [
        "from highschool_math import cal_pollutants, cal_tri_area"
      ],
      "execution_count": null,
      "outputs": []
    },
    {
      "cell_type": "code",
      "metadata": {
        "id": "jv5JY3jd--Bm",
        "colab_type": "code",
        "colab": {},
        "outputId": "6c0f0ac3-024d-4ed4-9516-ecb7c0fe299c"
      },
      "source": [
        "help(cal_pollutants)"
      ],
      "execution_count": null,
      "outputs": [
        {
          "output_type": "stream",
          "text": [
            "Help on function cal_pollutants in module highschool_math:\n",
            "\n",
            "cal_pollutants(year)\n",
            "    輸入年份，計算該年每立方公分汙染物的顆數\n",
            "    \n",
            "    參數：\n",
            "    - year: 西元年\n",
            "    \n",
            "    return:\n",
            "    - 該年每立方公分汙染物的顆數(取小數點兩位)\n",
            "\n"
          ],
          "name": "stdout"
        }
      ]
    },
    {
      "cell_type": "code",
      "metadata": {
        "id": "M8eDA7X---Bo",
        "colab_type": "code",
        "colab": {},
        "outputId": "8601561b-3318-475e-f9d6-b23fc713ffbf"
      },
      "source": [
        "# 計算2020年的每立方公分汙染物的顆數\n",
        "cal_pollutants(2020)"
      ],
      "execution_count": null,
      "outputs": [
        {
          "output_type": "execute_result",
          "data": {
            "text/plain": [
              "114594.67"
            ]
          },
          "metadata": {
            "tags": []
          },
          "execution_count": 28
        }
      ]
    },
    {
      "cell_type": "code",
      "metadata": {
        "id": "bP2zxKb---Bq",
        "colab_type": "code",
        "colab": {},
        "outputId": "48b76a7a-b538-4082-d382-408e253f0f17"
      },
      "source": [
        "cal_tri_area(4, 13, 15)"
      ],
      "execution_count": null,
      "outputs": [
        {
          "output_type": "execute_result",
          "data": {
            "text/plain": [
              "24.0"
            ]
          },
          "metadata": {
            "tags": []
          },
          "execution_count": 29
        }
      ]
    },
    {
      "cell_type": "markdown",
      "metadata": {
        "id": "jlJETdAJ--Bs",
        "colab_type": "text"
      },
      "source": [
        "### 【挑戰】建立自己的第一個外部模組\n",
        "\n",
        "請將自己所寫的3個函式，建立並儲存為.py檔案，再從colab notebook中import進來使用。\n",
        "\n",
        "3個函式：\n",
        "- BMI計算機\n",
        "- 汙染物的顆數計算\n",
        "- 海龍公式(Heron's formula)計算三角形面積\n",
        "\n",
        "import後請呼叫各函式，傳入參數並驗證結果。"
      ]
    },
    {
      "cell_type": "code",
      "metadata": {
        "id": "xNfvPUeZ--Bs",
        "colab_type": "code",
        "colab": {}
      },
      "source": [
        "# 請在下一行開始輸入你的程式碼\n"
      ],
      "execution_count": null,
      "outputs": []
    },
    {
      "cell_type": "code",
      "metadata": {
        "id": "_UAqB7HQ--Bv",
        "colab_type": "code",
        "colab": {}
      },
      "source": [
        ""
      ],
      "execution_count": null,
      "outputs": []
    }
  ]
}