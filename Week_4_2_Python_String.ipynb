{
  "nbformat": 4,
  "nbformat_minor": 0,
  "metadata": {
    "kernelspec": {
      "display_name": "Python 3",
      "language": "python",
      "name": "python3"
    },
    "language_info": {
      "codemirror_mode": {
        "name": "ipython",
        "version": 3
      },
      "file_extension": ".py",
      "mimetype": "text/x-python",
      "name": "python",
      "nbconvert_exporter": "python",
      "pygments_lexer": "ipython3",
      "version": "3.7.4"
    },
    "colab": {
      "name": "Week 4-2 Python String.ipynb",
      "provenance": [],
      "collapsed_sections": [
        "MwCHJVwwjwfk"
      ],
      "toc_visible": true,
      "include_colab_link": true
    }
  },
  "cells": [
    {
      "cell_type": "markdown",
      "metadata": {
        "id": "view-in-github",
        "colab_type": "text"
      },
      "source": [
        "<a href=\"https://colab.research.google.com/github/tshs10831182/tshs10831182repo/blob/master/Week_4_2_Python_String.ipynb\" target=\"_parent\"><img src=\"https://colab.research.google.com/assets/colab-badge.svg\" alt=\"Open In Colab\"/></a>"
      ]
    },
    {
      "cell_type": "markdown",
      "metadata": {
        "id": "xaLYRFp1jwee"
      },
      "source": [
        "![](http://www.tshs.tp.edu.tw/images/bg/logo.jpg) \n",
        "\n",
        "## 多元選修課程：Python與人工智慧程式設計\n",
        "\n",
        "# 【第四週-2】Python字元與字串"
      ]
    },
    {
      "cell_type": "markdown",
      "metadata": {
        "id": "c0fNuljDjwef"
      },
      "source": [
        "### 【任務4-8】初識字串(string)\n",
        "\n",
        "Python的字串(string)是指包含在兩個單引號(`'`)或是兩個雙引號(`\"`)之間的字元及符號資料。Python 3之後對於萬國編碼(unicode)字元的支援更好，所以在處理字元時更加方便。\n",
        "\n",
        "跟其他很多程式語言不同的地方在於，單一字元或是多個宇元組成的字串，在Python裡面均屬於字串類別，所以在處理字元和字串時，大部分情況下可以視為相同。"
      ]
    },
    {
      "cell_type": "code",
      "metadata": {
        "id": "2hEsp8Gcjweg",
        "outputId": "5aa426ea-c7ae-4f4a-e25c-91b2186adefc",
        "colab": {
          "base_uri": "https://localhost:8080/",
          "height": 54
        }
      },
      "source": [
        "print(type('s'))\n",
        "print(type(\"hello world\"))"
      ],
      "execution_count": null,
      "outputs": [
        {
          "output_type": "stream",
          "text": [
            "<class 'str'>\n",
            "<class 'str'>\n"
          ],
          "name": "stdout"
        }
      ]
    },
    {
      "cell_type": "markdown",
      "metadata": {
        "id": "F7oE9H_3jwek"
      },
      "source": [
        "用 `len()` 函式查看字元/字串的長度。從範例裡面我們可以看到，不管是ascii code或是unicode字元/字串的字數算法都一樣，不會因為是中文字而長度不同。"
      ]
    },
    {
      "cell_type": "code",
      "metadata": {
        "id": "DBsURXdhjwek",
        "outputId": "c6378fb7-7f10-4599-8c57-d3ffe4c5964e",
        "colab": {
          "base_uri": "https://localhost:8080/",
          "height": 54
        }
      },
      "source": [
        "print(len('a'))\n",
        "print(len('黃'))"
      ],
      "execution_count": null,
      "outputs": [
        {
          "output_type": "stream",
          "text": [
            "1\n",
            "1\n"
          ],
          "name": "stdout"
        }
      ]
    },
    {
      "cell_type": "code",
      "metadata": {
        "id": "40KOoa2bjwen",
        "outputId": "32e3a2c4-b8eb-476e-e080-5f480ae0590c",
        "colab": {
          "base_uri": "https://localhost:8080/",
          "height": 35
        }
      },
      "source": [
        "ss='黃'.encode('big5')\n",
        "len(ss)"
      ],
      "execution_count": null,
      "outputs": [
        {
          "output_type": "execute_result",
          "data": {
            "text/plain": [
              "2"
            ]
          },
          "metadata": {
            "tags": []
          },
          "execution_count": 8
        }
      ]
    },
    {
      "cell_type": "markdown",
      "metadata": {
        "id": "wai0ii2ojweq"
      },
      "source": [
        "實務上常需要用到數字和字串互轉的情況，這時候可以用內建的函式 `int()` 及 `str()`。"
      ]
    },
    {
      "cell_type": "code",
      "metadata": {
        "id": "UQ-qedqajweq",
        "outputId": "bf0eec19-175c-40d2-d191-031af0c8c761",
        "colab": {
          "base_uri": "https://localhost:8080/",
          "height": 35
        }
      },
      "source": [
        "s = input(\"請輸入一個數字：\")   # 輸入的雖然是數字，但是Python是當做字串來處理。"
      ],
      "execution_count": null,
      "outputs": [
        {
          "output_type": "stream",
          "text": [
            "請輸入一個數字：123\n"
          ],
          "name": "stdout"
        }
      ]
    },
    {
      "cell_type": "code",
      "metadata": {
        "id": "UaiCbCEDjwet",
        "outputId": "9bc9c63d-7645-4b17-a4ba-b0dc3cb215ab",
        "colab": {
          "base_uri": "https://localhost:8080/",
          "height": 35
        }
      },
      "source": [
        "# 比較前先把輸入值轉為數字，再進行比較\n",
        "if int(s) < 3:\n",
        "    print(\"輸入的數字小於3\")\n",
        "else:\n",
        "    print(\"輸入的數字大於或等於3\")"
      ],
      "execution_count": null,
      "outputs": [
        {
          "output_type": "stream",
          "text": [
            "輸入的數字大於或等於3\n"
          ],
          "name": "stdout"
        }
      ]
    },
    {
      "cell_type": "code",
      "metadata": {
        "id": "mq1A4WUajwew",
        "outputId": "bd95f5c1-86de-4f0e-a08c-e2049e914e01",
        "colab": {
          "base_uri": "https://localhost:8080/",
          "height": 35
        }
      },
      "source": [
        "# 把數字轉為字串\n",
        "n = str(123)\n",
        "type(n)"
      ],
      "execution_count": null,
      "outputs": [
        {
          "output_type": "execute_result",
          "data": {
            "text/plain": [
              "str"
            ]
          },
          "metadata": {
            "tags": []
          },
          "execution_count": 11
        }
      ]
    },
    {
      "cell_type": "markdown",
      "metadata": {
        "id": "bRTTTXsWjwez"
      },
      "source": [
        "### 【任務4-9】對字串做 `+` 和 `*` 會發生什麼事？\n",
        "\n",
        "`+` 可以用來合併字串。\n",
        "\n",
        "`*` 可以用來重複字串。"
      ]
    },
    {
      "cell_type": "code",
      "metadata": {
        "id": "1D6AvATzjwez"
      },
      "source": [
        "str1 = 'hello'\n",
        "str2 = 'world'\n",
        "\n",
        "str1 + ' ' + str2"
      ],
      "execution_count": null,
      "outputs": []
    },
    {
      "cell_type": "code",
      "metadata": {
        "id": "NKAbzOUAjwe2"
      },
      "source": [
        "(str1 + ' ') * 3"
      ],
      "execution_count": null,
      "outputs": []
    },
    {
      "cell_type": "markdown",
      "metadata": {
        "id": "WoMef4p0jwe4"
      },
      "source": [
        "### 【任務4-10】在字串中擷取其中的一部分(字元或子字串)\n",
        "\n",
        "在字串中擷取其中的一部分，可以使用索引或切片(slicing)。"
      ]
    },
    {
      "cell_type": "markdown",
      "metadata": {
        "id": "51AxXv1Ljwe5"
      },
      "source": [
        "#### 索引\n",
        "\n",
        "索引是用來找出字串中特定字元的位置。\n",
        "\n",
        "索引值是從0開始，所以第5個字的索引是4，第6個字的索引是5"
      ]
    },
    {
      "cell_type": "code",
      "metadata": {
        "id": "xeERDpChjwe5"
      },
      "source": [
        "s = \"hello world\""
      ],
      "execution_count": null,
      "outputs": []
    },
    {
      "cell_type": "code",
      "metadata": {
        "id": "WsFsDt4vjwe7"
      },
      "source": [
        "# 找出字串中的第5和第6個字\n",
        "# 索引值是從0開始，所以第5個字的索引是4，第6個字的索引是5\n",
        "s[4], s[5]"
      ],
      "execution_count": null,
      "outputs": []
    },
    {
      "cell_type": "code",
      "metadata": {
        "id": "nsTyZ8Qrjwe-"
      },
      "source": [
        "# 負索引值的意思是從字尾往前算，-1的話是取最後一個字元\n",
        "s[-1]"
      ],
      "execution_count": null,
      "outputs": []
    },
    {
      "cell_type": "markdown",
      "metadata": {
        "id": "CiaaGJK3jwfB"
      },
      "source": [
        "#### 切片(slicing)\n",
        "\n",
        "切片是用來擷取字串中的部分內容，可以稱之為子字串。\n",
        "\n",
        "切片的語法：\n",
        "\n",
        "```python\n",
        "字串名[起始索引:結束索引[:跨步值]]\n",
        "```\n",
        "\n",
        "須留意，結束索引的字元是<font color='red'>**不會包含**</font>在切片結果的。"
      ]
    },
    {
      "cell_type": "code",
      "metadata": {
        "id": "j__jPqRMjwfB",
        "outputId": "0a16b958-927f-41f4-b63c-d7f273f497bd",
        "colab": {
          "base_uri": "https://localhost:8080/",
          "height": 35
        }
      },
      "source": [
        "# 跨步值預設值是1，可以不輸入。\n",
        "s[0:4]"
      ],
      "execution_count": null,
      "outputs": [
        {
          "output_type": "execute_result",
          "data": {
            "application/vnd.google.colaboratory.intrinsic+json": {
              "type": "string"
            },
            "text/plain": [
              "'hell'"
            ]
          },
          "metadata": {
            "tags": []
          },
          "execution_count": 14
        }
      ]
    },
    {
      "cell_type": "code",
      "metadata": {
        "id": "ar0YebzzjwfE",
        "outputId": "2838af1e-1bf7-40a2-e5af-b3f4d6283245",
        "colab": {
          "base_uri": "https://localhost:8080/",
          "height": 35
        }
      },
      "source": [
        "# 取回間隔的字元\n",
        "s[0:12:2]"
      ],
      "execution_count": null,
      "outputs": [
        {
          "output_type": "execute_result",
          "data": {
            "application/vnd.google.colaboratory.intrinsic+json": {
              "type": "string"
            },
            "text/plain": [
              "'hlowrd'"
            ]
          },
          "metadata": {
            "tags": []
          },
          "execution_count": 15
        }
      ]
    },
    {
      "cell_type": "code",
      "metadata": {
        "id": "bqgVA0R8jwfG",
        "outputId": "3586fe8f-e88f-4038-adc3-5fbfbc15898d",
        "colab": {
          "base_uri": "https://localhost:8080/",
          "height": 35
        }
      },
      "source": [
        "# 如果沒有起始或結束索引的話，代表取回之前或之後的所有字元。\n",
        "s[:5]"
      ],
      "execution_count": null,
      "outputs": [
        {
          "output_type": "execute_result",
          "data": {
            "application/vnd.google.colaboratory.intrinsic+json": {
              "type": "string"
            },
            "text/plain": [
              "'hello'"
            ]
          },
          "metadata": {
            "tags": []
          },
          "execution_count": 16
        }
      ]
    },
    {
      "cell_type": "markdown",
      "metadata": {
        "id": "wRvUtCPKjwfI"
      },
      "source": [
        "### 【任務4-11】了解跳脫字元(escape character)\n",
        "\n",
        "在字串或是純文字的處理時，我們常需要處理符號(例如引號)和特定的字元(例如換行)，這時候需要藉助跳脫字元的標示，才能正確地處理文字，達到我們預期的效果。\n",
        "\n",
        "常用跳脫字元如下：\n",
        "\n",
        "|跳脫字元|意義|\n",
        "|---|---|\n",
        "|\\\\'|單引號|\n",
        "|\\\\\"|雙引號|\n",
        "|`\\\\`|反斜線|\n",
        "|\\n|換行|\n",
        "|\\t|tab鍵|\n",
        "\n",
        "例如：若要印出Lilian's full name這個字串，裡面的單引號會跟Python字串的單引號混淆，造成輸出錯誤。"
      ]
    },
    {
      "cell_type": "code",
      "metadata": {
        "id": "NeDRq6znjwfJ",
        "outputId": "56f5888c-c3dd-448f-d036-aef9082b4bab",
        "colab": {
          "base_uri": "https://localhost:8080/",
          "height": 133
        }
      },
      "source": [
        "print('Lilian's full name is James Huang.')"
      ],
      "execution_count": null,
      "outputs": [
        {
          "output_type": "error",
          "ename": "SyntaxError",
          "evalue": "ignored",
          "traceback": [
            "\u001b[0;36m  File \u001b[0;32m\"<ipython-input-17-72e39e5904ad>\"\u001b[0;36m, line \u001b[0;32m1\u001b[0m\n\u001b[0;31m    print('Lilian's full name is James Huang.')\u001b[0m\n\u001b[0m                  ^\u001b[0m\n\u001b[0;31mSyntaxError\u001b[0m\u001b[0;31m:\u001b[0m invalid syntax\n"
          ]
        }
      ]
    },
    {
      "cell_type": "markdown",
      "metadata": {
        "id": "VijUoTYnjwfL"
      },
      "source": [
        "使用跳脫字元，正確告訴Python那是字串內的單引號，要正常印出。"
      ]
    },
    {
      "cell_type": "code",
      "metadata": {
        "id": "ZJYZQwUQjwfL"
      },
      "source": [
        "print('Lilian\\'s full name is Lilian Huang.')"
      ],
      "execution_count": null,
      "outputs": []
    },
    {
      "cell_type": "code",
      "metadata": {
        "id": "wjnlnwuT5Dk7",
        "outputId": "ef8bcd43-12ba-40f0-cb6e-1ed0f69d6a37",
        "colab": {
          "base_uri": "https://localhost:8080/",
          "height": 35
        }
      },
      "source": [
        "print(\"Lilian's full name is Lilian Huang\")"
      ],
      "execution_count": null,
      "outputs": [
        {
          "output_type": "stream",
          "text": [
            "Lilian's full name is Lilian Huang\n"
          ],
          "name": "stdout"
        }
      ]
    },
    {
      "cell_type": "markdown",
      "metadata": {
        "id": "wTSMYeVujwfO"
      },
      "source": [
        "### 【任務4-12】判斷字串開頭跟結尾是否符合特定字串\n",
        "\n",
        "用下列兩個函式，可以讓我們找到字串開頭跟結尾是否符合特定字串。\n",
        "\n",
        "|函式|意義|\n",
        "|---|---|\n",
        "|`startswith(prefix)`|判斷字串開頭是否符合某些字元或字串|\n",
        "|`str.endswith(suffix)`|判斷字串結尾是否符合某些字元或字串|\n",
        "\n",
        "同樣的函式選用參數中，可以傳入起始和結束索引，在這個索引區間中的子字串去判斷開頭跟結尾是否符合特定字串。\n",
        "\n",
        "|函式|意義|\n",
        "|---|---|\n",
        "|`startswith(prefix[, start[, end]])`|判斷字串的特定位置是否是由某些字元或字串開頭|\n",
        "|`str.endswith(suffix[, start[, end]])`|判斷字串的特定位置是否是由某些字元或字串結尾|\n",
        "\n",
        "如果有找到符合的字串，回傳 `True`，否則回傳 `False`。"
      ]
    },
    {
      "cell_type": "code",
      "metadata": {
        "id": "T0JodgLSjwfO"
      },
      "source": [
        "s = 'hello world'\n",
        "s.startswith('hel')"
      ],
      "execution_count": null,
      "outputs": []
    },
    {
      "cell_type": "code",
      "metadata": {
        "id": "kCqV_IS2jwfR"
      },
      "source": [
        "s.startswith('lo', 6, 10)"
      ],
      "execution_count": null,
      "outputs": []
    },
    {
      "cell_type": "code",
      "metadata": {
        "id": "f-KwemWKjwfT"
      },
      "source": [
        "s.endswith('lo', 0, 5)"
      ],
      "execution_count": null,
      "outputs": []
    },
    {
      "cell_type": "markdown",
      "metadata": {
        "id": "ldT0LU0OjwfV"
      },
      "source": [
        "### 【任務4-13】刪除字串裡，頭或尾的特定字元組合\n",
        "\n",
        "|函式|意義|\n",
        "|---|---|\n",
        "|str.strip([chars])|刪除字串裡，頭及尾的特定字元組合|\n",
        "|str.lstrip([chars])|刪除字串裡，開頭的特定字元組合|\n",
        "|str.rstrip([chars])|刪除字串裡，結尾的特定字元組合|\n",
        "\n",
        "下面的例子中，只要有包含 `cmowz.` 字元的任何組合，從頭開始或是從尾往回找，都是要刪除的內容。由於 `e` 不屬於要找的字元組合裡面，所以找到 `e` 就停止，因此去頭去尾之後的字串是 `example`。"
      ]
    },
    {
      "cell_type": "code",
      "metadata": {
        "id": "sHnwT2TojwfV",
        "outputId": "640e0907-2bbe-4f85-d9ae-d354ec1615a9",
        "colab": {
          "base_uri": "https://localhost:8080/",
          "height": 35
        }
      },
      "source": [
        "'www.example.com'.strip('cmowz.')"
      ],
      "execution_count": null,
      "outputs": [
        {
          "output_type": "execute_result",
          "data": {
            "application/vnd.google.colaboratory.intrinsic+json": {
              "type": "string"
            },
            "text/plain": [
              "'example'"
            ]
          },
          "metadata": {
            "tags": []
          },
          "execution_count": 19
        }
      ]
    },
    {
      "cell_type": "markdown",
      "metadata": {
        "id": "KrtlW1udjwfX"
      },
      "source": [
        "### 【想一想】下面程式執行後，會得到什麼字串？\n",
        "\n",
        "```python\n",
        "s = '詩文:寥落古行宮，宮花寂寞紅。白頭宮女在，閒坐說玄宗。'\n",
        "s.strip('文:詩')\n",
        "```"
      ]
    },
    {
      "cell_type": "code",
      "metadata": {
        "id": "tJRED7ZSjwfX"
      },
      "source": [
        ""
      ],
      "execution_count": null,
      "outputs": []
    },
    {
      "cell_type": "markdown",
      "metadata": {
        "id": "LuDYgMe4jwfZ"
      },
      "source": [
        "### 【任務4-14】怎麼更換字串的特定字串\n",
        "\n",
        "用 `replace()` 函式，傳入參數：待更換字串、要更換的字串。也可以傳入要更換的次數，預設值為1，也就是預設僅更新找到第一筆符合的字串。\n",
        "\n",
        "```python\n",
        "str.replace(old, new[, count])\n",
        "```"
      ]
    },
    {
      "cell_type": "code",
      "metadata": {
        "id": "iyO0IM_Bjwfa"
      },
      "source": [
        "s = 'hello world'\n",
        "s.replace('world', 'python')"
      ],
      "execution_count": null,
      "outputs": []
    },
    {
      "cell_type": "markdown",
      "metadata": {
        "id": "PdquX6SPjwfc"
      },
      "source": [
        "### 【任務4-15】串列(List)和字串互相轉換\n",
        "\n",
        "串列和字串都是可迭代的物件，實務上常會遇到需要轉換的機會。\n",
        "\n",
        "用 `list()` 及 `' '.join(list)` 函式可以將字串轉為串列，或將串列轉為文字輸出。"
      ]
    },
    {
      "cell_type": "code",
      "metadata": {
        "id": "jEF7C06-jwfd",
        "outputId": "0f4cbc45-21be-47bf-916e-0d8ab84a0fb9",
        "colab": {
          "base_uri": "https://localhost:8080/",
          "height": 35
        }
      },
      "source": [
        "s = \"hello world\"\n",
        "\n",
        "a = list(s)\n",
        "a"
      ],
      "execution_count": null,
      "outputs": [
        {
          "output_type": "execute_result",
          "data": {
            "text/plain": [
              "['h', 'e', 'l', 'l', 'o', ' ', 'w', 'o', 'r', 'l', 'd']"
            ]
          },
          "metadata": {
            "tags": []
          },
          "execution_count": 20
        }
      ]
    },
    {
      "cell_type": "code",
      "metadata": {
        "id": "KwzY1bP8jwff",
        "outputId": "aa045bb3-3e0d-4c63-de2a-76a53be5b953",
        "colab": {
          "base_uri": "https://localhost:8080/",
          "height": 35
        }
      },
      "source": [
        "''.join(a)"
      ],
      "execution_count": null,
      "outputs": [
        {
          "output_type": "execute_result",
          "data": {
            "application/vnd.google.colaboratory.intrinsic+json": {
              "type": "string"
            },
            "text/plain": [
              "'hello world'"
            ]
          },
          "metadata": {
            "tags": []
          },
          "execution_count": 21
        }
      ]
    },
    {
      "cell_type": "markdown",
      "metadata": {
        "id": "LTGN15zbjwfh"
      },
      "source": [
        "在 join 時也可以定義在每個元素之間要插入的字串或符號。"
      ]
    },
    {
      "cell_type": "code",
      "metadata": {
        "id": "Q_UvCOisjwfi",
        "outputId": "f3da3e1e-103a-4459-93e0-0a9206df6e2c",
        "colab": {
          "base_uri": "https://localhost:8080/",
          "height": 35
        }
      },
      "source": [
        "'... '.join(a)"
      ],
      "execution_count": null,
      "outputs": [
        {
          "output_type": "execute_result",
          "data": {
            "application/vnd.google.colaboratory.intrinsic+json": {
              "type": "string"
            },
            "text/plain": [
              "'h... e... l... l... o...  ... w... o... r... l... d'"
            ]
          },
          "metadata": {
            "tags": []
          },
          "execution_count": 22
        }
      ]
    },
    {
      "cell_type": "markdown",
      "metadata": {
        "id": "iWyjhnwIjwfk"
      },
      "source": [
        "### 【任務4-16】熟悉Python，不會作詩會也寫藏頭唐詩生成器\n",
        "\n",
        "這是一個簡易版本的**藏頭唐詩產生器**，用來練習Python字串處理。\n",
        "\n",
        "唐詩資料來源：[https://github.com/rime-aca/corpus/blob/master/%E5%94%90%E8%A9%A9%E4%B8%89%E7%99%BE%E9%A6%96.txt](https://github.com/rime-aca/corpus/blob/master/%E5%94%90%E8%A9%A9%E4%B8%89%E7%99%BE%E9%A6%96.txt)"
      ]
    },
    {
      "cell_type": "markdown",
      "metadata": {
        "id": "MwCHJVwwjwfk"
      },
      "source": [
        "#### 步驟\n",
        "\n",
        "1. 第一件事，先想想我們要怎麼樣取得唐詩的資料？自己輸入唐詩，還是去找找有沒有現成免費的可以拿來用？哪一種方式比較可行？\n",
        "\n",
        "2. 第二件事，拿到資料，先分析資料要怎麼使用。開啟唐詩來源檔(300.txt)，它是一個文字檔，內容包含詩名、作者、詩體、詩文，詩文是我們要保留的唐詩本文。\n",
        "\n",
        "3. 再開啟另一個檔案，我們將會把去掉不需要內容後的唐詩本文，存到另一個文字檔案(300cleaned.txt)。"
      ]
    },
    {
      "cell_type": "code",
      "metadata": {
        "id": "BN0txhi5jwfk"
      },
      "source": [
        "f_original = open(\"300.txt\", \"r\")         # open() 函式用來開啟檔案，參數包含檔案及開啟模式，\n",
        "                                          # 模式 r 的意思是讀取模式，不能寫入或更新。\n",
        "f_cleaned = open(\"300cleaned.txt\", \"w\")   # 模式 w 的意思是寫入模式。"
      ],
      "execution_count": null,
      "outputs": []
    },
    {
      "cell_type": "markdown",
      "metadata": {
        "id": "PYdWnyF9jwfm"
      },
      "source": [
        "4. 逐行讀入唐詩來源檔。\n",
        "\n",
        "5. 逐行解析每一行文字，只要發現該行裡面有 `詩文:` 字樣，就處理這一行。詩文也就是我們要保留下來的唐詩本文。\n",
        "\n",
        "6. 先去掉 `詩文:` 字樣，再來把每句句尾的 `， 。 ？` 取代為換行符號 `\\n`。\n",
        "\n",
        "7. 把處理完的字串，儲存到文字檔(300cleaned.txt)中，這個文字檔內容是解析完的唐詩本文。"
      ]
    },
    {
      "cell_type": "code",
      "metadata": {
        "id": "qsWJAzuNjwfn"
      },
      "source": [
        "# 逐行讀入唐詩來源檔\n",
        "Lines = f_original.readlines() \n",
        "  \n",
        "for line in Lines: \n",
        "    if '詩文:' in line:\n",
        "        # 把 '詩文:' 字樣去掉\n",
        "        stripped = line.strip('詩文:')\n",
        "        \n",
        "        # 把每句句尾的 '， 。 ？' 取代為換行符號 '\\n'\n",
        "        stripped = stripped.replace(\"，\", \"\\n\").replace(\"。\", \"\\n\").replace(\"？\", \"\\n\")\n",
        "        \n",
        "        # 把處理完的字串，儲存到文字檔\n",
        "        f_cleaned.write(stripped)\n",
        "\n",
        "# 檔案使用完畢，記得要使用 close() 函式關閉檔案。\n",
        "# 已關閉的檔案就不能再被取用。\n",
        "f_original.close()\n",
        "f_cleaned.close()"
      ],
      "execution_count": null,
      "outputs": []
    },
    {
      "cell_type": "markdown",
      "metadata": {
        "id": "5ocFCf9Xjwfp"
      },
      "source": [
        "8. 開啟處理過的唐詩本文文字檔(300cleaned.txt)，逐行讀入檔案內容。\n",
        "\n",
        "9. 把五言、七言、其他字數的行數分離出來，分別存入不同的串列。"
      ]
    },
    {
      "cell_type": "code",
      "metadata": {
        "id": "JGms0zlzjwfp"
      },
      "source": [
        "five_words = []\n",
        "seven_words = []\n",
        "other_words = []\n",
        "\n",
        "f = open(\"300cleaned.txt\", \"r\")\n",
        "\n",
        "Lines = f.readlines()\n",
        "\n",
        "for line in Lines:\n",
        "    # 由於每句句尾都有換行字元，要計算字數時須排除才能算出正確字數\n",
        "    if len(line.strip('\\n')) == 5:   \n",
        "        five_words.append(line)\n",
        "    elif len(line.strip('\\n')) == 7:\n",
        "        seven_words.append(line)\n",
        "    else:\n",
        "        other_words.append(line)\n",
        "        \n",
        "f.close()"
      ],
      "execution_count": null,
      "outputs": []
    },
    {
      "cell_type": "markdown",
      "metadata": {
        "id": "tyxWgUJJjwfr"
      },
      "source": [
        "10. 使用 random 模組，把五言、七言、其他字數串列中的元素，做洗牌的動作，讓我們可以每次都得到不同的詩句。"
      ]
    },
    {
      "cell_type": "code",
      "metadata": {
        "id": "gg2Ny-z-jwfs"
      },
      "source": [
        "import random\n",
        "\n",
        "random.shuffle(five_words)\n",
        "random.shuffle(seven_words)\n",
        "random.shuffle(other_words)"
      ],
      "execution_count": null,
      "outputs": []
    },
    {
      "cell_type": "markdown",
      "metadata": {
        "id": "agPuagLEjwft"
      },
      "source": [
        "11. 輸入要產生五言或七言，以及藏頭詩的句首。"
      ]
    },
    {
      "cell_type": "code",
      "metadata": {
        "id": "knIkdwGSjwfu",
        "outputId": "bb496d4b-d8e2-4fcb-b271-44721734d3bf",
        "colab": {
          "base_uri": "https://localhost:8080/",
          "height": 35
        }
      },
      "source": [
        "number = input(\"請問要產生五言還是七言(輸入數字5或7)：\")"
      ],
      "execution_count": null,
      "outputs": [
        {
          "output_type": "stream",
          "text": [
            "請問要產生五言還是七言(輸入數字5或7)：7\n"
          ],
          "name": "stdout"
        }
      ]
    },
    {
      "cell_type": "code",
      "metadata": {
        "id": "Lr5hXojejwfw",
        "outputId": "96997bab-14c1-4f24-ab1a-2df1c3829623",
        "colab": {
          "base_uri": "https://localhost:8080/",
          "height": 35
        }
      },
      "source": [
        "userinput = input(\"請輸入藏頭詩的句首：\")"
      ],
      "execution_count": null,
      "outputs": [
        {
          "output_type": "stream",
          "text": [
            "請輸入藏頭詩的句首：東山高中\n"
          ],
          "name": "stdout"
        }
      ]
    },
    {
      "cell_type": "markdown",
      "metadata": {
        "id": "ABnyaSk0jwfy"
      },
      "source": [
        "12. 根據輸入的藏頭詩的句首和五言/七言，到串列中找到符合各句句首的詩句。\n",
        "\n",
        "13. 把產生出來的詩句存到串列中。\n",
        "\n",
        "14. 印出藏頭詩。"
      ]
    },
    {
      "cell_type": "code",
      "metadata": {
        "id": "8BZbye3kjwfy",
        "outputId": "0f7abba6-89c0-401f-97cf-09f26537a277",
        "colab": {
          "base_uri": "https://localhost:8080/",
          "height": 119
        }
      },
      "source": [
        "acrostic = []\n",
        "\n",
        "# 根據輸入的藏頭詩的句首和五言/七言，到串列中找到符合各句句首的詩句。\n",
        "for s in userinput:\n",
        "    # 用 input 得到的五言/七言選項是字串型別，\n",
        "    # 所以需要用 int() 函式轉換為整數，再進行\n",
        "    # 比較。\n",
        "    if int(number) == 5:             \n",
        "        for i in five_words:\n",
        "            if i.startswith(s):      # 如果找到符合的句首\n",
        "                acrostic.append(i)   # 把產生出來的詩句存到串列中\n",
        "                break\n",
        "    elif int(number) == 7:\n",
        "        for i in seven_words:\n",
        "            if i.startswith(s):\n",
        "                acrostic.append(i)\n",
        "                break\n",
        "    else:\n",
        "        for i in other_words:\n",
        "            if i.startswith(s):\n",
        "                acrostic.append(i)\n",
        "                break\n",
        "\n",
        "# 如果產生出來的藏頭詩串列元素數目小於輸入的句首字數，\n",
        "# 代表找不到足夠的符合句首來產生藏頭詩。\n",
        "# \n",
        "# 成功產生的話，輸出產生的藏頭詩。\n",
        "if len(acrostic) < len(userinput):\n",
        "    print(\"找不到合適的句首生成藏頭詩\")\n",
        "else:\n",
        "    print(\"產生的藏頭詩：\")\n",
        "    print(''.join(acrostic))"
      ],
      "execution_count": null,
      "outputs": [
        {
          "output_type": "stream",
          "text": [
            "產生的藏頭詩：\n",
            "東門酤酒飲我曹\n",
            "山迴路轉不見君\n",
            "高帝子孫盡隆準\n",
            "中軍置酒飲歸客\n",
            "\n"
          ],
          "name": "stdout"
        }
      ]
    },
    {
      "cell_type": "markdown",
      "metadata": {
        "id": "HILOGbB4jwf0"
      },
      "source": [
        "### 【任務4-17】怎麼知道有哪些字可以拿來當做藏頭呢"
      ]
    },
    {
      "cell_type": "code",
      "metadata": {
        "id": "0BS8eG1Xjwf0",
        "outputId": "1978f4db-85cc-42d7-a23f-e7e1a759d4d9",
        "colab": {
          "base_uri": "https://localhost:8080/",
          "height": 54
        }
      },
      "source": [
        "first_word = []\n",
        "used = []\n",
        "\n",
        "for i in five_words:\n",
        "    first_word.append(i[0])   # 把五言詩句的字首擷取出來\n",
        "\n",
        "# 把不重複的字存到串列中，並印出來\n",
        "for x in first_word:\n",
        "    if x not in used:\n",
        "        used.append(x)\n",
        "\n",
        "print(' '.join(used))"
      ],
      "execution_count": null,
      "outputs": [
        {
          "output_type": "stream",
          "text": [
            "那 應 兵 哥 草 自 差 燕 但 上 萬 千 芳 欲 落 別 迷 引 慕 登 明 既 莫 生 君 一 今 問 淒 恐 突 向 栖 我 罷 長 來 野 傷 城 天 賴 感 憶 花 寒 帝 歸 永 驚 嫁 離 道 早 遇 薄 從 深 悵 銷 未 露 迫 零 化 分 清 願 豈 以 及 世 陶 得 童 五 紅 蠶 乍 獨 驅 美 不 水 聲 閒 魑 空 客 窺 桂 漸 山 幼 蕭 啼 送 所 竹 故 青 古 見 總 是 松 路 秋 波 絕 猿 端 京 澄 腳 吾 相 義 煩 郡 高 浮 沒 男 誰 白 傳 殺 人 孤 藥 醉 海 斜 信 遙 侍 曲 細 遠 安 常 主 八 杳 讀 死 竟 情 幽 好 三 漠 日 家 當 趣 疑 牛 色 思 近 憑 幾 文 逍 駐 俯 巴 勝 遵 隱 蒼 語 連 沙 時 興 若 暮 雲 繞 新 澗 偶 同 春 王 微 臨 經 舉 蕃 吳 淑 窮 江 影 妾 還 處 唯 殘 因 艷 胡 危 念 何 荷 夫 往 西 已 無 南 夜 淮 曉 鴛 兒 卻 渚 朝 餘 投 名 滄 少 曾 林 由 素 至 反 河 莓 岱 淼 爾 荊 禪 采 冥 烽 鬢 聖 風 漾 汲 流 效 可 群 氣 孝 恨 渡 陰 忽 顏 置 雉 貧 待 年 女 幸 晚 對 行 持 十 腸 數 覺 蟬 徒 停 建 樹 報 矯 鶯 渾 遊 意 聞 惟 泉 崢 閨 羈 楊 昨 理 塔 繕 溪 玉 茅 乾 況 黃 此 勿 居 吹 打 隨 把 運 惜 昔 雙 余 兄 沿 心 焉 真 廣 雨 車 墟 聯 聽 告 承 他 小 孰 戍 涵 四 愁 開 為 蔬 積 出 官 資 月 移 遺 搴 怡 悽 鳥 夕 飛 繁 苦 採 身 寂 或 能 鮮 北 國 久 煙 秦 磴 翻 錦 只 川 租 逐 灞 戎 平 仙 七 陽 談 賭 彈 鄉 嶺 揮 勢 貴 裁 歎 飲 瞿 動 盪 綠 欣 令 直 仍 雁 參 其 門 初 步 羞 又 醒 即 前 漁 鳴 牽 決 低 縣 浩 留 漢 之 飄 樽 際 鉛 回 在 旅 蘭 齊 大 中 與 池 更 老 潭 貞 仰 弋 教 坐 梧 方 維 黽 散 仁 請 知 荒 萋 捨 湘 樵 寄 將 燈 楚 歡 郎 浦 襄 征 衣 樂 下 寥 洗 越 晴 太 悟 節 湖 矜 咸 暫 英 頗 吏 魚 輕 梅 邊 狂 側 丹 猶 良 披 邀 頭 多 蜀 偏 誓 預 地 茫 冠 迢 田 共 有 使 轉 黯 鳳 會 忘 魂 滅 凝 楓 壯 望 功 關 玲 合 垂 折 摘 言 星 澹 去 隔 泠 依 鷲 佳 啾 鴻 奈 羊 役 事 颺 半 奔 舊 斯 訪 慈 性 須 緣 東 賤 雖 斷 先 想 容 宅 演 疏 嘉 遂 涼 宮 雷 掩 鏡 業 頻 終 祗 翡 苔 鬚 井 泛 且 眼 倚 洞 背 循 撫 手 重 砧 每 列 如 羌 本 後 潮 神 淨 叩 蓮 滯 香 菡 舟 兩 沾 調 造 巢 木 皆 靜 懷 亂 苒 復 床 惆 單 稱 返 愧\n"
          ],
          "name": "stdout"
        }
      ]
    },
    {
      "cell_type": "markdown",
      "metadata": {
        "id": "awtGnD1ujwf2"
      },
      "source": [
        "進階語法：<font color='red'>List comprehensions</font>，或譯為串列推導式，如範例可使用單行 for 迴圈產生串列。"
      ]
    },
    {
      "cell_type": "code",
      "metadata": {
        "id": "85t_SsEHjwf3",
        "outputId": "266bf679-4934-453c-aba7-d6ffc56bd739",
        "colab": {
          "base_uri": "https://localhost:8080/",
          "height": 54
        }
      },
      "source": [
        "first_word = []\n",
        "used = []\n",
        "\n",
        "for i in five_words:\n",
        "    first_word.append(i[0])   # 把五言詩句的字首擷取出來\n",
        "\n",
        "# 進階語法：把不重複的字存到串列中，並印出來\n",
        "[used.append(x) for x in first_word if x not in used]\n",
        "print(' '.join(used))"
      ],
      "execution_count": null,
      "outputs": [
        {
          "output_type": "stream",
          "text": [
            "那 應 兵 哥 草 自 差 燕 但 上 萬 千 芳 欲 落 別 迷 引 慕 登 明 既 莫 生 君 一 今 問 淒 恐 突 向 栖 我 罷 長 來 野 傷 城 天 賴 感 憶 花 寒 帝 歸 永 驚 嫁 離 道 早 遇 薄 從 深 悵 銷 未 露 迫 零 化 分 清 願 豈 以 及 世 陶 得 童 五 紅 蠶 乍 獨 驅 美 不 水 聲 閒 魑 空 客 窺 桂 漸 山 幼 蕭 啼 送 所 竹 故 青 古 見 總 是 松 路 秋 波 絕 猿 端 京 澄 腳 吾 相 義 煩 郡 高 浮 沒 男 誰 白 傳 殺 人 孤 藥 醉 海 斜 信 遙 侍 曲 細 遠 安 常 主 八 杳 讀 死 竟 情 幽 好 三 漠 日 家 當 趣 疑 牛 色 思 近 憑 幾 文 逍 駐 俯 巴 勝 遵 隱 蒼 語 連 沙 時 興 若 暮 雲 繞 新 澗 偶 同 春 王 微 臨 經 舉 蕃 吳 淑 窮 江 影 妾 還 處 唯 殘 因 艷 胡 危 念 何 荷 夫 往 西 已 無 南 夜 淮 曉 鴛 兒 卻 渚 朝 餘 投 名 滄 少 曾 林 由 素 至 反 河 莓 岱 淼 爾 荊 禪 采 冥 烽 鬢 聖 風 漾 汲 流 效 可 群 氣 孝 恨 渡 陰 忽 顏 置 雉 貧 待 年 女 幸 晚 對 行 持 十 腸 數 覺 蟬 徒 停 建 樹 報 矯 鶯 渾 遊 意 聞 惟 泉 崢 閨 羈 楊 昨 理 塔 繕 溪 玉 茅 乾 況 黃 此 勿 居 吹 打 隨 把 運 惜 昔 雙 余 兄 沿 心 焉 真 廣 雨 車 墟 聯 聽 告 承 他 小 孰 戍 涵 四 愁 開 為 蔬 積 出 官 資 月 移 遺 搴 怡 悽 鳥 夕 飛 繁 苦 採 身 寂 或 能 鮮 北 國 久 煙 秦 磴 翻 錦 只 川 租 逐 灞 戎 平 仙 七 陽 談 賭 彈 鄉 嶺 揮 勢 貴 裁 歎 飲 瞿 動 盪 綠 欣 令 直 仍 雁 參 其 門 初 步 羞 又 醒 即 前 漁 鳴 牽 決 低 縣 浩 留 漢 之 飄 樽 際 鉛 回 在 旅 蘭 齊 大 中 與 池 更 老 潭 貞 仰 弋 教 坐 梧 方 維 黽 散 仁 請 知 荒 萋 捨 湘 樵 寄 將 燈 楚 歡 郎 浦 襄 征 衣 樂 下 寥 洗 越 晴 太 悟 節 湖 矜 咸 暫 英 頗 吏 魚 輕 梅 邊 狂 側 丹 猶 良 披 邀 頭 多 蜀 偏 誓 預 地 茫 冠 迢 田 共 有 使 轉 黯 鳳 會 忘 魂 滅 凝 楓 壯 望 功 關 玲 合 垂 折 摘 言 星 澹 去 隔 泠 依 鷲 佳 啾 鴻 奈 羊 役 事 颺 半 奔 舊 斯 訪 慈 性 須 緣 東 賤 雖 斷 先 想 容 宅 演 疏 嘉 遂 涼 宮 雷 掩 鏡 業 頻 終 祗 翡 苔 鬚 井 泛 且 眼 倚 洞 背 循 撫 手 重 砧 每 列 如 羌 本 後 潮 神 淨 叩 蓮 滯 香 菡 舟 兩 沾 調 造 巢 木 皆 靜 懷 亂 苒 復 床 惆 單 稱 返 愧\n"
          ],
          "name": "stdout"
        }
      ]
    },
    {
      "cell_type": "markdown",
      "metadata": {
        "id": "cTEai2SYjwf5"
      },
      "source": [
        "### 【挑戰】想一想，要怎麼找到可以使用的七言詩句句首"
      ]
    },
    {
      "cell_type": "code",
      "metadata": {
        "id": "s4aKHvnZjwf5",
        "outputId": "a8fb6dc8-5a3e-417c-af5a-7b7d03f7485a",
        "colab": {
          "base_uri": "https://localhost:8080/",
          "height": 54
        }
      },
      "source": [
        "# 請在下一行開始輸入你的程式碼\n",
        "first_word = []\n",
        "used = []\n",
        "\n",
        "for i in seven_words:\n",
        "    first_word.append(i[0])   # 把五言詩句的字首擷取出來\n",
        "\n",
        "# 進階語法：把不重複的字存到串列中，並印出來\n",
        "[used.append(x) for x in first_word if x not in used]\n",
        "print(' '.join(used))"
      ],
      "execution_count": null,
      "outputs": [
        {
          "output_type": "stream",
          "text": [
            "待 今 猿 玉 長 老 銀 彼 三 一 謝 楚 驚 黃 漫 別 松 花 九 雨 漢 虜 鈿 雲 平 贏 到 儀 出 莫 不 魂 塗 秋 會 陰 聖 胡 雄 辜 山 世 君 拔 為 先 且 天 上 衡 仙 相 言 風 大 故 誓 但 況 可 昨 多 青 正 妝 斷 妙 十 清 移 對 嗟 欲 寄 宗 毫 砧 石 兒 翠 何 崔 國 鐘 朝 舊 乘 霄 禾 當 同 捲 強 州 借 釵 如 寂 休 星 又 謫 翻 行 煙 五 巴 扶 中 隱 就 繞 悵 公 人 總 邑 羯 將 洞 紫 昔 心 肯 機 輕 掎 年 千 貴 升 湘 碧 卻 萬 衛 子 使 寥 含 獨 香 梨 野 重 小 遷 曲 詠 畫 北 從 珠 猶 爾 說 滿 請 瞿 共 霜 蜀 唯 去 僧 影 初 歲 江 颯 罪 華 丞 落 白 輪 屋 夕 名 蜻 辭 艱 汀 迴 英 塵 少 我 帝 翡 自 丹 六 回 雪 與 歸 柳 估 即 生 姊 哀 須 神 七 春 敢 空 衣 寒 蠟 美 淚 纖 鳳 苦 已 漁 劇 金 犀 旌 閨 每 藍 觀 武 御 聞 連 針 閣 月 永 邊 陶 盧 秦 嘶 海 禁 古 足 孔 元 虯 葡 憶 摐 珮 無 邏 琵 前 屈 碑 傍 羅 支 愬 河 冥 鴛 芳 願 未 環 茂 猩 富 殘 坐 恐 尋 在 斑 夜 炙 揀 抽 指 分 剔 積 孤 整 也 家 絳 蛟 誰 安 牽 赦 欸 晉 二 沈 罷 主 波 猛 悠 高 芙 賈 彈 騰 袍 侍 來 尚 徒 杜 鳥 屢 負 快 此 曉 軍 王 閒 新 縞 近 宣 雙 夷 憐 遠 楊 兩 八 骨 書 李 嗣 紅 顧 諸 問 終 似 日 四 折 西 桃 豈 偶 潯 鬼 呼 肌 遙 著 身 以 晴 舉 漂 排 隨 方 競 潦 坎 睢 還 居 陽 閑 烹 臨 夢 吾 巖 曾 笳 羽 才 更 笑 勸 錦 論 蟲 弟 百 瀚 窈 點 云 水 志 依 慎 澹 賜 手 凌 卷 芭 慣 傳 ? 景 或 便 汝 湯 門 貧 側 幕 句 桂 淮 停 客 鴻 黛 勢 蒼 鸞 愧 運 絃 承 隴 剜 姑 幽 鸚 斗 住 扇 鄭 道 潘 散 至 攬 氈 詞 渚 晚 榻 亦 臥 忽 纔 酒 廬 漠 亞 等 銅 映 嫦 驪 蔡 淡 雖 態 滄 良 劍 斜 他 羌 龍 虎 幹 封 射 縱 陋 憑 戰 馬 試 城 棗 流 赤 俱 數 鐵 昭 鋪 賓 烏 其 有 乃 應 南 直 詎 醉 竊 戲 豆 時 文 感 朔 吳 蘇 樵 半 駐 穆 下 蓬 絕 媚 奉 鄉 余 色 迥 玳 熊 巫 曷 關 簾 細 腹 沙 後 判 惟 遼 讒 霓 商 竄 周 擬 岐 太 血 能 渭 女 麤 詔 賊 征 復 峽 濡 嗚 隔 料 侯 凝 搖 濯 愁 雁 柯 朱 柄 鶯 絡 琴 死 斯 東 管 路 枯 單 忍 轉 宓 替 樽 洛 趙 腰 開 明 匈 飛 嵩 耿 車 瑤 雞 座 遍 受 曳 舟 羞 樓 往 爺 徑 跨 捫 皆 間 校 燕 盤 蒸 低 恥 粉 滌 省 迸 走 戍 驛 悔 表 微 岧 擁 矯 庾 帷 盡 羲 鑿 功 椒 砯 只 寶 廟 是 薄 力 涼 望 早 意 聊 步 狂 嶺 焉 若 杲 經 暫 泥 夏 樹 晨 鹿 豺 鄧 疏 輸 蹙 節 地 紗 峨 舍 變 口 密 陳 楓 繡 溫 繁 男 暮 始 鑾 劉 鎖 珊 弔 深 光 虢 遂 字 於 仰 森 解 噴 學 樂 奔 麝 淒 崩 張 賀 狐 蕭 屏 潛 鐫 冰 簫 薦 嘔 苑 牧 養 殺 內 群 火 莊 慄 輦 梁 最 潮 娉 嘈 被 添 津 宛 誠 陸 玄 哭 紛 婕 迷 伯 登 綠 畏 都 蒐 遲 褒 入 獻 酌 報 圉 繼 田 緩\n"
          ],
          "name": "stdout"
        }
      ]
    },
    {
      "cell_type": "markdown",
      "metadata": {
        "id": "GUNUhpq1jwf7"
      },
      "source": [
        "### 【挑戰】請問唐詩300首，句首(第一個字)用了多少個不重複的字？"
      ]
    },
    {
      "cell_type": "code",
      "metadata": {
        "id": "qpi8TI-Tjwf7"
      },
      "source": [
        "# 請在下一行開始輸入你的程式碼\n",
        "first_word = []\n",
        "used = []\n",
        "\n",
        "for i in five_words, seven_words:\n",
        "    first_word.append(i[0])   # 把五言詩句的字首擷取出來\n",
        "\n",
        "# 把不重複的字存到串列中，並印出來\n",
        "for x in first_word:\n",
        "    if x not in used:\n",
        "        used.append(x)\n",
        "\n",
        "print(' '.join(used))"
      ],
      "execution_count": null,
      "outputs": []
    },
    {
      "cell_type": "markdown",
      "metadata": {
        "id": "ACZwlrt6jwf-"
      },
      "source": [
        "### 【挑戰】想一想，這個藏頭唐詩生成器有什麼優缺點？有沒有什麼可以改善的地方？"
      ]
    },
    {
      "cell_type": "code",
      "metadata": {
        "id": "Y4kblYmkjwf-"
      },
      "source": [
        ""
      ],
      "execution_count": null,
      "outputs": []
    }
  ]
}