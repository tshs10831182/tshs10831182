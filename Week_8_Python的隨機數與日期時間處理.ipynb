{
  "nbformat": 4,
  "nbformat_minor": 0,
  "metadata": {
    "kernelspec": {
      "display_name": "Python 3",
      "language": "python",
      "name": "python3"
    },
    "language_info": {
      "codemirror_mode": {
        "name": "ipython",
        "version": 3
      },
      "file_extension": ".py",
      "mimetype": "text/x-python",
      "name": "python",
      "nbconvert_exporter": "python",
      "pygments_lexer": "ipython3",
      "version": "3.7.4"
    },
    "colab": {
      "name": "Week 8 Python的隨機數與日期時間處理.ipynb",
      "provenance": [],
      "include_colab_link": true
    }
  },
  "cells": [
    {
      "cell_type": "markdown",
      "metadata": {
        "id": "view-in-github",
        "colab_type": "text"
      },
      "source": [
        "<a href=\"https://colab.research.google.com/github/tshs10831182/tshs10831182repo/blob/master/Week_8_Python%E7%9A%84%E9%9A%A8%E6%A9%9F%E6%95%B8%E8%88%87%E6%97%A5%E6%9C%9F%E6%99%82%E9%96%93%E8%99%95%E7%90%86.ipynb\" target=\"_parent\"><img src=\"https://colab.research.google.com/assets/colab-badge.svg\" alt=\"Open In Colab\"/></a>"
      ]
    },
    {
      "cell_type": "markdown",
      "metadata": {
        "id": "F1K3rLHAllJB"
      },
      "source": [
        "![](http://www.tshs.tp.edu.tw/images/bg/logo.jpg) \n",
        "\n",
        "## 多元選修課程：Python與人工智慧程式設計\n",
        "\n",
        "# 【第八週】Python的隨機數與日期時間處理"
      ]
    },
    {
      "cell_type": "markdown",
      "metadata": {
        "id": "G9jzndfqllJC"
      },
      "source": [
        "在資料分析與AI程式設計的領域中常會需要運用隨機(random)數的方法來處理資料及模型，例如在深度學習的模型訓練時，常用隨機值來初始化訓練權重。\n",
        "\n",
        "要了解Python提供的隨機數功能，今天的內容分為Python內建的 `random` 模組，以及 NumPy 提供的 `random` 模組來介紹。\n",
        "\n",
        "### 【任務8-1】模擬擲骰子：認識Python `random` 模組\n",
        "\n",
        "在使用 `random` 模組前，須先 import。"
      ]
    },
    {
      "cell_type": "code",
      "metadata": {
        "id": "F0syqKehllJD"
      },
      "source": [
        "import random"
      ],
      "execution_count": null,
      "outputs": []
    },
    {
      "cell_type": "markdown",
      "metadata": {
        "id": "k0kQwzTzllJF"
      },
      "source": [
        "隨機數產生的種子(seed)，程式會根據種子產生隨機數。如果沒有指定種子的話，會使用**系統時間**來當做種子。\n",
        "\n",
        "【註】在這邊我們指定種子的主要原因為了要讓每次產生的隨機數都相同，在學習或是除錯時比較方便。"
      ]
    },
    {
      "cell_type": "code",
      "metadata": {
        "id": "tNf-4BsPllJG"
      },
      "source": [
        "random.seed(3)"
      ],
      "execution_count": null,
      "outputs": []
    },
    {
      "cell_type": "markdown",
      "metadata": {
        "id": "9XEwAo6nllJI"
      },
      "source": [
        "從固定區間的數字中產生隨機**整數**，可以使用下列函式及語法：\n",
        "\n",
        "```python\n",
        "random.randint(a, b)\n",
        "```\n",
        "\n",
        "其中，產生隨機整數$N$的值為介於$a$和$b$之間($a \\le N \\le b$)\n",
        "\n",
        "下面的範例，模擬擲骰子10000次，將每次擲出來的數字使用串列的 `append()` 函式存到串列中。"
      ]
    },
    {
      "cell_type": "code",
      "metadata": {
        "id": "ixV2bkGOllJI"
      },
      "source": [
        "a = []\n",
        "\n",
        "for i in range(10000):\n",
        "    a.append(random.randint(1, 6))"
      ],
      "execution_count": null,
      "outputs": []
    },
    {
      "cell_type": "code",
      "metadata": {
        "id": "ANGZpa4JllJK",
        "outputId": "4507bf93-9e53-47f4-a5bc-970ad82a411d"
      },
      "source": [
        "# 列出前10筆查看\n",
        "a[0:10]"
      ],
      "execution_count": null,
      "outputs": [
        {
          "output_type": "execute_result",
          "data": {
            "text/plain": [
              "[2, 5, 5, 2, 3, 5, 4, 6, 5, 1]"
            ]
          },
          "metadata": {
            "tags": []
          },
          "execution_count": 4
        }
      ]
    },
    {
      "cell_type": "markdown",
      "metadata": {
        "id": "Us8j1pKollJN"
      },
      "source": [
        "使用串列的 `count()` 函式，可以統計串列中每個元素出現的次數，我們可以用來統計骰子擲出數字的次數。\n",
        "\n",
        "語法：\n",
        "\n",
        "```python\n",
        "串列名稱.count(元素值)\n",
        "```"
      ]
    },
    {
      "cell_type": "code",
      "metadata": {
        "id": "zVuFT0fYllJO",
        "outputId": "2eeebdb5-1cfd-41e8-ff72-e78d33e43c37"
      },
      "source": [
        "for j in range(1, 7):\n",
        "    print(j, \"出現的次數：\", a.count(j))"
      ],
      "execution_count": null,
      "outputs": [
        {
          "output_type": "stream",
          "text": [
            "1 出現的次數： 1658\n",
            "2 出現的次數： 1653\n",
            "3 出現的次數： 1769\n",
            "4 出現的次數： 1695\n",
            "5 出現的次數： 1645\n",
            "6 出現的次數： 1580\n"
          ],
          "name": "stdout"
        }
      ]
    },
    {
      "cell_type": "markdown",
      "metadata": {
        "id": "gwopKW2tllJQ"
      },
      "source": [
        "另一個寫法，我們從 [1, 2, 3, 4, 5, 6] 串列中，隨機抽取一個元素，模擬擲骰子。\n",
        "\n",
        "語法：\n",
        "\n",
        "```python\n",
        "random.choice(串列)\n",
        "```\n",
        "\n",
        "我們將抽取出來的數字存到另一個串列，最後用串列的 `count()` 與 `len()` 函式相除，計算抽到3的機率是多少。理論上，擲骰子擲出每個數字的機率應該都是約 16.67%。"
      ]
    },
    {
      "cell_type": "code",
      "metadata": {
        "id": "muIX9OBwllJQ",
        "outputId": "98126fbe-eef9-4325-a51c-a77b7e2f84dd"
      },
      "source": [
        "a = []\n",
        "dice = [1, 2, 3, 4, 5, 6]\n",
        "\n",
        "for i in range(10000):\n",
        "    a.append(random.choice(dice))\n",
        "\n",
        "a.count(3) / len(a)"
      ],
      "execution_count": null,
      "outputs": [
        {
          "output_type": "execute_result",
          "data": {
            "text/plain": [
              "0.1728"
            ]
          },
          "metadata": {
            "tags": []
          },
          "execution_count": 6
        }
      ]
    },
    {
      "cell_type": "markdown",
      "metadata": {
        "id": "PmFVQc8illJT"
      },
      "source": [
        "### 【回憶】曾經體驗過的 `shuffle()`\n",
        "\n",
        "在上次的課程中，我們曾經體驗過將串列中的元素洗牌。\n",
        "\n",
        "```python\n",
        "random.shuffle(five_words)\n",
        "```\n",
        "\n",
        "shuffle 接受傳入的引數是串列名稱。下面的例子是將1~10數字串列洗牌。"
      ]
    },
    {
      "cell_type": "code",
      "metadata": {
        "id": "doNLDEdjllJT",
        "outputId": "00df4559-739e-4762-fa04-b164e882e6c1"
      },
      "source": [
        "a = [1, 2, 3, 4, 5, 6, 7, 8, 9, 10]\n",
        "\n",
        "random.shuffle(a)\n",
        "a"
      ],
      "execution_count": null,
      "outputs": [
        {
          "output_type": "execute_result",
          "data": {
            "text/plain": [
              "[4, 3, 6, 2, 10, 7, 9, 8, 5, 1]"
            ]
          },
          "metadata": {
            "tags": []
          },
          "execution_count": 7
        }
      ]
    },
    {
      "cell_type": "markdown",
      "metadata": {
        "id": "ar4Z7-NzllJV"
      },
      "source": [
        "### 【任務8-2】如何隨機產生浮點數\n",
        "\n",
        "相較於 `randint()` 產生的隨機數是整數，`random()` 和 `uniform()` 函式產生的則是浮點數。兩個函式主要的差異在於 `random()` 產生的隨機數是介於 0 和 1.0 (不包含1.0)；`uniform()` 產生的隨機數$N$的值為介於起始值$a$和結束值$b$之間($a \\le N \\le b$)。\n",
        "\n",
        "語法：\n",
        "\n",
        "```python\n",
        "random.random()\n",
        "random.uniform(a, b)\n",
        "```"
      ]
    },
    {
      "cell_type": "code",
      "metadata": {
        "id": "RmgWhCY3llJV",
        "outputId": "edf6369d-b2e0-4c6a-d7d7-88a2c6d56f10"
      },
      "source": [
        "random.random()"
      ],
      "execution_count": null,
      "outputs": [
        {
          "output_type": "execute_result",
          "data": {
            "text/plain": [
              "0.9632231371526404"
            ]
          },
          "metadata": {
            "tags": []
          },
          "execution_count": 8
        }
      ]
    },
    {
      "cell_type": "code",
      "metadata": {
        "id": "G8p_YUz6llJX",
        "outputId": "c6874d6d-3bb8-46cb-eaf8-dfd9a2b037f6"
      },
      "source": [
        "random.uniform(1, 10)"
      ],
      "execution_count": null,
      "outputs": [
        {
          "output_type": "execute_result",
          "data": {
            "text/plain": [
              "8.520739743647205"
            ]
          },
          "metadata": {
            "tags": []
          },
          "execution_count": 9
        }
      ]
    },
    {
      "cell_type": "markdown",
      "metadata": {
        "id": "9PFK5RgjllJZ"
      },
      "source": [
        "### 【任務8-3】從一堆數字裡面，隨機取出指定數目的數字"
      ]
    },
    {
      "cell_type": "markdown",
      "metadata": {
        "id": "hTGmS8yFllJa"
      },
      "source": [
        "如果要從一堆數字裡面，隨機取出指定數目的數字，可以使用 `sample()` 函式。"
      ]
    },
    {
      "cell_type": "code",
      "metadata": {
        "id": "3aC4dNnfllJa",
        "outputId": "1816ae06-a505-4652-ac26-ac118ee0d186"
      },
      "source": [
        "b = [1.0, 2.1, 3.2, 4.3, 5.4, 6.5, 7.6, 8.7, 9.8, 10.1]\n",
        "random.sample(b, 6)"
      ],
      "execution_count": null,
      "outputs": [
        {
          "output_type": "execute_result",
          "data": {
            "text/plain": [
              "[2.1, 10.1, 3.2, 8.7, 1.0, 5.4]"
            ]
          },
          "metadata": {
            "tags": []
          },
          "execution_count": 10
        }
      ]
    },
    {
      "cell_type": "markdown",
      "metadata": {
        "id": "gYmhiz4bllJc"
      },
      "source": [
        "### 【任務8-4】初識 NumPy 的 `random` 模組\n",
        "\n",
        "NumPy 提供提供非常多隨機數函式，下面介紹幾個常用的函式，可以用來產生元素為隨機數的多維陣列。\n",
        "\n",
        "|函式|說明|產生數值區間|隨機數資料型別|隨機數分佈|\n",
        "|---|---|---|---|---|\n",
        "|rand()|隨機產生指定形狀(shape)的陣列|[0, 1)|浮點數|連續型均勻分布|\n",
        "|randn()|隨機產生指定形狀(shape)的陣列|(-1, 1)|浮點數|常態分佈|\n",
        "|randint((low[, high, size, dtype]))|隨機產生設定區間元素|[low, high)|整數|離散型均勻分布|\n",
        "|random([size])|隨機產生指定大小的一維陣列|[0.0, 1.0)|浮點數|連續型均勻分布|"
      ]
    },
    {
      "cell_type": "code",
      "metadata": {
        "id": "pFeEjmK5llJc"
      },
      "source": [
        "import numpy as np"
      ],
      "execution_count": null,
      "outputs": []
    },
    {
      "cell_type": "markdown",
      "metadata": {
        "id": "FNq5kfffllJf"
      },
      "source": [
        "隨機產生10個隨機整數的一維陣列，數字介於1到9之間。"
      ]
    },
    {
      "cell_type": "code",
      "metadata": {
        "id": "ywHIpPLTllJf",
        "outputId": "8ca0c30c-2c50-4d17-cfbb-514a393c5b1b"
      },
      "source": [
        "np.random.randint(1, 10, 10)"
      ],
      "execution_count": null,
      "outputs": [
        {
          "output_type": "execute_result",
          "data": {
            "text/plain": [
              "array([9, 4, 3, 6, 8, 1, 1, 1, 7, 4])"
            ]
          },
          "metadata": {
            "tags": []
          },
          "execution_count": 12
        }
      ]
    },
    {
      "cell_type": "markdown",
      "metadata": {
        "id": "o4XsaGszllJh"
      },
      "source": [
        "隨機產生10個隨機浮點數的一維陣列，數字介於0到1.0之間(不包含1.0)。"
      ]
    },
    {
      "cell_type": "code",
      "metadata": {
        "id": "HjqWIWN5llJh",
        "outputId": "58d9e6ee-e6fc-4fea-ea39-c3a4aa0c1351"
      },
      "source": [
        "np.random.random(10)"
      ],
      "execution_count": null,
      "outputs": [
        {
          "output_type": "execute_result",
          "data": {
            "text/plain": [
              "array([0.20531414, 0.79451221, 0.35639023, 0.30032098, 0.0386285 ,\n",
              "       0.96161737, 0.39767788, 0.60789872, 0.45908778, 0.07559442])"
            ]
          },
          "metadata": {
            "tags": []
          },
          "execution_count": 13
        }
      ]
    },
    {
      "cell_type": "markdown",
      "metadata": {
        "id": "9qioJ4XmllJj"
      },
      "source": [
        "類似Python random模組的 `choice()` 函式，NumPy也提供 `choice()` 函式。下面的範例產生1到6之間的10個整數陣列。"
      ]
    },
    {
      "cell_type": "code",
      "metadata": {
        "id": "7hQL0n36llJk",
        "outputId": "a81cc2a6-e9bc-4bf5-daff-02063501a85f"
      },
      "source": [
        "np.random.choice(range(1, 7), 10)"
      ],
      "execution_count": null,
      "outputs": [
        {
          "output_type": "execute_result",
          "data": {
            "text/plain": [
              "array([3, 4, 3, 5, 1, 3, 5, 3, 1, 2])"
            ]
          },
          "metadata": {
            "tags": []
          },
          "execution_count": 14
        }
      ]
    },
    {
      "cell_type": "markdown",
      "metadata": {
        "id": "ztDw8gZ-llJl"
      },
      "source": [
        "隨機產生指定形狀的陣列，`numpy.random.rand()` 與 `numpy.random.randn()` 不同之處在於產生數值區間和隨機數分佈。\n",
        "\n",
        "|函式|說明|產生數值區間|隨機數資料型別|隨機數分佈|\n",
        "|---|---|---|---|---|\n",
        "|rand()|隨機產生指定形狀(shape)的陣列|[0, 1)|浮點數|連續型均勻分布|\n",
        "|randn()|隨機產生指定形狀(shape)的陣列|(-1, 1)|浮點數|常態分佈|\n",
        "\n",
        "下面的例子是隨機產生 2 $\\times$ 3 形狀的二維陣列。"
      ]
    },
    {
      "cell_type": "code",
      "metadata": {
        "id": "75VD9OdxllJm",
        "outputId": "01321417-96fd-4b1c-d5f6-810fe5fe881a"
      },
      "source": [
        "np.random.rand(2, 3)"
      ],
      "execution_count": null,
      "outputs": [
        {
          "output_type": "execute_result",
          "data": {
            "text/plain": [
              "array([[0.16147789, 0.06035064, 0.8264096 ],\n",
              "       [0.4498146 , 0.59004676, 0.79127071]])"
            ]
          },
          "metadata": {
            "tags": []
          },
          "execution_count": 15
        }
      ]
    },
    {
      "cell_type": "code",
      "metadata": {
        "id": "tPMWbuAhllJn",
        "outputId": "39590831-55cd-4775-a69c-627f45156a6c"
      },
      "source": [
        "np.random.randn(2, 3)"
      ],
      "execution_count": null,
      "outputs": [
        {
          "output_type": "execute_result",
          "data": {
            "text/plain": [
              "array([[ 0.55616966, -1.03495053, -2.20619412],\n",
              "       [ 1.42066686, -1.59606025,  1.08476654]])"
            ]
          },
          "metadata": {
            "tags": []
          },
          "execution_count": 16
        }
      ]
    },
    {
      "cell_type": "markdown",
      "metadata": {
        "id": "68zlWlUTllJp"
      },
      "source": [
        "### 【挑戰】家人想買大樂透但是不知道該買什麼號碼，做一個隨機選號產生器吧\n",
        "\n",
        "![](https://www.taiwanlottery.com.tw/images/loto_image01.jpg)\n",
        "\n",
        "圖片來源：台灣彩券\n",
        "\n",
        "大樂透的投注方式是從01~49中任選6個號碼進行投注。\n",
        "\n",
        "提示：\n",
        "1. 在隨機選號前，提示使用者輸入一個幸運號碼。\n",
        "2. 隨機從1~49中選出要簽注的號碼。\n",
        "3. 確定每次隨機選出的號碼，沒有跟幸運號碼或是已選出的號碼重覆。"
      ]
    },
    {
      "cell_type": "code",
      "metadata": {
        "id": "q0u7AbpxllJq"
      },
      "source": [
        "luckynum = input(\"請輸入一個幸運號碼：\")"
      ],
      "execution_count": null,
      "outputs": []
    },
    {
      "cell_type": "code",
      "metadata": {
        "id": "aZCApQ1zllJs"
      },
      "source": [
        "lottery = []\n",
        "excludenum = []\n",
        "\n",
        "# 請從下一行開始撰寫程式\n"
      ],
      "execution_count": null,
      "outputs": []
    },
    {
      "cell_type": "markdown",
      "metadata": {
        "id": "MrG7uljKllJt"
      },
      "source": [
        "### 【挑戰】利用蒙地卡羅方法，估算圓周率\n",
        "\n",
        "圓周率 $\\pi$ 是一個無理數，它的小數部分是無限不循環小數，其數字序列被認為是隨機分布的。自古以來數學家們嘗試用不同的方法來計算較精確的 $\\pi$。\n",
        "\n",
        "蒙地卡羅方法 (Monte Carlo Method) 也稱為統計類比方法，可透過隨機分布的特徵數轉化為求解問題的答案，例如隨機數出現的機率。利用蒙地卡羅方法，估算圓周率的方式是藉由輸入隨機數來計算圓面積的過程，計算出圓周率 $\\pi$。\n",
        "\n",
        "![](https://drive.google.com/uc?export=view&id=1Coe9Wy4akrXPXnBjbd4XKir41Q8MD_2G)\n",
        "\n",
        "假設有一個直徑長為 1 的圓形，要使用蒙地卡羅方法計算其面積，我們隨機塞入 N 個點到上面的正方形當中，有些點會落在圓形內而有些點會在圓形外，算出落在圓形內點的數目就可以得到圓形的面積。\n",
        "\n",
        "假設半徑 $r=0.5$，圓形面積的計算公式為\n",
        "\n",
        "$$\\pi r^2=\\pi\\times0.5^2=\\frac{\\pi}{4}$$\n",
        "\n",
        "並以此得到 $$\\pi=4\\times面積=4\\times\\frac{落在圓內的點}{所有的點}$$\n",
        "\n",
        "提示：\n",
        "- 隨機產生x, y的值做為隨機點的座標。x, y值介於0到1之間。\n",
        "- 判斷隨機點的座標到圓心的距離如果小於半徑的話，表示這個點在圓內。"
      ]
    },
    {
      "cell_type": "code",
      "metadata": {
        "id": "AKa_Nd4JllJu"
      },
      "source": [
        "# 半徑長度\n",
        "radius = 0.5"
      ],
      "execution_count": null,
      "outputs": []
    },
    {
      "cell_type": "code",
      "metadata": {
        "id": "9NOfhY1VllJv"
      },
      "source": [
        "# 設定隨機數產生的數目\n",
        "n = 10000"
      ],
      "execution_count": null,
      "outputs": []
    },
    {
      "cell_type": "code",
      "metadata": {
        "id": "ESmMZ_9mllJx"
      },
      "source": [
        "# 請從下一行開始撰寫程式\n"
      ],
      "execution_count": null,
      "outputs": []
    },
    {
      "cell_type": "markdown",
      "metadata": {
        "id": "MIQeubqJllJz"
      },
      "source": [
        "**可以嘗試改變程式中的 N 值 (例如更新為 300000)，觀察看看 mypi 的值是否有所不同。**"
      ]
    },
    {
      "cell_type": "markdown",
      "metadata": {
        "id": "L-iEfpmRllJ0"
      },
      "source": [
        "### 日期與時間\n",
        "\n",
        "日期與時間在資料分析時是常常會遇到的資料內容，但是由於各個國家、語系、時區... 對於日期與時間的撰寫和表達方式各有不同，所以有好的工具來處理日期與時間是很重要的。Python提供 `datetime`、`date`、`time`、`timedelta`、`calendar` 等模組或類別來輔助日期與時間的處理工作。\n",
        "\n",
        "今天的課程中將介紹 `datetime`、`timedelta`、`calendar` 等模組及常用的功能。"
      ]
    },
    {
      "cell_type": "markdown",
      "metadata": {
        "id": "QmHkGehqllJ0"
      },
      "source": [
        "### 【任務8-5】產生年曆和月曆只要一行程式 - `calendar` 模組\n",
        "\n",
        "匯入模組"
      ]
    },
    {
      "cell_type": "code",
      "metadata": {
        "id": "JgpkoYU2llJ1"
      },
      "source": [
        "import calendar"
      ],
      "execution_count": null,
      "outputs": []
    },
    {
      "cell_type": "markdown",
      "metadata": {
        "id": "HrS9JdMbllJ3"
      },
      "source": [
        "`calendar` 預設的\"週\"啟始日是週一，從索引0開始。以台灣的習慣來說，我們將每週的第一天設為6，也就是週日。"
      ]
    },
    {
      "cell_type": "code",
      "metadata": {
        "id": "QYYWyk6IllJ3"
      },
      "source": [
        "calendar.setfirstweekday(6)"
      ],
      "execution_count": null,
      "outputs": []
    },
    {
      "cell_type": "markdown",
      "metadata": {
        "id": "uDh30cusllJ6"
      },
      "source": [
        "印出年曆只要一行程式！兩種方式：\n",
        "\n",
        "calendar() 函式回傳的是字串，在輸出時會包含跳脫字元，若使用 `print()` 輸出就可以顯示完整的格式，語法如下：\n",
        "\n",
        "```python\n",
        "calendar.calendar(西元年份)\n",
        "```\n",
        "\n",
        "`prcal()` 函式則是會直接輸出排列整齊的格式。語法如下：\n",
        "\n",
        "```python\n",
        "calendar.prcal(西元年份)\n",
        "```"
      ]
    },
    {
      "cell_type": "code",
      "metadata": {
        "id": "S7rSpCcGllJ6",
        "outputId": "c5cb2f50-7462-4a0c-a322-045f9bc2175e"
      },
      "source": [
        "# 年曆的原始字串\n",
        "calendar.calendar(2021)"
      ],
      "execution_count": null,
      "outputs": [
        {
          "output_type": "execute_result",
          "data": {
            "text/plain": [
              "'                                  2021\\n\\n      January                   February                   March\\nSu Mo Tu We Th Fr Sa      Su Mo Tu We Th Fr Sa      Su Mo Tu We Th Fr Sa\\n                1  2          1  2  3  4  5  6          1  2  3  4  5  6\\n 3  4  5  6  7  8  9       7  8  9 10 11 12 13       7  8  9 10 11 12 13\\n10 11 12 13 14 15 16      14 15 16 17 18 19 20      14 15 16 17 18 19 20\\n17 18 19 20 21 22 23      21 22 23 24 25 26 27      21 22 23 24 25 26 27\\n24 25 26 27 28 29 30      28                        28 29 30 31\\n31\\n\\n       April                      May                       June\\nSu Mo Tu We Th Fr Sa      Su Mo Tu We Th Fr Sa      Su Mo Tu We Th Fr Sa\\n             1  2  3                         1             1  2  3  4  5\\n 4  5  6  7  8  9 10       2  3  4  5  6  7  8       6  7  8  9 10 11 12\\n11 12 13 14 15 16 17       9 10 11 12 13 14 15      13 14 15 16 17 18 19\\n18 19 20 21 22 23 24      16 17 18 19 20 21 22      20 21 22 23 24 25 26\\n25 26 27 28 29 30         23 24 25 26 27 28 29      27 28 29 30\\n                          30 31\\n\\n        July                     August                  September\\nSu Mo Tu We Th Fr Sa      Su Mo Tu We Th Fr Sa      Su Mo Tu We Th Fr Sa\\n             1  2  3       1  2  3  4  5  6  7                1  2  3  4\\n 4  5  6  7  8  9 10       8  9 10 11 12 13 14       5  6  7  8  9 10 11\\n11 12 13 14 15 16 17      15 16 17 18 19 20 21      12 13 14 15 16 17 18\\n18 19 20 21 22 23 24      22 23 24 25 26 27 28      19 20 21 22 23 24 25\\n25 26 27 28 29 30 31      29 30 31                  26 27 28 29 30\\n\\n      October                   November                  December\\nSu Mo Tu We Th Fr Sa      Su Mo Tu We Th Fr Sa      Su Mo Tu We Th Fr Sa\\n                1  2          1  2  3  4  5  6                1  2  3  4\\n 3  4  5  6  7  8  9       7  8  9 10 11 12 13       5  6  7  8  9 10 11\\n10 11 12 13 14 15 16      14 15 16 17 18 19 20      12 13 14 15 16 17 18\\n17 18 19 20 21 22 23      21 22 23 24 25 26 27      19 20 21 22 23 24 25\\n24 25 26 27 28 29 30      28 29 30                  26 27 28 29 30 31\\n31\\n'"
            ]
          },
          "metadata": {
            "tags": []
          },
          "execution_count": 19
        }
      ]
    },
    {
      "cell_type": "code",
      "metadata": {
        "id": "GGNEB4X3llJ-",
        "outputId": "f1467e53-32ed-409e-ed32-f3ef5d74eae9"
      },
      "source": [
        "# 印出2021年曆\n",
        "print(calendar.calendar(2021))"
      ],
      "execution_count": null,
      "outputs": [
        {
          "output_type": "stream",
          "text": [
            "                                  2021\n",
            "\n",
            "      January                   February                   March\n",
            "Su Mo Tu We Th Fr Sa      Su Mo Tu We Th Fr Sa      Su Mo Tu We Th Fr Sa\n",
            "                1  2          1  2  3  4  5  6          1  2  3  4  5  6\n",
            " 3  4  5  6  7  8  9       7  8  9 10 11 12 13       7  8  9 10 11 12 13\n",
            "10 11 12 13 14 15 16      14 15 16 17 18 19 20      14 15 16 17 18 19 20\n",
            "17 18 19 20 21 22 23      21 22 23 24 25 26 27      21 22 23 24 25 26 27\n",
            "24 25 26 27 28 29 30      28                        28 29 30 31\n",
            "31\n",
            "\n",
            "       April                      May                       June\n",
            "Su Mo Tu We Th Fr Sa      Su Mo Tu We Th Fr Sa      Su Mo Tu We Th Fr Sa\n",
            "             1  2  3                         1             1  2  3  4  5\n",
            " 4  5  6  7  8  9 10       2  3  4  5  6  7  8       6  7  8  9 10 11 12\n",
            "11 12 13 14 15 16 17       9 10 11 12 13 14 15      13 14 15 16 17 18 19\n",
            "18 19 20 21 22 23 24      16 17 18 19 20 21 22      20 21 22 23 24 25 26\n",
            "25 26 27 28 29 30         23 24 25 26 27 28 29      27 28 29 30\n",
            "                          30 31\n",
            "\n",
            "        July                     August                  September\n",
            "Su Mo Tu We Th Fr Sa      Su Mo Tu We Th Fr Sa      Su Mo Tu We Th Fr Sa\n",
            "             1  2  3       1  2  3  4  5  6  7                1  2  3  4\n",
            " 4  5  6  7  8  9 10       8  9 10 11 12 13 14       5  6  7  8  9 10 11\n",
            "11 12 13 14 15 16 17      15 16 17 18 19 20 21      12 13 14 15 16 17 18\n",
            "18 19 20 21 22 23 24      22 23 24 25 26 27 28      19 20 21 22 23 24 25\n",
            "25 26 27 28 29 30 31      29 30 31                  26 27 28 29 30\n",
            "\n",
            "      October                   November                  December\n",
            "Su Mo Tu We Th Fr Sa      Su Mo Tu We Th Fr Sa      Su Mo Tu We Th Fr Sa\n",
            "                1  2          1  2  3  4  5  6                1  2  3  4\n",
            " 3  4  5  6  7  8  9       7  8  9 10 11 12 13       5  6  7  8  9 10 11\n",
            "10 11 12 13 14 15 16      14 15 16 17 18 19 20      12 13 14 15 16 17 18\n",
            "17 18 19 20 21 22 23      21 22 23 24 25 26 27      19 20 21 22 23 24 25\n",
            "24 25 26 27 28 29 30      28 29 30                  26 27 28 29 30 31\n",
            "31\n",
            "\n"
          ],
          "name": "stdout"
        }
      ]
    },
    {
      "cell_type": "markdown",
      "metadata": {
        "id": "gVzsF7E1llJ_"
      },
      "source": [
        "印出月曆只要一行程式！語法如下：\n",
        "\n",
        "```python\n",
        "calendar.prmonth(西元年份, 月份)\n",
        "```"
      ]
    },
    {
      "cell_type": "code",
      "metadata": {
        "id": "So2n2rdOllKA",
        "outputId": "2d1a2e18-2087-4751-84f4-a16667d65b03"
      },
      "source": [
        "print(calendar.month(2020, 10))"
      ],
      "execution_count": null,
      "outputs": [
        {
          "output_type": "stream",
          "text": [
            "    October 2020\n",
            "Su Mo Tu We Th Fr Sa\n",
            "             1  2  3\n",
            " 4  5  6  7  8  9 10\n",
            "11 12 13 14 15 16 17\n",
            "18 19 20 21 22 23 24\n",
            "25 26 27 28 29 30 31\n",
            "\n"
          ],
          "name": "stdout"
        }
      ]
    },
    {
      "cell_type": "markdown",
      "metadata": {
        "id": "y8R8ct_YllKC"
      },
      "source": [
        "判斷某一年是否為閏年，呼叫 `isleap()` 函式，傳入西元年份即可。"
      ]
    },
    {
      "cell_type": "code",
      "metadata": {
        "id": "1MGKbYg_llKC",
        "outputId": "c3443ca2-a416-4a0a-85ea-4b10b9ddbd94"
      },
      "source": [
        "calendar.isleap(2021)"
      ],
      "execution_count": null,
      "outputs": [
        {
          "output_type": "execute_result",
          "data": {
            "text/plain": [
              "False"
            ]
          },
          "metadata": {
            "tags": []
          },
          "execution_count": 22
        }
      ]
    },
    {
      "cell_type": "markdown",
      "metadata": {
        "id": "UeBkuvhYllKD"
      },
      "source": [
        "想要知道某一個月份的第一天是星期幾、該月總共有幾天，可以透過 `monthrange()` 函式。\n",
        "\n",
        "下面範例示範2020年10月1日是週四，該月有31天。"
      ]
    },
    {
      "cell_type": "code",
      "metadata": {
        "id": "0KHyUsaxllKE",
        "outputId": "74d33a57-d227-4fbb-88e9-20a773d7ac90"
      },
      "source": [
        "calendar.monthrange(2020, 10)"
      ],
      "execution_count": null,
      "outputs": [
        {
          "output_type": "execute_result",
          "data": {
            "text/plain": [
              "(3, 31)"
            ]
          },
          "metadata": {
            "tags": []
          },
          "execution_count": 23
        }
      ]
    },
    {
      "cell_type": "markdown",
      "metadata": {
        "id": "ZDCT85sIllKG"
      },
      "source": [
        "### 【任務8-6】認識最主要的日期時間模組 - `datetime`\n",
        "\n",
        "載入模組和函式。"
      ]
    },
    {
      "cell_type": "code",
      "metadata": {
        "id": "oy6m8dDHllKG"
      },
      "source": [
        "from datetime import datetime"
      ],
      "execution_count": null,
      "outputs": []
    },
    {
      "cell_type": "markdown",
      "metadata": {
        "id": "iFitIfMGllKI"
      },
      "source": [
        "建立日期時間物件的方式，傳入西元年月日，時間未傳入的話預設值都為0。"
      ]
    },
    {
      "cell_type": "code",
      "metadata": {
        "id": "7W3p4EelllKI",
        "outputId": "425f561d-6569-4309-e317-e3f55dba5fac"
      },
      "source": [
        "datetime(2020, 10, 21)"
      ],
      "execution_count": null,
      "outputs": [
        {
          "output_type": "execute_result",
          "data": {
            "text/plain": [
              "datetime.datetime(2020, 10, 21, 0, 0)"
            ]
          },
          "metadata": {
            "tags": []
          },
          "execution_count": 25
        }
      ]
    },
    {
      "cell_type": "markdown",
      "metadata": {
        "id": "qiobd7PTllKK"
      },
      "source": [
        "建立時也可以傳入時間。"
      ]
    },
    {
      "cell_type": "code",
      "metadata": {
        "id": "zrjm9IzxllKK",
        "outputId": "3de95fe4-bfb3-465d-deb5-16315f8ddd5c"
      },
      "source": [
        "datetime(2020, 10, 21, 12, 0, 0)"
      ],
      "execution_count": null,
      "outputs": [
        {
          "output_type": "execute_result",
          "data": {
            "text/plain": [
              "datetime.datetime(2020, 10, 21, 12, 0)"
            ]
          },
          "metadata": {
            "tags": []
          },
          "execution_count": 26
        }
      ]
    },
    {
      "cell_type": "code",
      "metadata": {
        "id": "tUynobvrllKM",
        "outputId": "166c13b4-c9af-4ffd-fac3-00a9375a7fa0"
      },
      "source": [
        "datetime.now()"
      ],
      "execution_count": null,
      "outputs": [
        {
          "output_type": "execute_result",
          "data": {
            "text/plain": [
              "datetime.datetime(2020, 10, 22, 12, 7, 35, 45771)"
            ]
          },
          "metadata": {
            "tags": []
          },
          "execution_count": 27
        }
      ]
    },
    {
      "cell_type": "markdown",
      "metadata": {
        "id": "r1ZhBRkkllKN"
      },
      "source": [
        "日期時間物件之間可以進行減法，算出兩個日期時間之間的差距。\n",
        "\n",
        "現在的日期時間都可以用 `now()` 函式取得。"
      ]
    },
    {
      "cell_type": "code",
      "metadata": {
        "id": "QYId1FaQllKO",
        "outputId": "99789f2f-b47b-41db-d2a6-942ffeae830e"
      },
      "source": [
        "a = datetime.now()\n",
        "b = datetime(2020, 10, 10)\n",
        "\n",
        "a - b"
      ],
      "execution_count": null,
      "outputs": [
        {
          "output_type": "execute_result",
          "data": {
            "text/plain": [
              "datetime.timedelta(days=12, seconds=43655, microseconds=726435)"
            ]
          },
          "metadata": {
            "tags": []
          },
          "execution_count": 28
        }
      ]
    },
    {
      "cell_type": "markdown",
      "metadata": {
        "id": "mQWkOtIwllKP"
      },
      "source": [
        "從日期時間物件的屬性，分別取得年、月、日、時、分、秒。`weekday()` 函式則是取得星期幾。"
      ]
    },
    {
      "cell_type": "code",
      "metadata": {
        "id": "kswJ1NBHllKP",
        "outputId": "e48aab0a-d629-4b9c-968a-c437174694cf"
      },
      "source": [
        "print(datetime.now().year)\n",
        "print(datetime.now().month)\n",
        "print(datetime.now().day)\n",
        "print(datetime.now().hour)\n",
        "print(datetime.now().minute)\n",
        "print(datetime.now().second)\n",
        "print(datetime.now().weekday())"
      ],
      "execution_count": null,
      "outputs": [
        {
          "output_type": "stream",
          "text": [
            "2020\n",
            "10\n",
            "22\n",
            "12\n",
            "7\n",
            "36\n",
            "3\n"
          ],
          "name": "stdout"
        }
      ]
    },
    {
      "cell_type": "markdown",
      "metadata": {
        "id": "0ZkyXeBtllKR"
      },
      "source": [
        "### 【任務8-7】字串與日期時間互相轉換\n",
        "\n",
        "因為每個人寫日期時間格式可能各有不同，字串與日期時間之間轉換時，需要告訴程式格式，才能正確地解析。常用的日期時間格式碼如下，完整的格式碼可以參考 [strftime() and strptime() Format Codes](https://docs.python.org/3/library/datetime.html#strftime-and-strptime-format-codes)。\n",
        "\n",
        "|格式碼|意義|範例|\n",
        "|---|---|---|\n",
        "|%Y|完整西元年|2000, 2010, 2020|\n",
        "|%y|簡寫西元年|01, 02, 20|\n",
        "|%m|月份|01, 02, …, 12|\n",
        "|%d|日|01, 02, …, 31|\n",
        "|%H|時|00, 01, …, 23|\n",
        "|%M|分|00, 01, …, 59|\n",
        "|%S|秒|00, 01, …, 59|\n",
        "\n",
        "利用Python提供的函式來進行轉換：\n",
        "- `strptime()`：將字串轉為 datetime\n",
        "- `strftime()`：將 datetime 轉為字串\n",
        "\n",
        "`strptime()` 語法：\n",
        "\n",
        "```python\n",
        "datetime.strptime(包含日期時間的字串, 日期時間的格式)\n",
        "```"
      ]
    },
    {
      "cell_type": "code",
      "metadata": {
        "id": "L-fH7TchllKR",
        "outputId": "7a221870-06cf-4448-f0cf-b26ef16b4d0f"
      },
      "source": [
        "str = \"2020-10-21\"\n",
        "dt = datetime.strptime(str, '%Y-%m-%d')\n",
        "dt"
      ],
      "execution_count": null,
      "outputs": [
        {
          "output_type": "execute_result",
          "data": {
            "text/plain": [
              "datetime.datetime(2020, 10, 21, 0, 0)"
            ]
          },
          "metadata": {
            "tags": []
          },
          "execution_count": 30
        }
      ]
    },
    {
      "cell_type": "markdown",
      "metadata": {
        "id": "n8GWHf31llKT"
      },
      "source": [
        "`strftime()` 語法：\n",
        "\n",
        "```python\n",
        "datetime.strftime(要轉出字串的格式)\n",
        "```"
      ]
    },
    {
      "cell_type": "code",
      "metadata": {
        "id": "1q9ulv9GllKT",
        "outputId": "6127b0af-9273-4d1c-db4d-1e520db1a26f"
      },
      "source": [
        "dt.strftime('%y年%m月%d日')"
      ],
      "execution_count": null,
      "outputs": [
        {
          "output_type": "execute_result",
          "data": {
            "text/plain": [
              "'20年10月21日'"
            ]
          },
          "metadata": {
            "tags": []
          },
          "execution_count": 31
        }
      ]
    },
    {
      "cell_type": "markdown",
      "metadata": {
        "id": "Q7p__7n_llKV"
      },
      "source": [
        "### 【任務8-8】用 `timedelta` 來做日期時間運算\n",
        "\n",
        "`timedelta` 物件是**一段**日期時間間隔，可以用來跟 `datetime` 進行加減法運算。\n",
        "\n",
        "timedelta語法：\n",
        "\n",
        "```python\n",
        "timedelta(days=0, seconds=0, microseconds=0, milliseconds=0, minutes=0, hours=0, weeks=0)\n",
        "```\n",
        "\n",
        "例如：世界協調時間(UTC)時區比台北時區(Asia/Taipei)晚8小時，所以UTC時區現在時間可以用範例程式碼算出。"
      ]
    },
    {
      "cell_type": "code",
      "metadata": {
        "id": "HX1LkBHqllKW",
        "outputId": "689ea067-00cc-40c7-fe92-3a61c91a7791"
      },
      "source": [
        "from datetime import timedelta\n",
        "\n",
        "delta = timedelta(hours=8)\n",
        "\n",
        "UTCnow = datetime.now() - delta\n",
        "UTCnow"
      ],
      "execution_count": null,
      "outputs": [
        {
          "output_type": "execute_result",
          "data": {
            "text/plain": [
              "datetime.datetime(2020, 10, 22, 4, 7, 40, 6856)"
            ]
          },
          "metadata": {
            "tags": []
          },
          "execution_count": 32
        }
      ]
    },
    {
      "cell_type": "markdown",
      "metadata": {
        "id": "MzxOTfE3llKY"
      },
      "source": [
        "日期時間的物件之間不能相加，但是跟 `timedelta` 就可以相加。例如2021年大學指考的倒數100天是從3/23起算，加100天就是指考。\n",
        "\n",
        "範例中使用另一個建立 `datetime` 物件的方式 - `fromisoformat()` 函式，ISO格式的日期時間是 `YYYY-MM-DD[*HH[:MM[:SS]]]`，傳入正確格式字串就可以建立。"
      ]
    },
    {
      "cell_type": "code",
      "metadata": {
        "id": "D_KOmk9fllKY",
        "outputId": "315ccaca-9414-47f9-f49f-1f9b1033a0dc"
      },
      "source": [
        "datetime.fromisoformat('2021-03-23 08:00:00') + timedelta(days=100)"
      ],
      "execution_count": null,
      "outputs": [
        {
          "output_type": "execute_result",
          "data": {
            "text/plain": [
              "datetime.datetime(2021, 7, 1, 8, 0)"
            ]
          },
          "metadata": {
            "tags": []
          },
          "execution_count": 33
        }
      ]
    },
    {
      "cell_type": "markdown",
      "metadata": {
        "id": "2iiVazN5llKa"
      },
      "source": [
        "### 【挑戰】從現在到你的大學指考還有多少天？\n",
        "\n",
        "請用Python `datetime` 算出輸入的大學指考第一天日期，從今天算起還有多少天？"
      ]
    },
    {
      "cell_type": "code",
      "metadata": {
        "id": "H8oigF17llKb"
      },
      "source": [
        "userinput = input(\"輸入大學指考日期(格式: 西元年/月/日)\")"
      ],
      "execution_count": null,
      "outputs": []
    },
    {
      "cell_type": "code",
      "metadata": {
        "id": "nRih4e5OllKd"
      },
      "source": [
        "# 請從下一行開始撰寫程式\n"
      ],
      "execution_count": null,
      "outputs": []
    },
    {
      "cell_type": "code",
      "metadata": {
        "id": "T7yZ7SnillKe"
      },
      "source": [
        ""
      ],
      "execution_count": null,
      "outputs": []
    }
  ]
}