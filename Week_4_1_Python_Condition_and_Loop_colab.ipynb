{
  "nbformat": 4,
  "nbformat_minor": 0,
  "metadata": {
    "kernelspec": {
      "display_name": "Python 3",
      "language": "python",
      "name": "python3"
    },
    "language_info": {
      "codemirror_mode": {
        "name": "ipython",
        "version": 3
      },
      "file_extension": ".py",
      "mimetype": "text/x-python",
      "name": "python",
      "nbconvert_exporter": "python",
      "pygments_lexer": "ipython3",
      "version": "3.7.4"
    },
    "colab": {
      "name": "Week 4-1 Python Condition and Loop-colab.ipynb",
      "provenance": [],
      "collapsed_sections": [],
      "include_colab_link": true
    }
  },
  "cells": [
    {
      "cell_type": "markdown",
      "metadata": {
        "id": "view-in-github",
        "colab_type": "text"
      },
      "source": [
        "<a href=\"https://colab.research.google.com/github/tshs10831182/tshs10831182repo/blob/master/Week_4_1_Python_Condition_and_Loop_colab.ipynb\" target=\"_parent\"><img src=\"https://colab.research.google.com/assets/colab-badge.svg\" alt=\"Open In Colab\"/></a>"
      ]
    },
    {
      "cell_type": "markdown",
      "metadata": {
        "id": "I6R8zMmMZXtk"
      },
      "source": [
        "\n",
        "\n",
        "\n",
        "\n",
        "\n",
        "\n",
        "\n",
        "\n",
        "\n",
        "\n",
        "\n",
        "\n",
        "\n",
        "\n",
        "\n",
        "\n",
        "\n",
        "\n",
        "\n",
        "\n",
        "\n",
        "\n",
        "\n",
        "\n",
        "\n",
        "\n",
        "\n",
        "\n",
        "\n",
        ".![](http://www.tshs.tp.edu.tw/images/bg/logo.jpg) \n",
        "\n",
        "## 多元選修課程：Python與人工智慧程式設計\n",
        "\n",
        "# 【第四週】Python條件與迴圈\n",
        "\n",
        "今天的內容重點：\n",
        "- 串列(List)，是常用的資料型別，今天我們也會用串列來進行迴圈的控制。\n",
        "- 關係運算子與邏輯運算子，用來進行迴圈、流程控制中的條件式判斷。\n",
        "- 控制流程的 if 敍述\n",
        "- while及for迴圈\n",
        "- range物件的用法"
      ]
    },
    {
      "cell_type": "markdown",
      "metadata": {
        "id": "CdO7NTnBZXtl"
      },
      "source": [
        "### 【任務4-1】認識串列(List)\n",
        "\n",
        "使用中括號 `[ ]` 定義串列，語法如下：\n",
        "\n",
        "```python\n",
        "串列名稱 = [元素1, 元素2, 元素3, ..., 元素n]\n",
        "```\n",
        "\n",
        "元素可以是不同類型的，例如整數、浮點數、字串... 等。\n",
        "\n",
        "要存取串列裡的元素值時，用串列名稱和索引值。例如："
      ]
    },
    {
      "cell_type": "code",
      "metadata": {
        "id": "I5O4GQGAZXtm",
        "outputId": "17f19ab9-47c9-421a-a5d6-8cdba3665eea",
        "colab": {
          "base_uri": "https://localhost:8080/",
          "height": 34
        }
      },
      "source": [
        "a = [1, 2, 3, 4, 5, 6, 7, 8, 9, 10]\n",
        "print(a[2])     # 索引值是從0開始，所以a[2]的值為3"
      ],
      "execution_count": null,
      "outputs": [
        {
          "output_type": "stream",
          "text": [
            "3\n"
          ],
          "name": "stdout"
        }
      ]
    },
    {
      "cell_type": "markdown",
      "metadata": {
        "id": "yRCS8TscZXtr"
      },
      "source": [
        "要修改元素值的話，指定新的值到該索引即可。"
      ]
    },
    {
      "cell_type": "code",
      "metadata": {
        "id": "_nxLMgs_ZXtr",
        "outputId": "7097fda0-30fa-448c-b5b6-5680d64104cd",
        "colab": {
          "base_uri": "https://localhost:8080/",
          "height": 34
        }
      },
      "source": [
        "a[1] = 99\n",
        "a"
      ],
      "execution_count": null,
      "outputs": [
        {
          "output_type": "execute_result",
          "data": {
            "text/plain": [
              "[1, 99, 3, 4, 5, 6, 7, 8, 9, 10]"
            ]
          },
          "metadata": {
            "tags": []
          },
          "execution_count": 2
        }
      ]
    },
    {
      "cell_type": "markdown",
      "metadata": {
        "id": "iH8RO0NNZXtu"
      },
      "source": [
        "串列的切片(slicing)是取得串列部分內容。可以透過給定特定範圍的索引取得。\n",
        "\n",
        "切片語法：\n",
        "```python\n",
        "串列名稱[起始值start:結束值stop:跨步值step]\n",
        "```"
      ]
    },
    {
      "cell_type": "code",
      "metadata": {
        "id": "9x22A427ZXtv",
        "outputId": "60e506c9-5c01-4e44-af5a-d6080dc8ae3d",
        "colab": {
          "base_uri": "https://localhost:8080/",
          "height": 102
        }
      },
      "source": [
        "print(a[0:5])   # 索引值可以給範圍，範圍包含起始值但不包含結束值\n",
        "print(a[5:])    # 範圍可以指定某一個元素之後的所有元素\n",
        "print(a[:5])    # 範圍可以指定某一個元素之前的所有元素\n",
        "print(a[-5:])   # 取得後n個元素\n",
        "print(a[:-5])   # 不包含後n個元素"
      ],
      "execution_count": null,
      "outputs": [
        {
          "output_type": "stream",
          "text": [
            "[1, 99, 3, 4, 5]\n",
            "[6, 7, 8, 9, 10]\n",
            "[1, 99, 3, 4, 5]\n",
            "[6, 7, 8, 9, 10]\n",
            "[1, 99, 3, 4, 5]\n"
          ],
          "name": "stdout"
        }
      ]
    },
    {
      "cell_type": "markdown",
      "metadata": {
        "id": "yMp_YQz7ZXty"
      },
      "source": [
        "例如要取得串列中的所有奇數，可以用下列語法。"
      ]
    },
    {
      "cell_type": "code",
      "metadata": {
        "id": "varwEiMtZXtz",
        "outputId": "e6defe09-5d87-489e-c0a6-26f2bf45eae4",
        "colab": {
          "base_uri": "https://localhost:8080/",
          "height": 34
        }
      },
      "source": [
        "a[0::2]"
      ],
      "execution_count": null,
      "outputs": [
        {
          "output_type": "execute_result",
          "data": {
            "text/plain": [
              "[1, 3, 5, 7, 9]"
            ]
          },
          "metadata": {
            "tags": []
          },
          "execution_count": 4
        }
      ]
    },
    {
      "cell_type": "markdown",
      "metadata": {
        "id": "z_Fk1v2sZXt2"
      },
      "source": [
        "-1比較特別，索引值-1代表取得最後一個元素。"
      ]
    },
    {
      "cell_type": "code",
      "metadata": {
        "id": "BEGrWceKZXt2",
        "outputId": "193c1a7f-b379-4c41-97e4-b905dd8c9680",
        "colab": {
          "base_uri": "https://localhost:8080/",
          "height": 34
        }
      },
      "source": [
        "print(a[-1])    # 取得最後一個元素"
      ],
      "execution_count": null,
      "outputs": [
        {
          "output_type": "stream",
          "text": [
            "10\n"
          ],
          "name": "stdout"
        }
      ]
    },
    {
      "cell_type": "markdown",
      "metadata": {
        "id": "FZ-BdBjIZXt5"
      },
      "source": [
        "新增元素到串列的尾端，使用 `append()` 函式，範例如下："
      ]
    },
    {
      "cell_type": "code",
      "metadata": {
        "id": "_YbUU_8RZXt5",
        "outputId": "1c19bb66-976b-42c0-bfe2-5e31d9ad9cc4",
        "colab": {
          "base_uri": "https://localhost:8080/",
          "height": 34
        }
      },
      "source": [
        "b = []        # 起始一個空串列\n",
        "b.append(1)   # 添加3個元素到串列\n",
        "b.append(2)\n",
        "b.append(3)\n",
        "\n",
        "b"
      ],
      "execution_count": null,
      "outputs": [
        {
          "output_type": "execute_result",
          "data": {
            "text/plain": [
              "[1, 2, 3]"
            ]
          },
          "metadata": {
            "tags": []
          },
          "execution_count": 6
        }
      ]
    },
    {
      "cell_type": "markdown",
      "metadata": {
        "id": "ZZPbOes-ZXt9"
      },
      "source": [
        "要找出串列中最大值、最小值、總和，可以使用Python內建的計算函式。"
      ]
    },
    {
      "cell_type": "code",
      "metadata": {
        "id": "NVFPUz2GZXt9",
        "outputId": "f7400835-65b5-4fd1-92b3-d29c28c6388a",
        "colab": {
          "base_uri": "https://localhost:8080/",
          "height": 68
        }
      },
      "source": [
        "print('a串列的最大值：', max(a))\n",
        "print('a串列的最小值：', min(a))\n",
        "print('a串列的總和：', sum(a))"
      ],
      "execution_count": null,
      "outputs": [
        {
          "output_type": "stream",
          "text": [
            "a串列的最大值： 99\n",
            "a串列的最小值： 1\n",
            "a串列的總和： 152\n"
          ],
          "name": "stdout"
        }
      ]
    },
    {
      "cell_type": "markdown",
      "metadata": {
        "id": "rZpkAyEyZXuB"
      },
      "source": [
        "如果需要知道串列中的元素數目有多少個，呼叫 `len()` 函式。"
      ]
    },
    {
      "cell_type": "code",
      "metadata": {
        "id": "yXCkJs1uZXuB",
        "outputId": "c24c3892-d8ad-442c-f97a-1aac10c2362e",
        "colab": {
          "base_uri": "https://localhost:8080/",
          "height": 34
        }
      },
      "source": [
        "len(a)"
      ],
      "execution_count": null,
      "outputs": [
        {
          "output_type": "execute_result",
          "data": {
            "text/plain": [
              "10"
            ]
          },
          "metadata": {
            "tags": []
          },
          "execution_count": 8
        }
      ]
    },
    {
      "cell_type": "markdown",
      "metadata": {
        "id": "EZTlNUgcZXuE"
      },
      "source": [
        "串列提供的功能和函式還有很多，串列也是Python程式設計中常用到的資料型別。未來我們在需要用到的時候會適時介紹。"
      ]
    },
    {
      "cell_type": "markdown",
      "metadata": {
        "id": "35il5OfrZXuE"
      },
      "source": [
        "### 【任務4-2】用在邏輯判斷用的關係運算子與邏輯運算子\n",
        "\n",
        "![](https://drive.google.com/uc?export=view&id=15P0v0crxgxaozg6RbJBN-HQhkbF3W1G8)\n",
        "\n",
        "在程式語言的世界裡，\"是\"就是True，\"否\"是False。或者可能會描述為\"真/非真\"。\n",
        "\n",
        "#### 關係運算子\n",
        "\n",
        "下表中，檢查結果如果為\"是\"的話，結果為 `True`，反之為 `False`。\n",
        "\n",
        "|關係運算子|說明|範例|說明|\n",
        "|---|---|---|---|\n",
        "|>|大於|a>b|檢查是否a大於b|\n",
        "|>=|大於或等於|a>=b|檢查是否a大於或等於b|\n",
        "|<|小於|a<b|檢查是否a小於b|\n",
        "|<=|小於或等於|a<=b|檢查是否a小於或等於b|\n",
        "|==|等於|a==b|檢查是否a等於b|\n",
        "|!=|不等於|a!=b|檢查是否a不等於b|\n",
        "\n",
        "#### 邏輯運算子 `and, or , not`\n",
        "\n",
        "![](https://drive.google.com/uc?export=view&id=1DHWaZ8LZqeFyfcYfG5suXeCdwUmyhPAZ)\n",
        "\n",
        "所有`and, or , not` 邏輯運算結果的排列組合如下表：\n",
        "\n",
        "|條件A|邏輯運算子|條件B|邏輯運算結果|\n",
        "|---|---|---|---|\n",
        "|True|and|True|True|\n",
        "|True|and|False|False|\n",
        "|False|and|True|False|\n",
        "|False|and|False|False|\n",
        "\n",
        "|條件A|邏輯運算子|條件B|邏輯運算結果|\n",
        "|---|---|---|---|\n",
        "|True|or|True|True|\n",
        "|True|or|False|True|\n",
        "|False|or|True|True|\n",
        "|False|or|False|False|\n",
        "\n",
        "|邏輯運算子|條件|邏輯運算結果|\n",
        "|---|---|---|\n",
        "|not|True|False|\n",
        "|not|False|True|"
      ]
    },
    {
      "cell_type": "code",
      "metadata": {
        "id": "Eeqj8QUBZXuF",
        "outputId": "4fb57cb5-b9ee-4a4e-bcfe-6ec8d8edec42",
        "colab": {
          "base_uri": "https://localhost:8080/",
          "height": 34
        }
      },
      "source": [
        "(2 > 1) and (5 > 3)"
      ],
      "execution_count": null,
      "outputs": [
        {
          "output_type": "execute_result",
          "data": {
            "text/plain": [
              "True"
            ]
          },
          "metadata": {
            "tags": []
          },
          "execution_count": 9
        }
      ]
    },
    {
      "cell_type": "code",
      "metadata": {
        "id": "rIBIqurUZXuH",
        "outputId": "19c47bb9-4b69-4b2b-e91c-0182b36a6abb",
        "colab": {
          "base_uri": "https://localhost:8080/",
          "height": 34
        }
      },
      "source": [
        "(2 > 1) or (5 < 3) "
      ],
      "execution_count": null,
      "outputs": [
        {
          "output_type": "execute_result",
          "data": {
            "text/plain": [
              "True"
            ]
          },
          "metadata": {
            "tags": []
          },
          "execution_count": 10
        }
      ]
    },
    {
      "cell_type": "code",
      "metadata": {
        "id": "nx5cLMCEZXuK",
        "outputId": "244f2889-4b03-460b-91c0-fe29d2761c45",
        "colab": {
          "base_uri": "https://localhost:8080/",
          "height": 34
        }
      },
      "source": [
        "not (2 > 1) "
      ],
      "execution_count": null,
      "outputs": [
        {
          "output_type": "execute_result",
          "data": {
            "text/plain": [
              "False"
            ]
          },
          "metadata": {
            "tags": []
          },
          "execution_count": 11
        }
      ]
    },
    {
      "cell_type": "markdown",
      "metadata": {
        "id": "dULhOufUZXuN"
      },
      "source": [
        "![](https://drive.google.com/uc?export=view&id=1baGMMqqJeaEk1mxPb5KYhvCDwD9zwtUz)\n",
        "\n",
        "### 【小組合作時間】小鳥挑戰\n",
        "\n",
        "挑戰連結：[Blockly 遊戲 : 小鳥](https://blockly.games/bird?lang=zh-hant)\n",
        "\n",
        "時間：10分鐘\n",
        "\n",
        "題目：5, 7"
      ]
    },
    {
      "cell_type": "markdown",
      "metadata": {
        "id": "GVulvJf8ZXuO"
      },
      "source": [
        "### 【任務4-3】控制流程的 if 敍述\n",
        "\n",
        "假設每天早上從起床到學校，需要花40分鐘的時間。起床時間決定了能不能好好吃早餐，因而產生了下面的判斷流程。\n",
        "\n",
        "![](https://drive.google.com/uc?export=view&id=1TzJCVJrkMQu72gGDI8gFPrU5D_GANDjy)\n",
        "\n",
        "一個條件判斷，用口語來說像是 **「如果...(條件成立) 就...」**。\n",
        "\n",
        "```python\n",
        "if 條件式:\n",
        "    程式區塊\n",
        "```\n",
        "\n",
        "兩個條件判斷，用口語來說像是 **「如果...(條件成立) 就A，否則就B」**。\n",
        "\n",
        "```python\n",
        "if 條件式:\n",
        "    A程式區塊\n",
        "else:\n",
        "    B程式區塊\n",
        "```\n",
        "\n",
        "套用Python的語法，可以對應到能不能好好吃早餐的判斷流程。\n",
        "\n",
        "![](https://drive.google.com/uc?export=view&id=1oM30bi7E5DN1UOa2IUot0czXsJqFmCmq)"
      ]
    },
    {
      "cell_type": "code",
      "metadata": {
        "id": "ykOT0nPjZXuO",
        "outputId": "ca7e5854-9e95-4ffc-e392-7d446e926482",
        "colab": {
          "base_uri": "https://localhost:8080/",
          "height": 34
        }
      },
      "source": [
        "a, b = 10, 20\n",
        "\n",
        "if a > b:\n",
        "    print(a)\n",
        "else:\n",
        "    print(b)"
      ],
      "execution_count": null,
      "outputs": [
        {
          "output_type": "stream",
          "text": [
            "20\n"
          ],
          "name": "stdout"
        }
      ]
    },
    {
      "cell_type": "markdown",
      "metadata": {
        "id": "JeWxyF2FZXuR"
      },
      "source": [
        "上面程式範例的寫法可以簡化，一般稱為**三元運算 (ternary operation)**，這樣寫起來是否很簡潔呢\n",
        "\n",
        "```python\n",
        "如果為真的(True)結果 if [條件式] else 如果非真(False)結果\n",
        "```"
      ]
    },
    {
      "cell_type": "code",
      "metadata": {
        "id": "6ftYDzBwZXuS",
        "outputId": "e9e8f8ac-74b4-4452-9eb9-247a159f1053",
        "colab": {
          "base_uri": "https://localhost:8080/",
          "height": 34
        }
      },
      "source": [
        "a if a > b else b"
      ],
      "execution_count": null,
      "outputs": [
        {
          "output_type": "execute_result",
          "data": {
            "text/plain": [
              "20"
            ]
          },
          "metadata": {
            "tags": []
          },
          "execution_count": 13
        }
      ]
    },
    {
      "cell_type": "markdown",
      "metadata": {
        "id": "-8sMjasiZXuV"
      },
      "source": [
        "再優化比大小的程式，加入\"一樣大\"的可能性，我們可以用**多個條件判斷**的語法來寫。\n",
        "\n",
        "用口語來說像是 **「如果...(條件1成立) 就A，否則如果...(條件2成立) 就B，否則就C」**。\n",
        "\n",
        "```python\n",
        "if 條件式1:\n",
        "    A程式區塊\n",
        "elif 條件式2:\n",
        "    B程式區塊\n",
        "else:\n",
        "    C程式區塊\n",
        "```"
      ]
    },
    {
      "cell_type": "code",
      "metadata": {
        "id": "6150sD8WZXuV",
        "outputId": "32a71543-4538-4662-c692-66523a06340f",
        "colab": {
          "base_uri": "https://localhost:8080/",
          "height": 35
        }
      },
      "source": [
        "def 比大小(x, y):\n",
        "    if x > y:\n",
        "        # print(\"x大\")\n",
        "        return \"x大\"\n",
        "    elif x < y:\n",
        "        # print(\"y大\")\n",
        "        return \"y大\"\n",
        "    else:\n",
        "        # print(\"一樣大\")\n",
        "        return \"一樣大\"\n",
        "        \n",
        "比大小(10, 20)"
      ],
      "execution_count": null,
      "outputs": [
        {
          "output_type": "execute_result",
          "data": {
            "application/vnd.google.colaboratory.intrinsic+json": {
              "type": "string"
            },
            "text/plain": [
              "'y大'"
            ]
          },
          "metadata": {
            "tags": []
          },
          "execution_count": 14
        }
      ]
    },
    {
      "cell_type": "markdown",
      "metadata": {
        "id": "9mz0wd7QZXuY"
      },
      "source": [
        "下面的例子用到條件式裡面同時有關係運算子和邏輯運算子。這個例子的意思是只要骰子擲出1或6條件就為真(True)，也可以說在條件式裡面可以由多個條件組成。"
      ]
    },
    {
      "cell_type": "code",
      "metadata": {
        "id": "w7dE7EE4ZXuY",
        "outputId": "ae993a72-baae-4a38-c8d9-d07e8ef1b6f1",
        "colab": {
          "base_uri": "https://localhost:8080/",
          "height": 34
        }
      },
      "source": [
        "# 同學可以手動更改 dice 變數值，看看結果有什麼不同。\n",
        "dice = 1\n",
        "\n",
        "if dice == 6 or dice == 1:\n",
        "    print('運氣不錯，快去買樂透')\n",
        "else:\n",
        "    print('運氣普普，還是把買樂透的錢省下來吧')"
      ],
      "execution_count": null,
      "outputs": [
        {
          "output_type": "stream",
          "text": [
            "運氣不錯，快去買樂透\n"
          ],
          "name": "stdout"
        }
      ]
    },
    {
      "cell_type": "markdown",
      "metadata": {
        "id": "FAVyzUX6ZXub"
      },
      "source": [
        "### 【挑戰】請問琦玉是太胖還是太瘦\n",
        "\n",
        "BMI 計算公式：\n",
        "\n",
        "$BMI=\\Large\\frac{weight}{height^2}$\n",
        "\n",
        "其中體重的單位為公斤，身高的單位為公尺。\n",
        "\n",
        "依照國民健康署建議，以 BMI 來判斷肥胖程度的標準如下：\n",
        "\n",
        "|成人肥胖定義\t|BMI|\n",
        "|---|---|\n",
        "|體重過輕|\tBMI < 18.5\t |\n",
        "|健康體重|\t18.5 <= BMI < 24|\n",
        "|體重過重|24 <= BMI < 27|\n",
        "|肥胖|27 <= BMI|\n",
        "\n",
        "(資料來源：[https://www.hpa.gov.tw/Pages/Detail.aspx?nodeid=542&pid=9737](https://www.hpa.gov.tw/Pages/Detail.aspx?nodeid=542&pid=9737))\n",
        "\n",
        "![](https://drive.google.com/uc?export=view&id=13G26ywq5jXseofW5lX-aI7ssp4r6y9xW)\n",
        "\n",
        "琦玉的身高175公分，體重70公斤，依照國民健康署建議，請問琦玉的是體重過輕、健康體重、或是體重過重？\n",
        "\n",
        "請使用上週Python寫的BMI計算機，加入 `if... elif... else` 的判斷式，印出判斷的結果\n",
        "\n",
        "【提示】\n",
        "1. 可以考慮在原來的BMI計算函式中，加入判斷式，回傳判斷結果並印出，\n",
        "或是\n",
        "2. 原先的BMI計算函式不變，呼叫函式取得回傳值後，再進行判斷並印出。"
      ]
    },
    {
      "cell_type": "code",
      "metadata": {
        "id": "cik-mFASZXuc",
        "outputId": "48e28a3f-713c-4c9f-fbae-a52ed97e65d7",
        "colab": {
          "base_uri": "https://localhost:8080/",
          "height": 34
        }
      },
      "source": [
        "def BMI(weight, height):\n",
        "    return weight / height ** 2\n",
        "\n",
        "# 請在下一行開始輸入你的程式碼\n",
        "a = BMI (70,1.75)\n",
        "if a < 18.5 :\n",
        "  print('體重過輕')\n",
        "elif 18.5 <= a < 24 :\n",
        "  print('健康體重')\n",
        "elif 24 <= a < 27 :\n",
        "  print('體重過重')\n",
        "else : \n",
        "  27 <= a\n",
        "  print('肥胖')"
      ],
      "execution_count": null,
      "outputs": [
        {
          "output_type": "stream",
          "text": [
            "健康體重\n"
          ],
          "name": "stdout"
        }
      ]
    },
    {
      "cell_type": "markdown",
      "metadata": {
        "id": "2Idoo0d8ZXue"
      },
      "source": [
        "![](https://drive.google.com/uc?export=view&id=1baGMMqqJeaEk1mxPb5KYhvCDwD9zwtUz)\n",
        "\n",
        "### 【小組合作時間】迷宮挑戰\n",
        "\n",
        "挑戰連結：[Blockly 遊戲 : 迷宮](https://blockly.games/maze?lang=zh-hant)\n",
        "\n",
        "時間：10分鐘\n",
        "\n",
        "題目：8, 9\n",
        "\n",
        "額外挑戰：10\n",
        "\n",
        "目標：\n",
        "- 解開迷宮走法\n",
        "- 剩下的區塊愈多愈好"
      ]
    },
    {
      "cell_type": "markdown",
      "metadata": {
        "id": "3YoY51LnZXuf"
      },
      "source": [
        "### 【任務4-4】while迴圈\n",
        "\n",
        "`while` 是條件式仍成立時就重複執行的迴圈，條件式判斷運用到上面所提的關係運算子以及邏輯運算子。基本語法如下：\n",
        "\n",
        "```python\n",
        "while 條件式:\n",
        "    程式碼區塊\n",
        "```\n",
        "\n",
        "跟if... elif... else控制流程和for迴圈一樣，while迴圈裡面可以用 break 或 continue 來中斷迴圈或接續執行程式。"
      ]
    },
    {
      "cell_type": "code",
      "metadata": {
        "id": "7e-cBJX6ZXuf",
        "outputId": "42453c96-c392-404d-d9ba-06345bbc3164",
        "colab": {
          "base_uri": "https://localhost:8080/",
          "height": 85
        }
      },
      "source": [
        "greetings = ''\n",
        "\n",
        "while greetings != 'q':\n",
        "    print('請輸入問候語，按q停止：', greetings)\n",
        "    greetings = input()"
      ],
      "execution_count": null,
      "outputs": [
        {
          "output_type": "stream",
          "text": [
            "請輸入問候語，按q停止： \n",
            "hello\n",
            "請輸入問候語，按q停止： hello\n",
            "q\n"
          ],
          "name": "stdout"
        }
      ]
    },
    {
      "cell_type": "markdown",
      "metadata": {
        "id": "AzjnjhUpZXui"
      },
      "source": [
        "下面的例子是印出3次字串，要特別留意的是變數 i 做為計數器，一定要記得去增加它的值，要不然會變成永遠跑不完的**<font color='red'>無限迴圈</font>**。"
      ]
    },
    {
      "cell_type": "code",
      "metadata": {
        "id": "Xd9_DSKEZXui",
        "outputId": "1a40643e-8757-4052-b051-706ec9e706db",
        "colab": {
          "base_uri": "https://localhost:8080/",
          "height": 68
        }
      },
      "source": [
        "i = 0\n",
        "\n",
        "while i < 3:\n",
        "    print(\"hi\")\n",
        "    i+=1"
      ],
      "execution_count": null,
      "outputs": [
        {
          "output_type": "stream",
          "text": [
            "hi\n",
            "hi\n",
            "hi\n"
          ],
          "name": "stdout"
        }
      ]
    },
    {
      "cell_type": "markdown",
      "metadata": {
        "id": "bB-TQ_idZXul"
      },
      "source": [
        "### 【任務4-5】for迴圈\n",
        "\n",
        "`for`是用次數來控制重複次數的迴圈，常用來控制for迴圈次數的**可迭代物件**有前面介紹的串列(List)，以及下面要介紹的範圍(range)。\n",
        "\n",
        "for迴圈的基本語法如下：\n",
        "\n",
        "```python\n",
        "for 變數 in 可迭代物件:\n",
        "    程式碼區塊\n",
        "```\n",
        "\n",
        "跟`if... elif... else`控制流程和`while`迴圈一樣，`for`迴圈裡面可以用 `break` 或 `continue` 來中斷迴圈或接續執行程式。\n",
        "\n",
        "【註】還有其他不同型別也是可迭代物件，我們將在未來進行介紹。"
      ]
    },
    {
      "cell_type": "code",
      "metadata": {
        "id": "ZnSmbCAIZXul",
        "outputId": "fd803ced-67fa-4865-e261-0d132d94586e",
        "colab": {
          "base_uri": "https://localhost:8080/",
          "height": 221
        }
      },
      "source": [
        "zodiac = ['鼠', '牛', '虎', '兔', '龍', '蛇', \n",
        "          '馬', '羊', '猴', '雞', '狗', '豬']\n",
        "\n",
        "for i in zodiac:\n",
        "    print(i)"
      ],
      "execution_count": null,
      "outputs": [
        {
          "output_type": "stream",
          "text": [
            "鼠\n",
            "牛\n",
            "虎\n",
            "兔\n",
            "龍\n",
            "蛇\n",
            "馬\n",
            "羊\n",
            "猴\n",
            "雞\n",
            "狗\n",
            "豬\n"
          ],
          "name": "stdout"
        }
      ]
    },
    {
      "cell_type": "markdown",
      "metadata": {
        "id": "eLAHOG2uZXun"
      },
      "source": [
        "### 【想一想】如果要把這個迷官解答寫成Python程式碼，請問應該要怎麼寫？\n",
        "\n",
        "![](img/Maze09.png)"
      ]
    },
    {
      "cell_type": "code",
      "metadata": {
        "id": "D_2dP-E8ZXuo"
      },
      "source": [
        ""
      ],
      "execution_count": null,
      "outputs": []
    },
    {
      "cell_type": "markdown",
      "metadata": {
        "id": "NRmvXN7lZXuq"
      },
      "source": [
        "### 【任務4-6】好用的range三種用法\n",
        "\n",
        "需要重複某些指令時我們常設計迴圈來執行，有時候我們知道要重複的次數，就可以用範圍 `range` 類別來控制。\n",
        "\n",
        "`range(起始值start, 結束值stop, [跨步值step])` 類別的定義裡面有3個引數，start是範圍起始值，stop是範圍結束值，step則是各個值的區間。我們用三個範例來讓同學們了解 `range` 的用法。\n",
        "\n",
        "#### 用法一：`range(5)`\n",
        "\n",
        "`range(10)` 的意思是從 0 到 4 的範圍區間，由於 start 的預設值為 0，step的預設值為1，所以這個範圍的各個值是0, 1, 2, 3, 4。\n",
        "\n",
        "所以 5 代表的就是 stop 結束值，而特別要注意的是範圍是**<font color='red'>不包含</font>**結束值的，這是為什麼範圍的值只到 4。"
      ]
    },
    {
      "cell_type": "code",
      "metadata": {
        "id": "T3yH6m2nZXuq",
        "outputId": "9f5a663d-87ae-480d-d199-af8945146ca7",
        "colab": {
          "base_uri": "https://localhost:8080/",
          "height": 102
        }
      },
      "source": [
        "# 印5次顏文字(0到4)\n",
        "for i in range(5):\n",
        "    print(\"(≧▽≦)\")"
      ],
      "execution_count": null,
      "outputs": [
        {
          "output_type": "stream",
          "text": [
            "(≧▽≦)\n",
            "(≧▽≦)\n",
            "(≧▽≦)\n",
            "(≧▽≦)\n",
            "(≧▽≦)\n"
          ],
          "name": "stdout"
        }
      ]
    },
    {
      "cell_type": "markdown",
      "metadata": {
        "id": "RRKcrHSBZXut"
      },
      "source": [
        "#### 用法二：`range(3, 10)`\n",
        "\n",
        "如果我們把起始值改為3，結束值設為10，代表這個範圍是3, 4, 5, 6, 7, 8, 9。"
      ]
    },
    {
      "cell_type": "code",
      "metadata": {
        "id": "NOPQo_qNZXuu",
        "outputId": "c6349147-5142-4729-bc6e-bed1222d72f7",
        "colab": {
          "base_uri": "https://localhost:8080/",
          "height": 136
        }
      },
      "source": [
        "# 印7次顏文字(3到9)\n",
        "for i in range(3, 10):\n",
        "    print(\"*\\(^_^)/*\")"
      ],
      "execution_count": null,
      "outputs": [
        {
          "output_type": "stream",
          "text": [
            "*\\(^_^)/*\n",
            "*\\(^_^)/*\n",
            "*\\(^_^)/*\n",
            "*\\(^_^)/*\n",
            "*\\(^_^)/*\n",
            "*\\(^_^)/*\n",
            "*\\(^_^)/*\n"
          ],
          "name": "stdout"
        }
      ]
    },
    {
      "cell_type": "markdown",
      "metadata": {
        "id": "atVqovgpZXuw"
      },
      "source": [
        "#### 用法三：`range(0, 11, 2)`\n",
        "\n",
        "運用step值，我們用迴圈可以產生**等差數列**，下面的範例產生 0 - 10 的偶數數列。"
      ]
    },
    {
      "cell_type": "code",
      "metadata": {
        "id": "1DHnRkKdZXux",
        "outputId": "c3b8281f-b94f-491f-fa1d-2e470681485d",
        "colab": {
          "base_uri": "https://localhost:8080/",
          "height": 34
        }
      },
      "source": [
        "a = []\n",
        "\n",
        "for i in range(0, 11, 2):\n",
        "    a.append(i)\n",
        "    \n",
        "print(a)"
      ],
      "execution_count": null,
      "outputs": [
        {
          "output_type": "stream",
          "text": [
            "[0, 2, 4, 6, 8, 10]\n"
          ],
          "name": "stdout"
        }
      ]
    },
    {
      "cell_type": "markdown",
      "metadata": {
        "id": "UYCfzG4KZXuz"
      },
      "source": [
        "產生偶數數列還有更簡單的寫法，使用串列加上範圍，一行就可以了～"
      ]
    },
    {
      "cell_type": "code",
      "metadata": {
        "id": "zxCs_uwYZXuz",
        "outputId": "3f754406-7a2e-4128-e4c7-7674d240da82",
        "colab": {
          "base_uri": "https://localhost:8080/",
          "height": 34
        }
      },
      "source": [
        "list(range(0, 11, 2))"
      ],
      "execution_count": null,
      "outputs": [
        {
          "output_type": "execute_result",
          "data": {
            "text/plain": [
              "[0, 2, 4, 6, 8, 10]"
            ]
          },
          "metadata": {
            "tags": []
          },
          "execution_count": 23
        }
      ]
    },
    {
      "cell_type": "markdown",
      "metadata": {
        "id": "gSidI106ZXu2"
      },
      "source": [
        "### 【任務4-7】巢狀迴圈：用程式印九九乘法表\n",
        "\n",
        "`for` 和 `while` 迴圈可以是巢狀的，也就是迴圈裡面有迴圈。經典範例：用巢狀迴圈計算並印出九九乘法表。"
      ]
    },
    {
      "cell_type": "code",
      "metadata": {
        "id": "e3nby-nmZXu2",
        "outputId": "19409a4b-714c-4446-f039-bb0eabe8f9e0",
        "colab": {
          "base_uri": "https://localhost:8080/",
          "height": 170
        }
      },
      "source": [
        "# 請在下一行開始輸入你的程式碼\n",
        "for i in range(1, 10):        # 外迴圈：1到9\n",
        "    for j in range (1, 10):   # 內迴圈：1到9\n",
        "        '''\n",
        "        為了讓數字對齊，'{:2d}'讓印出時每個數字都是兩位數，不足兩位數的話則補空白。\n",
        "        end=' ' 的意思是印完不換行，但在每個數字後加一個空格隔開\n",
        "        '''\n",
        "        print('{:2d}'.format(i * j), end=' ')   \n",
        "\n",
        "    print()                   # 在每一橫行輸出後換行用"
      ],
      "execution_count": null,
      "outputs": [
        {
          "output_type": "stream",
          "text": [
            " 1  2  3  4  5  6  7  8  9 \n",
            " 2  4  6  8 10 12 14 16 18 \n",
            " 3  6  9 12 15 18 21 24 27 \n",
            " 4  8 12 16 20 24 28 32 36 \n",
            " 5 10 15 20 25 30 35 40 45 \n",
            " 6 12 18 24 30 36 42 48 54 \n",
            " 7 14 21 28 35 42 49 56 63 \n",
            " 8 16 24 32 40 48 56 64 72 \n",
            " 9 18 27 36 45 54 63 72 81 \n"
          ],
          "name": "stdout"
        }
      ]
    },
    {
      "cell_type": "markdown",
      "metadata": {
        "id": "_2steXRKZXu4"
      },
      "source": [
        "### 【挑戰】傳入不定數量的參數來呼叫函式\n",
        "\n",
        "計算每立方公分汙染物的顆數\n",
        "\n",
        "控制汙染已經成為全球共同面對的課題，科學家用電腦分析歷年的細懸浮微粒中汙染物質的資料，針對某個城市建立了一個汙染物質數量的模型：已知 1980 年時細懸浮微粒中汙染物質為 14000 (顆／立方公分)，1980 年後經過 t 年每立方公分汙染物的顆數為 P，其中\n",
        "\n",
        "$\\Large P＝1000t^{1.25} ＋14000$\n",
        "\n",
        "利用這個模型來計算2000年、2010年、2020年時每立方公分汙染物的顆數各為多少？\n",
        "\n",
        "需求：\n",
        "- 呼叫函式傳多個年份參數，將所有年份的汙染物顆數加入到List中。\n",
        "- List做為函式的回傳值，並印出回傳結果。"
      ]
    },
    {
      "cell_type": "code",
      "metadata": {
        "id": "x-8zj9QxZXu5"
      },
      "source": [
        "# 請在下一行開始輸入你的程式碼\n"
      ],
      "execution_count": null,
      "outputs": []
    },
    {
      "cell_type": "code",
      "metadata": {
        "id": "sNfgBrMtZXu-"
      },
      "source": [
        ""
      ],
      "execution_count": null,
      "outputs": []
    }
  ]
}