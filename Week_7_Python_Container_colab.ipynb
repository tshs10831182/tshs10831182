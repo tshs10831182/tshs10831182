{
  "nbformat": 4,
  "nbformat_minor": 0,
  "metadata": {
    "colab": {
      "name": "Week 7 Python Container-colab.ipynb",
      "provenance": [],
      "include_colab_link": true
    },
    "kernelspec": {
      "display_name": "Python 3",
      "language": "python",
      "name": "python3"
    },
    "language_info": {
      "codemirror_mode": {
        "name": "ipython",
        "version": 3
      },
      "file_extension": ".py",
      "mimetype": "text/x-python",
      "name": "python",
      "nbconvert_exporter": "python",
      "pygments_lexer": "ipython3",
      "version": "3.7.4"
    }
  },
  "cells": [
    {
      "cell_type": "markdown",
      "metadata": {
        "id": "view-in-github",
        "colab_type": "text"
      },
      "source": [
        "<a href=\"https://colab.research.google.com/github/tshs10831182/tshs10831182repo/blob/master/Week_7_Python_Container_colab.ipynb\" target=\"_parent\"><img src=\"https://colab.research.google.com/assets/colab-badge.svg\" alt=\"Open In Colab\"/></a>"
      ]
    },
    {
      "cell_type": "markdown",
      "metadata": {
        "id": "_4dgGRjEsJZ0"
      },
      "source": [
        "![](http://www.tshs.tp.edu.tw/images/bg/logo.jpg) \n",
        "\n",
        "## 多元選修課程：Python與人工智慧程式設計\n",
        "\n",
        "# 【第七週】Python容器(Container)型別\n",
        "\n",
        "Python提供數種不同的容器型別，來儲存不同類型的資料。各種不同的容器有其相似與不同之處，在操作和使用上也是。在先前的內容我們介紹過串列(List)，接下來要認識常用與重要的元組(Tuple)與字典(Dict)。"
      ]
    },
    {
      "cell_type": "markdown",
      "metadata": {
        "id": "-B-7PlTAsJZ2"
      },
      "source": [
        "### 【任務7-1】如何建立元組(Tuple)\n",
        "\n",
        "元組(Tuple)在使用上和串列類似，在語法上有一點小小的不同，元組是用小括號 `( )` 來包含元素。下面的例子是建立一個包含3個元素的元組，元素之間用逗號接續。"
      ]
    },
    {
      "cell_type": "code",
      "metadata": {
        "id": "SisC2T2PsJZ3",
        "outputId": "71d7f67f-7db0-4e42-cbe2-aadc19e5c8a2",
        "colab": {
          "base_uri": "https://localhost:8080/",
          "height": 35
        }
      },
      "source": [
        "t = (1, 2, 3, 4, 5)\n",
        "t"
      ],
      "execution_count": null,
      "outputs": [
        {
          "output_type": "execute_result",
          "data": {
            "text/plain": [
              "(1, 2, 3, 4, 5)"
            ]
          },
          "metadata": {
            "tags": []
          },
          "execution_count": 1
        }
      ]
    },
    {
      "cell_type": "markdown",
      "metadata": {
        "id": "e6gREGCusJZ8"
      },
      "source": [
        "呼叫 `type()` 函式可以看到 t 的型別為元組。"
      ]
    },
    {
      "cell_type": "code",
      "metadata": {
        "id": "nH42-liysJZ8",
        "outputId": "25370999-a12a-4c97-e9a9-875778b0f08a",
        "colab": {
          "base_uri": "https://localhost:8080/",
          "height": 35
        }
      },
      "source": [
        "type(t)"
      ],
      "execution_count": null,
      "outputs": [
        {
          "output_type": "execute_result",
          "data": {
            "text/plain": [
              "tuple"
            ]
          },
          "metadata": {
            "tags": []
          },
          "execution_count": 2
        }
      ]
    },
    {
      "cell_type": "markdown",
      "metadata": {
        "id": "l_F9-1ipsJZ_"
      },
      "source": [
        "[複習] 用 `len()` 函式查看元組中有3個元素。"
      ]
    },
    {
      "cell_type": "code",
      "metadata": {
        "id": "v50ZepecsJaA",
        "outputId": "a5a0f05c-f6be-433d-9eff-9a9d2976c509",
        "colab": {
          "base_uri": "https://localhost:8080/",
          "height": 35
        }
      },
      "source": [
        "len(t)"
      ],
      "execution_count": null,
      "outputs": [
        {
          "output_type": "execute_result",
          "data": {
            "text/plain": [
              "5"
            ]
          },
          "metadata": {
            "tags": []
          },
          "execution_count": 3
        }
      ]
    },
    {
      "cell_type": "markdown",
      "metadata": {
        "id": "CF466BexsJaD"
      },
      "source": [
        "元組跟串列一樣是可迭代的，若要取出元組中的每一個元素，其中一個方式是用 for 迴圈。"
      ]
    },
    {
      "cell_type": "code",
      "metadata": {
        "id": "pWY039lbsJaD",
        "outputId": "25418851-3999-4b99-b8b9-257862f6e8b6",
        "colab": {
          "base_uri": "https://localhost:8080/",
          "height": 108
        }
      },
      "source": [
        "for i in t:\n",
        "    print(i)"
      ],
      "execution_count": null,
      "outputs": [
        {
          "output_type": "stream",
          "text": [
            "1\n",
            "2\n",
            "3\n",
            "4\n",
            "5\n"
          ],
          "name": "stdout"
        }
      ]
    },
    {
      "cell_type": "markdown",
      "metadata": {
        "id": "VxWP_3nQsJaG"
      },
      "source": [
        "### <font color='blue'>【複習】你跟元組(Tuple)的第一次接觸</font>\n",
        "\n",
        "<font color='red'>回憶一下</font>，在9/25課程的\"【挑戰】傳入不定數量的參數來呼叫函式\"中，我們曾經嘗試設計一個函式來接收不定數量的參數來處理及計算各年份的汙染物顆數。\n",
        "\n",
        "> $\\Large P＝1000t^{1.25} ＋14000$\n",
        "\n",
        "> 利用這個公式來計算2000年、2010年、2020年時每立方公分汙染物的顆數各為多少？\n",
        "\n",
        "> 需求：\n",
        "> - 呼叫函式傳多個年份參數，將所有年份的汙染物顆數加入到List中。\n",
        "> - List做為函式的回傳值，並印出回傳結果。\n",
        "\n",
        "<font color='red'>下面的程式碼是參考解答，可以看到這邊允許多個引數的變數 `year` 即為 Tuple 型別。</font>Tuple跟串列一樣(List)，都是可迭代的，所以可以用範例中 for 迴圈的示範，把元組中的元素一一拿出來。"
      ]
    },
    {
      "cell_type": "code",
      "metadata": {
        "id": "TN_MMIg4sJaG",
        "outputId": "fc3bc39f-443b-4ee1-db5a-cf153eb59042",
        "colab": {
          "base_uri": "https://localhost:8080/",
          "height": 163
        }
      },
      "source": [
        "def cal_pollutants(*year):\n",
        "    P = []\n",
        "    \n",
        "    '''\n",
        "    year 的型別為元組(tuple)，在後面的單元會介紹\n",
        "    但在這邊的應用跟List的方面相當類似\n",
        "    也可以用在for迴圈\n",
        "    '''\n",
        "    for i in year:\n",
        "        t = i - 1980\n",
        "        P.append(1000 * (t ** 1.25) + 14000)\n",
        "    \n",
        "    return P\n",
        "\n",
        "# 印出List\n",
        "print(\"印出List\")\n",
        "print(cal_pollutants(2000, 2010, 2020), \"\\n\")\n",
        "\n",
        "# 也可以再把回傳List的資料值逐筆印出\n",
        "P = cal_pollutants(1980, 2000, 2010, 2020)   # 傳4個參數進去也可以\n",
        "\n",
        "print(\"逐筆印出\")\n",
        "\n",
        "for i in P:\n",
        "    print(i)"
      ],
      "execution_count": null,
      "outputs": [
        {
          "output_type": "stream",
          "text": [
            "印出List\n",
            "[56294.850537622566, 84210.41957962148, 114594.67437463484] \n",
            "\n",
            "逐筆印出\n",
            "14000.0\n",
            "56294.850537622566\n",
            "84210.41957962148\n",
            "114594.67437463484\n"
          ],
          "name": "stdout"
        }
      ]
    },
    {
      "cell_type": "markdown",
      "metadata": {
        "id": "8IGuVN62sJaJ"
      },
      "source": [
        "### 【任務7-2】學會元組的索引及切片(slicing)\n",
        "\n",
        "跟串列一樣，要取得元組中的元素，可以透過索引與切片。使用索引與切片時，記得要用<font color='red'>中刮號 `[ ]`</font>。"
      ]
    },
    {
      "cell_type": "code",
      "metadata": {
        "id": "WZJxubdKsJaK",
        "outputId": "5523553a-ea9f-4129-8c86-8f7197865615",
        "colab": {
          "base_uri": "https://localhost:8080/",
          "height": 35
        }
      },
      "source": [
        "# 取得索引值1的元素 (第2個元素) \n",
        "t[1]"
      ],
      "execution_count": null,
      "outputs": [
        {
          "output_type": "execute_result",
          "data": {
            "text/plain": [
              "2"
            ]
          },
          "metadata": {
            "tags": []
          },
          "execution_count": 6
        }
      ]
    },
    {
      "cell_type": "markdown",
      "metadata": {
        "id": "tZuMTPEIsJaN"
      },
      "source": [
        "元組的切片(slicing)是取得串列部分內容。可以透過給定特定範圍的索引取得。\n",
        "\n",
        "切片語法：\n",
        "```python\n",
        "元組名稱[起始值start:結束值stop:跨步值step]\n",
        "```\n",
        "\n",
        "想一想，下面元組切片的範例是不是似曾相識？對的，切片的用法跟串列的切片用法完全相同。"
      ]
    },
    {
      "cell_type": "code",
      "metadata": {
        "id": "cxoXcrqmsJaN",
        "outputId": "adc773ed-e95d-4649-9d71-570a6dfc8c4d",
        "colab": {
          "base_uri": "https://localhost:8080/",
          "height": 126
        }
      },
      "source": [
        "print(t[0:3])   # 索引值可以給範圍，範圍包含起始值但不包含結束值\n",
        "print(t[3:])    # 範圍可以指定某一個元素之後的所有元素\n",
        "print(t[:3])    # 範圍可以指定某一個元素之前的所有元素\n",
        "print(t[-3:])   # 取得後n個元素\n",
        "print(t[:-3])   # 不包含後n個元素\n",
        "print(t[0:5:2]) # 每隔一個索引的元素"
      ],
      "execution_count": null,
      "outputs": [
        {
          "output_type": "stream",
          "text": [
            "(1, 2, 3)\n",
            "(4, 5)\n",
            "(1, 2, 3)\n",
            "(3, 4, 5)\n",
            "(1, 2)\n",
            "(1, 3, 5)\n"
          ],
          "name": "stdout"
        }
      ]
    },
    {
      "cell_type": "markdown",
      "metadata": {
        "id": "NnD9Bp6fsJaQ"
      },
      "source": [
        "<font color='red'>重要！！！元組是**不可變的(immutable)**</font>，所以無法透過索引去改變元組中元素的值。如果嘗試這樣做時，執行時會產生錯誤。"
      ]
    },
    {
      "cell_type": "code",
      "metadata": {
        "id": "jp08S1AusJaQ",
        "outputId": "98753228-ce16-4d33-aa05-37509193929c",
        "colab": {
          "base_uri": "https://localhost:8080/",
          "height": 175
        }
      },
      "source": [
        "t[2] = 99"
      ],
      "execution_count": null,
      "outputs": [
        {
          "output_type": "error",
          "ename": "TypeError",
          "evalue": "ignored",
          "traceback": [
            "\u001b[0;31m---------------------------------------------------------------------------\u001b[0m",
            "\u001b[0;31mTypeError\u001b[0m                                 Traceback (most recent call last)",
            "\u001b[0;32m<ipython-input-9-17883baed432>\u001b[0m in \u001b[0;36m<module>\u001b[0;34m()\u001b[0m\n\u001b[0;32m----> 1\u001b[0;31m \u001b[0mt\u001b[0m\u001b[0;34m[\u001b[0m\u001b[0;36m2\u001b[0m\u001b[0;34m]\u001b[0m \u001b[0;34m=\u001b[0m \u001b[0;36m99\u001b[0m\u001b[0;34m\u001b[0m\u001b[0;34m\u001b[0m\u001b[0m\n\u001b[0m",
            "\u001b[0;31mTypeError\u001b[0m: 'tuple' object does not support item assignment"
          ]
        }
      ]
    },
    {
      "cell_type": "markdown",
      "metadata": {
        "id": "_dSp-V0EsJaT"
      },
      "source": [
        "### 【任務7-3】對元組進行 `+` 跟 `*` 會發生什麼事\n",
        "\n",
        "回想字串的 `+` 跟 `*`，對元組進行相同的操作也會得到相同的效果。"
      ]
    },
    {
      "cell_type": "code",
      "metadata": {
        "id": "OSo2m-xasJaT"
      },
      "source": [
        "t1 = (6, 7, 8, 9, 10)"
      ],
      "execution_count": null,
      "outputs": []
    },
    {
      "cell_type": "markdown",
      "metadata": {
        "id": "kw7jw5blsJaW"
      },
      "source": [
        "兩個元組進行 `+`，可以視為把兩個元組合併。先前提到元組是不可變的，但透過這個方式，我們可以做到可以把新的元素加到元組中。"
      ]
    },
    {
      "cell_type": "code",
      "metadata": {
        "id": "i6jpHN7QsJaW",
        "outputId": "2eea0f3c-c36c-4d8e-a80b-0212f85ff510",
        "colab": {
          "base_uri": "https://localhost:8080/",
          "height": 35
        }
      },
      "source": [
        "t = t + t1\n",
        "t"
      ],
      "execution_count": null,
      "outputs": [
        {
          "output_type": "execute_result",
          "data": {
            "text/plain": [
              "(1, 2, 3, 4, 5, 6, 7, 8, 9, 10)"
            ]
          },
          "metadata": {
            "tags": []
          },
          "execution_count": 11
        }
      ]
    },
    {
      "cell_type": "markdown",
      "metadata": {
        "id": "zPhZRSqusJaZ"
      },
      "source": [
        "把元組乘以2，也就是把元組元素重覆2次。"
      ]
    },
    {
      "cell_type": "code",
      "metadata": {
        "id": "Wir2PuPHsJaa",
        "outputId": "01110ca4-4118-45e9-fbaf-6cbdb1e7f95b",
        "colab": {
          "base_uri": "https://localhost:8080/",
          "height": 35
        }
      },
      "source": [
        "t3 = t * 2\n",
        "t3"
      ],
      "execution_count": null,
      "outputs": [
        {
          "output_type": "execute_result",
          "data": {
            "text/plain": [
              "(1, 2, 3, 4, 5, 6, 7, 8, 9, 10, 1, 2, 3, 4, 5, 6, 7, 8, 9, 10)"
            ]
          },
          "metadata": {
            "tags": []
          },
          "execution_count": 12
        }
      ]
    },
    {
      "cell_type": "markdown",
      "metadata": {
        "id": "jiI6zharsJad"
      },
      "source": [
        "特別要留意的是，如果要將單一元素加到另一個元組中，除了用小括號將該元素包起來之外，還要在元素後加一個逗號，這樣子Python就可以正確認得是要做元組的 `+`。"
      ]
    },
    {
      "cell_type": "code",
      "metadata": {
        "id": "xBC-BjPNsJad",
        "outputId": "b10f37f8-701a-4de3-8aa5-0b3a60d12372",
        "colab": {
          "base_uri": "https://localhost:8080/",
          "height": 35
        }
      },
      "source": [
        "t += (11,)\n",
        "t"
      ],
      "execution_count": null,
      "outputs": [
        {
          "output_type": "execute_result",
          "data": {
            "text/plain": [
              "(1, 2, 3, 4, 5, 6, 7, 8, 9, 10, 11)"
            ]
          },
          "metadata": {
            "tags": []
          },
          "execution_count": 13
        }
      ]
    },
    {
      "cell_type": "markdown",
      "metadata": {
        "id": "39PYF-E5sJag"
      },
      "source": [
        "### 【挑戰】休士頓火箭隊的死亡五小陣容，是不是真的很矮？\n",
        "\n",
        "NBA休士頓火箭隊在比賽中喜歡擺出先發死亡五小陣容來跟對手比快速輪轉及三分球。死亡五小的身高分別為：6呎3吋，6呎5吋，6呎6吋，6呎7吋，6呎5吋。\n",
        "\n",
        "挑戰內容：\n",
        "- 請用Python程式寫一個英呎/英吋轉換為公分的函式\n",
        "$$1英呎=12英吋$$\n",
        "$$1英吋=2.54公分$$\n",
        "- 將轉換為公分的身高，存到一個元組(Tuple)裡面(提示：元組是不可變的)\n",
        "- 計算元組中身高的平均值(提示：使用之前學過的 `sum()` 及 `len()` 函式，可以計算出總和與元素數目)\n",
        "\n",
        "問題：\n",
        "1. 請問死亡五小陣容的平均身高為幾公分？\n",
        "2. 依照NBA官網提供的數字，在2019-2020球季NBA球員的平均身高約為199.5公分。那死亡五小的身高跟全NBA球員的平均身高相比，是較高還是較矮？"
      ]
    },
    {
      "cell_type": "code",
      "metadata": {
        "id": "BJUVnrXJsJag"
      },
      "source": [
        "# 請在下一行開始輸入你的程式碼\n"
      ],
      "execution_count": null,
      "outputs": []
    },
    {
      "cell_type": "markdown",
      "metadata": {
        "id": "6xLp4podsJaj"
      },
      "source": [
        "### 【任務7-4】認識字典(dict)\n",
        "\n",
        "字典中，每一個元素都由鍵(key)和值(value)組成，鍵與值中間用冒號分隔，元素則用<font color='red'>大刮號 `{ }` </font>包起來。字典中的鍵(key)不能重複。\n",
        "\n",
        "語法如下：\n",
        "\n",
        "```python\n",
        "d={key1:value1, key2:value2}\n",
        "```\n",
        "\n",
        "也可以用下列的方式建立字典：\n",
        "\n",
        "```python\n",
        "d = dict(key1=value1, key2=value2)\n",
        "```"
      ]
    },
    {
      "cell_type": "code",
      "metadata": {
        "id": "VObQSN9fsJak"
      },
      "source": [
        "groceries = {'milk':960, 'apple':3, 'bread':10}"
      ],
      "execution_count": null,
      "outputs": []
    },
    {
      "cell_type": "markdown",
      "metadata": {
        "id": "EWV1YzfrsJam"
      },
      "source": [
        "要取得字典中單一元素的值，可以使用下列語法：\n",
        "\n",
        "```python\n",
        "字典名稱['鍵名稱']\n",
        "```"
      ]
    },
    {
      "cell_type": "code",
      "metadata": {
        "id": "1UwovwORsJam",
        "outputId": "1a4367a4-5cc8-409e-bee2-b08a08206691",
        "colab": {
          "base_uri": "https://localhost:8080/",
          "height": 35
        }
      },
      "source": [
        "groceries['apple']"
      ],
      "execution_count": null,
      "outputs": [
        {
          "output_type": "execute_result",
          "data": {
            "text/plain": [
              "3"
            ]
          },
          "metadata": {
            "tags": []
          },
          "execution_count": 16
        }
      ]
    },
    {
      "cell_type": "markdown",
      "metadata": {
        "id": "RHZ385KwsJap"
      },
      "source": [
        "字典很適合拿來做為儲存資料的方式，下面我們看到存放電影資訊的字典，可以看到在演員的值(value)用串列來存放多個演員的名字。"
      ]
    },
    {
      "cell_type": "code",
      "metadata": {
        "id": "xDjHOcaMsJaq",
        "outputId": "2db19d2f-777e-4a1f-92bf-4a8dc5c175a9",
        "colab": {
          "base_uri": "https://localhost:8080/",
          "height": 108
        }
      },
      "source": [
        "movie = {'name':'TENENT天能',                #電影名稱\n",
        "         'year':2020,                 #電影上映年份\n",
        "         'director':'克里斯多福·諾蘭',  #導演\n",
        "         'writer':'克里斯多福·諾蘭',    #編劇\n",
        "         'actors':['約翰·大衛·華盛頓', '羅伯·派汀森', '伊莉莎白·戴比基'],  #演員\n",
        "        }\n",
        "\n",
        "movie"
      ],
      "execution_count": null,
      "outputs": [
        {
          "output_type": "execute_result",
          "data": {
            "text/plain": [
              "{'actors': ['約翰·大衛·華盛頓', '羅伯·派汀森', '伊莉莎白·戴比基'],\n",
              " 'director': '克里斯多福·諾蘭',\n",
              " 'name': 'TENENT天能',\n",
              " 'writer': '克里斯多福·諾蘭',\n",
              " 'year': 2020}"
            ]
          },
          "metadata": {
            "tags": []
          },
          "execution_count": 17
        }
      ]
    },
    {
      "cell_type": "markdown",
      "metadata": {
        "id": "TDrqUGORsJas"
      },
      "source": [
        "### 【任務7-5】如何從字典中新增或刪除元素\n",
        "\n",
        "新增元素時，新增一組鍵/值的組合即可，語法如下：\n",
        "\n",
        "```python\n",
        "字典名稱['新的鍵']=值\n",
        "```"
      ]
    },
    {
      "cell_type": "code",
      "metadata": {
        "id": "IwdMgXp8sJat"
      },
      "source": [
        "groceries['juice']=1000"
      ],
      "execution_count": null,
      "outputs": []
    },
    {
      "cell_type": "markdown",
      "metadata": {
        "id": "66ek_rcKsJav"
      },
      "source": [
        "在字典內多了 juice 元素。"
      ]
    },
    {
      "cell_type": "code",
      "metadata": {
        "id": "RnMAxeOXsJav",
        "outputId": "8f54de3b-302b-4542-9b84-3a0956eaa001",
        "colab": {
          "base_uri": "https://localhost:8080/",
          "height": 35
        }
      },
      "source": [
        "groceries"
      ],
      "execution_count": null,
      "outputs": [
        {
          "output_type": "execute_result",
          "data": {
            "text/plain": [
              "{'apple': 3, 'bread': 10, 'juice': 1000, 'milk': 960}"
            ]
          },
          "metadata": {
            "tags": []
          },
          "execution_count": 19
        }
      ]
    },
    {
      "cell_type": "markdown",
      "metadata": {
        "id": "ee9L2kGosJa2"
      },
      "source": [
        "欲刪除元素時，透過呼叫 `pop()` 函式，傳入要刪除元素的鍵。"
      ]
    },
    {
      "cell_type": "code",
      "metadata": {
        "id": "5V6WzC1FsJa2",
        "outputId": "4f57c666-f7b3-483f-b6fb-9157f7a15684",
        "colab": {
          "base_uri": "https://localhost:8080/",
          "height": 35
        }
      },
      "source": [
        "groceries.pop('apple')"
      ],
      "execution_count": null,
      "outputs": [
        {
          "output_type": "execute_result",
          "data": {
            "text/plain": [
              "3"
            ]
          },
          "metadata": {
            "tags": []
          },
          "execution_count": 20
        }
      ]
    },
    {
      "cell_type": "markdown",
      "metadata": {
        "id": "ipDXEY0EsJa4"
      },
      "source": [
        "已將 apple 元素從字典中刪除。"
      ]
    },
    {
      "cell_type": "code",
      "metadata": {
        "id": "cetUPLNwsJa5",
        "outputId": "24f78270-1c8e-4538-8b41-2b90f84917f1",
        "colab": {
          "base_uri": "https://localhost:8080/",
          "height": 35
        }
      },
      "source": [
        "groceries"
      ],
      "execution_count": null,
      "outputs": [
        {
          "output_type": "execute_result",
          "data": {
            "text/plain": [
              "{'bread': 10, 'juice': 1000, 'milk': 960}"
            ]
          },
          "metadata": {
            "tags": []
          },
          "execution_count": 21
        }
      ]
    },
    {
      "cell_type": "markdown",
      "metadata": {
        "id": "BM394d6NsJa7"
      },
      "source": [
        "### 【試一試】如果字典的鍵(key)重複會發生什麼事\n",
        "\n",
        "1. Python會跳出錯誤\n",
        "2. 會有兩個鍵相同的元素\n",
        "3. 什麼事都不會發生\n",
        "4. 後面的值會取代前一個值"
      ]
    },
    {
      "cell_type": "code",
      "metadata": {
        "id": "vlUPCpnksJa7"
      },
      "source": [
        "# 請寫下你的答案\n"
      ],
      "execution_count": null,
      "outputs": []
    },
    {
      "cell_type": "markdown",
      "metadata": {
        "id": "7xoDLrArsJa_"
      },
      "source": [
        "### 【任務7-6】想要取出字典中的鍵(key)與值(value)該怎麼做\n",
        "\n",
        "字典是可迭代的，但由於字典元素包含了鍵與值，所以要迭代取出所有鍵與值的方式略有不同。先使用 `items()` 函式取後字典的視圖(view)，再逐筆印出各個鍵與值。"
      ]
    },
    {
      "cell_type": "code",
      "metadata": {
        "id": "ZhykmuujsJa_",
        "outputId": "de22fc0c-00c2-4fde-a9e8-c82c0947e022",
        "colab": {
          "base_uri": "https://localhost:8080/",
          "height": 72
        }
      },
      "source": [
        "for keys, values in groceries.items():\n",
        "    print(keys, values)"
      ],
      "execution_count": null,
      "outputs": [
        {
          "output_type": "stream",
          "text": [
            "milk 960\n",
            "bread 10\n",
            "juice 1000\n"
          ],
          "name": "stdout"
        }
      ]
    },
    {
      "cell_type": "markdown",
      "metadata": {
        "id": "eX13_BnxsJbC"
      },
      "source": [
        "若想要知道字典中所有的鍵或所有的值，可以透過 `keys()` 與 `values()` 函式。"
      ]
    },
    {
      "cell_type": "code",
      "metadata": {
        "id": "gqAANFcwsJbD",
        "outputId": "2bb3cf63-360f-4acc-fbc1-55504ddb6e24",
        "colab": {
          "base_uri": "https://localhost:8080/",
          "height": 35
        }
      },
      "source": [
        "groceries.keys()"
      ],
      "execution_count": null,
      "outputs": [
        {
          "output_type": "execute_result",
          "data": {
            "text/plain": [
              "dict_keys(['milk', 'bread', 'juice'])"
            ]
          },
          "metadata": {
            "tags": []
          },
          "execution_count": 23
        }
      ]
    },
    {
      "cell_type": "code",
      "metadata": {
        "id": "j0aJrQLlsJbF",
        "outputId": "c2e350b9-d105-4d56-cfef-6c2b48e59e29",
        "colab": {
          "base_uri": "https://localhost:8080/",
          "height": 35
        }
      },
      "source": [
        "groceries.values()"
      ],
      "execution_count": null,
      "outputs": [
        {
          "output_type": "execute_result",
          "data": {
            "text/plain": [
              "dict_values([960, 10, 1000])"
            ]
          },
          "metadata": {
            "tags": []
          },
          "execution_count": 24
        }
      ]
    },
    {
      "cell_type": "markdown",
      "metadata": {
        "id": "SFIJB6PZsJbH"
      },
      "source": [
        "### 【挑戰】用字典來儲存與計算死亡五小的平均身高\n",
        "\n",
        "NBA休士頓火箭隊在比賽中喜歡擺出先發死亡五小陣容來跟對手比快速輪轉及三分球。死亡五小的身高分別為：190.5, 195.58, 198.12, 200.66, 195.58公分。\n",
        "\n",
        "挑戰內容：\n",
        "- 死亡五小的名字與身高已經用一個字典儲存，請先取出字典中的值(提示：`values()`)。\n",
        "- 用 for 迴圈迭代一一取出字典中的值，即為身高。\n",
        "- 計算身高的平均值(提示：使用之前學過的 `sum()` 及 `len()` 函式，可以計算出總和與元素數目)。\n",
        "\n",
        "問題：請用Python程式計算死亡五小陣容的平均身高"
      ]
    },
    {
      "cell_type": "code",
      "metadata": {
        "id": "Z3r3Q08xsJbH",
        "outputId": "af6de2a7-dd13-46b0-d770-e0abafd20b6f",
        "colab": {
          "base_uri": "https://localhost:8080/",
          "height": 35
        }
      },
      "source": [
        "# 建立一個有4組key-value的字典\n",
        "# 在這裡key是球員名稱，value是身高\n",
        "Hampton5 = {'龜龜':190.5, '大鬍子':195.58, '塔克':195.58, 'Covington':200.66}\n",
        "# 加入第5個球員\n",
        "Hampton5['豪斯']=198.12\n",
        "\n",
        "print(Hampton5)"
      ],
      "execution_count": null,
      "outputs": [
        {
          "output_type": "stream",
          "text": [
            "{'龜龜': 190.5, '大鬍子': 195.58, '塔克': 195.58, 'Covington': 200.66, '豪斯': 198.12}\n"
          ],
          "name": "stdout"
        }
      ]
    },
    {
      "cell_type": "code",
      "metadata": {
        "id": "IFFU3VOKsJbJ"
      },
      "source": [
        "# 請在下一行開始輸入你的程式碼\n"
      ],
      "execution_count": null,
      "outputs": []
    },
    {
      "cell_type": "markdown",
      "metadata": {
        "id": "3cEuZSFJsJbM"
      },
      "source": [
        "### <font color='blue'>【複習】我們已經學過3種常用的容器型別，還記得嗎？</font>\n",
        "\n",
        "Python各種容器型別有其相似與不同之處，在操作和使用上也是，下表列出已經學過的串列、元組、字典等容器，同學們可以比較與複習。\n",
        "\n",
        "|容器型別|語法範例|括號|迭代|是否可變(mutable)|\n",
        "|---|---|---|---|---|\n",
        "|串列(List)|a=[1, 2, 3]|中括號|可迭代|可變|\n",
        "|元組(Tuple)|a=(1, 2, 3)|小括號|可迭代|<font color='red'>不可變</font>(immutable)|\n",
        "|字典(Dict)|a={key1:value1, key2:value2}|大括號|可迭代|可變|"
      ]
    },
    {
      "cell_type": "markdown",
      "metadata": {
        "id": "A0KXF75TsJbM"
      },
      "source": [
        "Python跟很多程式語言一樣，均有內建的陣列(Array)型別。不過在Python社群和AI程式設計領域中，更強大與更受歡迎的是 NumPy 陣列，接下來我們來初步認識 NumPy 套件。\n",
        "\n",
        "<img width=150 src=\"https://upload.wikimedia.org/wikipedia/commons/thumb/1/1a/NumPy_logo.svg/200px-NumPy_logo.svg.png\"></img>\n",
        "\n",
        "### 【任務7-7】初探NumPy陣列\n",
        "\n",
        "NumPy 是廣受歡迎的 open source Python 程式庫，支援多維度陣列與矩陣運算，也針對陣列運算提供大量的數學函式庫。\n",
        "\n",
        "NumPy 的核心是由 C 語言開發，所以在陣列與矩陣運算時具有高效能的特性。\n",
        "\n",
        "2019 年時 GitHub 統計指出有 74% 的機器學習專案中使用 NumPy。"
      ]
    },
    {
      "cell_type": "code",
      "metadata": {
        "id": "fGXWz06msJbN"
      },
      "source": [
        "# Colab 已經預先安裝 NumPy，所以只要輸入 import 就可以使用。\n",
        "import numpy as np"
      ],
      "execution_count": null,
      "outputs": []
    },
    {
      "cell_type": "markdown",
      "metadata": {
        "id": "2FzH53tMsJbP"
      },
      "source": [
        "使用 `array()` 函式，可將串列或元組 (tuple) 的值建立為 NumPy array。"
      ]
    },
    {
      "cell_type": "code",
      "metadata": {
        "id": "5EQ2r47WsJbP"
      },
      "source": [
        "# 使用 list\n",
        "a = np.array([1, 2, 3, 4, 5])\n",
        "# 使用元組\n",
        "b = np.array((6, 7, 8))"
      ],
      "execution_count": null,
      "outputs": []
    },
    {
      "cell_type": "code",
      "metadata": {
        "id": "g_tWwdKesJbS",
        "outputId": "1fec4945-65a1-4dda-e316-f46ac3439d12",
        "colab": {
          "base_uri": "https://localhost:8080/",
          "height": 54
        }
      },
      "source": [
        "print(a)\n",
        "print(b)"
      ],
      "execution_count": null,
      "outputs": [
        {
          "output_type": "stream",
          "text": [
            "[1 2 3 4 5]\n",
            "[6 7 8]\n"
          ],
          "name": "stdout"
        }
      ]
    },
    {
      "cell_type": "markdown",
      "metadata": {
        "id": "5bNnQ7sCsJbU"
      },
      "source": [
        "要建立多維陣列，簡單的理解方式就是陣列中的元素也是陣列，呼叫 `array()` 函式時，只要將 list 中的元素也是 list 傳入即可。下面的例子是建立二維陣列。"
      ]
    },
    {
      "cell_type": "code",
      "metadata": {
        "id": "fEKz9HHBsJbV",
        "outputId": "b6f9fe19-4058-473c-fa77-f7461b76b5f3",
        "colab": {
          "base_uri": "https://localhost:8080/",
          "height": 54
        }
      },
      "source": [
        "a = np.array([[1, 2, 3], [4, 5, 6]])\n",
        "print(a)"
      ],
      "execution_count": null,
      "outputs": [
        {
          "output_type": "stream",
          "text": [
            "[[1 2 3]\n",
            " [4 5 6]]\n"
          ],
          "name": "stdout"
        }
      ]
    },
    {
      "cell_type": "markdown",
      "metadata": {
        "id": "s37TH3qXsJbY"
      },
      "source": [
        "使用 `shape` 屬性，可以查看多維陣列的形狀。如下例 a 陣列是一個 2 $\\times$ 3 的二維陣列。"
      ]
    },
    {
      "cell_type": "code",
      "metadata": {
        "id": "J9GILDp-sJbY",
        "outputId": "f5cc9878-85a0-4a71-b3e1-b6dee0f26f5b",
        "colab": {
          "base_uri": "https://localhost:8080/",
          "height": 35
        }
      },
      "source": [
        "a.shape"
      ],
      "execution_count": null,
      "outputs": [
        {
          "output_type": "execute_result",
          "data": {
            "text/plain": [
              "(2, 3)"
            ]
          },
          "metadata": {
            "tags": []
          },
          "execution_count": 30
        }
      ]
    },
    {
      "cell_type": "markdown",
      "metadata": {
        "id": "5BJ3a3L9sJba"
      },
      "source": [
        "若要建立二維陣列，也可以用 `reshape()` 函式，將一維陣列轉換為二維陣列。但這邊要注意的是，`reshape()` 引數中的維度乘積要等於要轉換前的元素數目。例如，有6個元素的一維陣列，可以重塑為 2 $\\times$ 3 或是 3 $\\times$ 2 的二維陣列。"
      ]
    },
    {
      "cell_type": "code",
      "metadata": {
        "id": "bMRuyaJ3sJbb",
        "outputId": "b0476271-5cad-4bc0-a3f2-ac8e1b40d9f4",
        "colab": {
          "base_uri": "https://localhost:8080/",
          "height": 35
        }
      },
      "source": [
        "a = np.array([1, 2, 3, 4, 5, 6])\n",
        "len(a)   # 用 len() 函式算出元素數目"
      ],
      "execution_count": null,
      "outputs": [
        {
          "output_type": "execute_result",
          "data": {
            "text/plain": [
              "6"
            ]
          },
          "metadata": {
            "tags": []
          },
          "execution_count": 31
        }
      ]
    },
    {
      "cell_type": "code",
      "metadata": {
        "id": "W-5UpIypsJbd",
        "outputId": "bf21f55a-e917-4e9b-dbc9-155b31c15764",
        "colab": {
          "base_uri": "https://localhost:8080/",
          "height": 54
        }
      },
      "source": [
        "a.reshape(2, 3)"
      ],
      "execution_count": null,
      "outputs": [
        {
          "output_type": "execute_result",
          "data": {
            "text/plain": [
              "array([[1, 2, 3],\n",
              "       [4, 5, 6]])"
            ]
          },
          "metadata": {
            "tags": []
          },
          "execution_count": 32
        }
      ]
    },
    {
      "cell_type": "markdown",
      "metadata": {
        "id": "aQE2-GxGsJbf"
      },
      "source": [
        "### 【任務7-8】NumPy陣列的四則運算\n",
        "\n",
        "陣列的加減乘除四則運算，可以使用運算子 (+, -, *, /) 或是呼叫函式來進行，語法及對照如下表：\n",
        "\n",
        "|運算子|函式||\n",
        "|---|---|---|\n",
        "|a + b |np.add(a, b)|加法|\n",
        "|a - b |np.substract(a, b)|減法|\n",
        "|a * b |np.multiply(a, b)|乘法|\n",
        "|a / b |np.divide(a, b)|除法|\n",
        "|a % b |np.mod(a, b)|求餘數|\n",
        "\n",
        "以上運算子的部分，使用與 Python 相同的運算子。\n",
        "\n",
        "運算的時候，陣列的形狀 (shape) 必須相同。\n",
        "\n",
        "下面的範例是兩個陣列形狀完全相同的情況下，進行相加。"
      ]
    },
    {
      "cell_type": "code",
      "metadata": {
        "id": "JytBTDwpsJbg",
        "outputId": "01130227-778c-4ce5-894e-462e4e308d0a",
        "colab": {
          "base_uri": "https://localhost:8080/",
          "height": 35
        }
      },
      "source": [
        "a = np.array([1, 2, 3, 4, 5])\n",
        "b = np.array([1, 2, 3, 4, 5])\n",
        "a + b"
      ],
      "execution_count": null,
      "outputs": [
        {
          "output_type": "execute_result",
          "data": {
            "text/plain": [
              "array([ 2,  4,  6,  8, 10])"
            ]
          },
          "metadata": {
            "tags": []
          },
          "execution_count": 33
        }
      ]
    },
    {
      "cell_type": "code",
      "metadata": {
        "id": "dPTr_rNisJbj",
        "outputId": "40ffe6bb-d71a-48b0-bbd2-2e9a48807c27",
        "colab": {
          "base_uri": "https://localhost:8080/",
          "height": 35
        }
      },
      "source": [
        "np.add(a, b)"
      ],
      "execution_count": null,
      "outputs": [
        {
          "output_type": "execute_result",
          "data": {
            "text/plain": [
              "array([ 2,  4,  6,  8, 10])"
            ]
          },
          "metadata": {
            "tags": []
          },
          "execution_count": 34
        }
      ]
    },
    {
      "cell_type": "markdown",
      "metadata": {
        "id": "hViAM8O4sJbl"
      },
      "source": [
        "### 【任務7-9】NumPy陣列廣播(Broadcasting)\n",
        "\n",
        "廣播是非常方便的機制，在做運算時只要符合廣播規則，NumPy陣列就會自動執行element-wise的計算。\n",
        "\n",
        "簡單來說，如果可以將較小的陣列形狀，擴大到較大陣列的形狀相同，就可以進行廣播。\n",
        "\n",
        "廣播的規則如下：\n",
        "1. 陣列與純量進行運算\n",
        "2. 其中一個維度為1的話\n",
        "\n",
        "如果符合上面規則，而且較小的陣列可以擴大到與較大陣列的形狀相同的話，就可以成功完成廣播；否則會產生錯誤。"
      ]
    },
    {
      "cell_type": "markdown",
      "metadata": {
        "id": "0w50Hz9vsJbm"
      },
      "source": [
        "例如：陣列 [1, 2, 3] 與整數2相乘時，會先將整數2擴大為 [2, 2, 2] 讓形狀相同，再進行相乘。"
      ]
    },
    {
      "cell_type": "code",
      "metadata": {
        "id": "C6Jre-sDsJbn",
        "outputId": "fe94426d-13c5-42d1-e53d-4140026a266c",
        "colab": {
          "base_uri": "https://localhost:8080/",
          "height": 35
        }
      },
      "source": [
        "a = np.array([1, 2, 3])\n",
        "b = 2\n",
        "a*b"
      ],
      "execution_count": null,
      "outputs": [
        {
          "output_type": "execute_result",
          "data": {
            "text/plain": [
              "array([2, 4, 6])"
            ]
          },
          "metadata": {
            "tags": []
          },
          "execution_count": 35
        }
      ]
    },
    {
      "cell_type": "markdown",
      "metadata": {
        "id": "erhKCirDsJbp"
      },
      "source": [
        "下面用三維陣列來做說明上述第2個規則。\n",
        "\n",
        "`arange()` 函式是用來產生等差數列的陣列。`np.arange(6)` 會產生 [0, 1, 2, 3, 4, 5] 的陣列。"
      ]
    },
    {
      "cell_type": "code",
      "metadata": {
        "id": "fQ3xuDfQsJbp"
      },
      "source": [
        "a = np.arange(12).reshape(2, 2, 3)\n",
        "b = np.arange(6).reshape(2, 1, 3)"
      ],
      "execution_count": null,
      "outputs": []
    },
    {
      "cell_type": "code",
      "metadata": {
        "id": "yeWnPKiZsJbt",
        "outputId": "0edd27a3-4d9c-45ab-a9d6-28dd1287aad4",
        "colab": {
          "base_uri": "https://localhost:8080/",
          "height": 108
        }
      },
      "source": [
        "a + b"
      ],
      "execution_count": null,
      "outputs": [
        {
          "output_type": "execute_result",
          "data": {
            "text/plain": [
              "array([[[ 0,  2,  4],\n",
              "        [ 3,  5,  7]],\n",
              "\n",
              "       [[ 9, 11, 13],\n",
              "        [12, 14, 16]]])"
            ]
          },
          "metadata": {
            "tags": []
          },
          "execution_count": 37
        }
      ]
    },
    {
      "cell_type": "markdown",
      "metadata": {
        "id": "lco-L9UDsJbw"
      },
      "source": [
        "### 【任務7-10】軸與維度\n",
        "\n",
        "軸 (axis) 在 NumPy 多維陣列中是很重要觀念，但是在應用上容易混淆。軸的數目也就是 NumPy 陣列的維度 (dimension) 數，軸的順序編號從 0 開始，下面例子用圖示來解說。"
      ]
    },
    {
      "cell_type": "markdown",
      "metadata": {
        "id": "qPnH6ubAsJbw"
      },
      "source": [
        "對一維陣列來說，只有一個軸，所以 axis 為 0。"
      ]
    },
    {
      "cell_type": "code",
      "metadata": {
        "id": "jyvBHs9MsJbx",
        "outputId": "c2a32cf5-0413-47cb-82f4-e4859d388f99",
        "colab": {
          "base_uri": "https://localhost:8080/",
          "height": 35
        }
      },
      "source": [
        "a = np.array([1, 2, 3])\n",
        "a"
      ],
      "execution_count": null,
      "outputs": [
        {
          "output_type": "execute_result",
          "data": {
            "text/plain": [
              "array([1, 2, 3])"
            ]
          },
          "metadata": {
            "tags": []
          },
          "execution_count": 38
        }
      ]
    },
    {
      "cell_type": "markdown",
      "metadata": {
        "id": "OXzFJoiGsJby"
      },
      "source": [
        "以圖示來說明一維陣列的軸。\n",
        "\n",
        "![](https://drive.google.com/uc?export=view&id=1FxxGRqmPmXnl8rhrfxeuMNwv8rFRyZpl)"
      ]
    },
    {
      "cell_type": "markdown",
      "metadata": {
        "id": "6ipjJOVfsJbz"
      },
      "source": [
        "二維陣列會有 2 個軸。二維陣列的軸 0 就是沿著 row 的軸，而軸 1 是沿著 column 的軸。"
      ]
    },
    {
      "cell_type": "code",
      "metadata": {
        "id": "1M-CoLyrsJbz",
        "outputId": "091e763b-2cec-4200-ae19-2ee61c473918",
        "colab": {
          "base_uri": "https://localhost:8080/",
          "height": 72
        }
      },
      "source": [
        "a = np.arange(6).reshape(3, 2)\n",
        "a"
      ],
      "execution_count": null,
      "outputs": [
        {
          "output_type": "execute_result",
          "data": {
            "text/plain": [
              "array([[0, 1],\n",
              "       [2, 3],\n",
              "       [4, 5]])"
            ]
          },
          "metadata": {
            "tags": []
          },
          "execution_count": 39
        }
      ]
    },
    {
      "cell_type": "markdown",
      "metadata": {
        "id": "LkpqloFtsJb2"
      },
      "source": [
        "以圖示來說明二維陣列的軸。\n",
        "\n",
        "![](https://drive.google.com/uc?export=view&id=1ezJEkT9mUEmSBIFEsfQRIgnYNU7MzUJ7)"
      ]
    },
    {
      "cell_type": "markdown",
      "metadata": {
        "id": "1B6zDGk-sJb2"
      },
      "source": [
        "### 【任務7-11】點積(Dot Product)\n",
        "\n",
        "點積是AI程式設計中常會用到的運算，點積運算時須遵循的規則說明如下：\n",
        "\n",
        "進行點積運算須注意形狀必須注意形狀 (shape)。若是兩個向量的點積，兩個向量的元素數目也須相同，或其中一個數目為 1 (廣播)。\n",
        "\n",
        "若是兩個多維陣列 (矩陣) 的點積，則中間兩個大小要相同才能進行點積，例如：\n",
        "\n",
        "$(2, 3) \\cdot (3, 4) \\to $ 成為 $(2, 4)$\n",
        "\n",
        "點積的運算如下，假設 A 和 B：\n",
        "\n",
        "$ A = \n",
        "\\begin{bmatrix}\n",
        "a_{11} & a_{12} & a_{13}\\\\\n",
        "a_{21} & a_{22} & a_{23}\n",
        "\\end{bmatrix}\n",
        "$\n",
        "\n",
        "$ B =\n",
        "\\begin{bmatrix}\n",
        "b_{11} & b_{12} & b_{13} & b_{14}\\\\\n",
        "b_{21} & b_{22} & b_{23} & b_{24}\\\\\n",
        "b_{31} & b_{32} & b_{33} & b_{34}\n",
        "\\end{bmatrix}\n",
        "$\n",
        "\n",
        "兩個矩陣進行點積\n",
        "\n",
        "![](https://drive.google.com/uc?export=view&id=1xU8EWMn4HT0M0R3Y1ABX-SEklwvMU6Xo)"
      ]
    },
    {
      "cell_type": "code",
      "metadata": {
        "id": "q7wSDd8gsJb2"
      },
      "source": [
        "A = np.arange(6).reshape(2, 3)\n",
        "B = np.arange(12).reshape(3, 4)"
      ],
      "execution_count": null,
      "outputs": []
    },
    {
      "cell_type": "code",
      "metadata": {
        "id": "aIEHGZSNsJb4",
        "outputId": "bc816866-11e1-4e8d-9f09-c1cbfae15681",
        "colab": {
          "base_uri": "https://localhost:8080/",
          "height": 108
        }
      },
      "source": [
        "print(A)\n",
        "print(B)"
      ],
      "execution_count": null,
      "outputs": [
        {
          "output_type": "stream",
          "text": [
            "[[0 1 2]\n",
            " [3 4 5]]\n",
            "[[ 0  1  2  3]\n",
            " [ 4  5  6  7]\n",
            " [ 8  9 10 11]]\n"
          ],
          "name": "stdout"
        }
      ]
    },
    {
      "cell_type": "code",
      "metadata": {
        "id": "t63IM-51sJb7",
        "outputId": "2c7c12ae-90b2-45bb-b2d1-4542e2d536b6",
        "colab": {
          "base_uri": "https://localhost:8080/",
          "height": 54
        }
      },
      "source": [
        "np.dot(A, B)"
      ],
      "execution_count": null,
      "outputs": [
        {
          "output_type": "execute_result",
          "data": {
            "text/plain": [
              "array([[20, 23, 26, 29],\n",
              "       [56, 68, 80, 92]])"
            ]
          },
          "metadata": {
            "tags": []
          },
          "execution_count": 42
        }
      ]
    },
    {
      "cell_type": "markdown",
      "metadata": {
        "id": "XOniN_jpsJb9"
      },
      "source": [
        "### 【挑戰】用NumPy陣列來儲存與計算死亡五小的平均身高\n",
        "\n",
        "死亡五小的身高分別為：190.5, 195.58, 198.12, 200.66, 195.58公分。\n",
        "\n",
        "挑戰內容：\n",
        "- 建立一個NumPy陣列，其中的元素值為死亡五小的身高。\n",
        "- 呼叫 NumPy 提供的計算平均數函式，計算死亡五小的平均身高。\n",
        "\n",
        "平均數函式基本語法如下：\n",
        "\n",
        "```python\n",
        "np.average(NumPy陣列名稱)\n",
        "```"
      ]
    },
    {
      "cell_type": "code",
      "metadata": {
        "id": "NuBUcJWmsJb9"
      },
      "source": [
        "# 請在下一行開始輸入你的程式碼\n"
      ],
      "execution_count": null,
      "outputs": []
    }
  ]
}